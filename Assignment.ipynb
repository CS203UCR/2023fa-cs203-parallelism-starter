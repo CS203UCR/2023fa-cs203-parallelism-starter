{
 "cells": [
  {
   "cell_type": "code",
   "execution_count": 3,
   "metadata": {
    "deletable": false,
    "editable": false,
    "init_cell": true,
    "tags": []
   },
   "outputs": [
    {
     "data": {
      "text/html": [
       "<style>div.prompt, code, output, prompt, kbd, pre, samp {font-family: 'SF Mono', 'Courier New', Courier, monospace, sans-serif !important;}</style>"
      ],
      "text/plain": [
       "<IPython.core.display.HTML object>"
      ]
     },
     "metadata": {},
     "output_type": "display_data"
    },
    {
     "name": "stdout",
     "output_type": "stream",
     "text": [
      "Done loading notebook! We're good to go!\n"
     ]
    }
   ],
   "source": [
    "%load_ext autoreload\n",
    "%autoreload 2\n",
    "from notebook import *\n",
    "# if get something about NUMEXPR_MAX_THREADS being set incorrectly, don't worry.  It's not a problem."
   ]
  },
  {
   "cell_type": "markdown",
   "metadata": {
    "cs203.is_response": true,
    "deletable": false,
    "editable": true,
    "tags": []
   },
   "source": [
    "<div class=\"namebox\">    \n",
    "Double Click to edit and enter your\n",
    "\n",
    "1.  Name\n",
    "2.  Student ID\n",
    "3.  @ucr.edu email address\n",
    "    \n",
    "</div>"
   ]
  },
  {
   "cell_type": "markdown",
   "metadata": {
    "deletable": false,
    "tags": []
   },
   "source": [
    "<div style=\" font-size: 300% !important;\n",
    "    margin-top: 1.5em;\n",
    "    margin-bottom: 10px;\n",
    "    font-weight: bold;\n",
    "    line-height: 1.0;\n",
    "    text-align:center;\">\n",
    "Assignment 5: Exploiting the parallelism in modern computers\n",
    "</div>"
   ]
  },
  {
   "cell_type": "markdown",
   "metadata": {
    "deletable": false,
    "editable": false,
    "tags": []
   },
   "source": [
    "In this assignment, you'll learn about the concepts of:\n",
    "\n",
    "1.  Instruction-level parallelism\n",
    "2.  Memory level parallelsim\n",
    "3.  Superscalar/out-of-order pipeline\n",
    "4.  Branch prediction\n",
    "5.  Function calls and compiler optimizations\n",
    "\n",
    "You are strongly encouraged to go through the following documents before starting.\n",
    "1.  The x86-64 assembly http://www.cs.cmu.edu/~fp/courses/15213-s06/misc/asm64-handout.pdf\n",
    "2.  Intel Alder Lake CPU Architectures https://ieeexplore.ieee.org/document/9747991\n",
    "This assignment includes a programming assignment. \n",
    "\n",
    "Check the course schedule for due date(s).\n",
    "\n",
    "We need to thank [Dr. Steven Swanson](https://cseweb.ucsd.edu/~swanson/) as a significant part of the assignment is orginated from Dr. Swanson's teaching materials."
   ]
  },
  {
   "cell_type": "markdown",
   "metadata": {
    "deletable": false,
    "editable": false,
    "tags": []
   },
   "source": [
    "# FAQ and Updates"
   ]
  },
  {
   "cell_type": "markdown",
   "metadata": {
    "editable": false
   },
   "source": [
    "* There are no updates, yet."
   ]
  },
  {
   "cell_type": "markdown",
   "metadata": {
    "deletable": false,
    "editable": false,
    "tags": []
   },
   "source": [
    "## Keeping Your Assignment Up-to-Date\n",
    "\n",
    "Occasionally, there will be changes made to the base repository after the\n",
    "assignment is released.  This may include bug fixes and updates to this document.  We'll post on piazza when an update is avaiassignmentle.\n",
    "\n",
    "In those cases, you can use the following commands to pull the changes from upstream and merge them into your code.  You'll need to do this at a shell.  It won't work properly in the notebook.  **Save your notebook in the browser first**.\n"
   ]
  },
  {
   "cell_type": "markdown",
   "metadata": {
    "deletable": false,
    "editable": false,
    "tags": []
   },
   "source": [
    "```\n",
    "cd <your directory for this assignment>git remote add upstream $(cat .starter_repo)  # You need to do this once each time you checkout a new assignment. It will fail \n",
    "                                              # harmlessly if you run it more than once.\n",
    "cp Assignment.ipynb Assignment.backup.ipynb                 # Backup your work.\n",
    "git commit -am \"My progress so far.\"          # commit your work.\n",
    "git pull upstream main --allow-unrelated-histories -X theirs # pull the updates\n",
    "```\n",
    "\n",
    "Or you can use the script we provide:\n",
    "\n",
    "```\n",
    "./fix-repo\n",
    "./pull-updates\n",
    "```\n"
   ]
  },
  {
   "cell_type": "markdown",
   "metadata": {
    "deletable": false,
    "editable": false,
    "tags": []
   },
   "source": [
    "Be sure to save your current progress!!!\n",
    "\n",
    "Then run this cell. It'll fix your git repo history so you can successfully merge in updates"
   ]
  },
  {
   "cell_type": "code",
   "execution_count": null,
   "metadata": {
    "deletable": false,
    "tags": []
   },
   "outputs": [],
   "source": [
    "!./fix-repo\n",
    "!./pull-updates"
   ]
  },
  {
   "cell_type": "markdown",
   "metadata": {
    "deletable": false,
    "editable": false,
    "tags": []
   },
   "source": [
    "Then, reload this page in your browser."
   ]
  },
  {
   "cell_type": "markdown",
   "metadata": {
    "deletable": false,
    "editable": false,
    "tags": []
   },
   "source": [
    "## How To Use This Document\n",
    "\n",
    "You will use Jupyter Notebook to complete this assignment.  You should be able to do much of this assignment without leaving Jupyter Notebook.  The main exception will be some of the programming assignments.  The instructions will make it clear when you should use the terminal.\n",
    "\n",
    "### Running Code\n",
    "\n",
    "Jupyter Notebooks are made up of \"cells\".  Some have Markdown-formatted text in them (like this one).  Some have Python code (like the one below).\n",
    "\n",
    "For code cells, you press `shift-return` to execute the code.  Try it below:"
   ]
  },
  {
   "cell_type": "code",
   "execution_count": null,
   "metadata": {
    "deletable": false,
    "editable": false,
    "tags": []
   },
   "outputs": [],
   "source": [
    "print(\"I'm in python\")"
   ]
  },
  {
   "cell_type": "markdown",
   "metadata": {
    "deletable": false,
    "editable": false,
    "tags": []
   },
   "source": [
    "Code cells can also execute shell commands using the `!` operator.  Try it below:"
   ]
  },
  {
   "cell_type": "code",
   "execution_count": null,
   "metadata": {
    "deletable": false,
    "editable": false,
    "tags": []
   },
   "outputs": [],
   "source": [
    "!echo \"I'm in a shell\""
   ]
  },
  {
   "attachments": {
    "image.png": {
     "image/png": "[encoded data removed]"
    }
   },
   "cell_type": "markdown",
   "metadata": {
    "deletable": false,
    "editable": false,
    "tags": []
   },
   "source": [
    "### Telling What The Notebook is Doing\n",
    "\n",
    "The notebook will only run one cell at a time, so if you press `shift-return` several times, the cells will wait for one another.  You can tell that a cell is waiting if it there's a `*` in the `[]` to the left the cell:\n",
    "\n",
    "![image.png](attachment:image.png)\n"
   ]
  },
  {
   "attachments": {
    "image.png": {
     "image/png": "[encoded data removed]"
    }
   },
   "cell_type": "markdown",
   "metadata": {
    "deletable": false,
    "editable": false,
    "tags": []
   },
   "source": [
    "You'll can also tell _where_ the notebook is executing by looking at the table of contents on the left.  The section with the currently-executing cell will be red:\n",
    "\n",
    "![image.png](attachment:image.png)"
   ]
  },
  {
   "attachments": {
    "image.png": {
     "image/png": "[encoded data removed]"
    }
   },
   "cell_type": "markdown",
   "metadata": {
    "deletable": false,
    "editable": false,
    "tags": []
   },
   "source": [
    "### What to Do Jupyter Notebook It Gets Stuck\n",
    "\n",
    "First, check if it's actually stuck: Some of the cells take a while, but they will usually provide some visual sign of progress.  If _nothing_ is happening for more than 10 seconds, it's probably stuck.\n",
    "\n",
    "To get it unstuck, you stop execution of the current cell with the \"interrupt button\":\n",
    "\n",
    "![image.png](attachment:image.png)"
   ]
  },
  {
   "attachments": {
    "image.png": {
     "image/png": "[encoded data removed]"
    }
   },
   "cell_type": "markdown",
   "metadata": {
    "deletable": false,
    "editable": false,
    "tags": []
   },
   "source": [
    "You can also restart the underlying python instance (i.e., the confusingly-named \"kernel\" which is not the same thing as the operating system kernel) with the restart button:\n",
    "\n",
    "![image.png](attachment:image.png)\n",
    "\n",
    "Once you do this, all the variables defined by earlier cells are gone, so you may get some errors.  You may need to re-run the cells in the current section to get things to work again.\n",
    "\n",
    "You can also try reloading the web page.  That will leave Python kernel intact, but it can help with some problems."
   ]
  },
  {
   "cell_type": "markdown",
   "metadata": {
    "deletable": false,
    "editable": false,
    "tags": []
   },
   "source": [
    "### Common Errors and Non-Errors\n",
    "\n",
    "1.  If you get `sh: 0: getcwd() failed: no such file or directory`, restart the kernel.\n",
    "2.  If you get `INFO:MainThread:numexpr.utils:Note: NumExpr detected 40 cores but \"NUMEXPR_MAX_THREADS\" not set, so enforcing safe limit of 8.`.  It's not a real error.  Ignore it. \n",
    "3.  Sometimes `cs203 job run` will just sit there and seemingly do nothing.  Weirdly, interrupting the kernel (button above) seems to jolt it awake and cause it to continue.\n",
    "4. If you get errors similar to `NameError: name 'render_csv' is not defined`, please re-execute the very beginning cell of this document."
   ]
  },
  {
   "cell_type": "markdown",
   "metadata": {
    "deletable": false,
    "editable": false,
    "tags": []
   },
   "source": [
    "### The Embedded Code\n",
    "\n",
    "The code embedded in the assignment falls into two categories:\n",
    "\n",
    "1.  Code you need to edit and understand.\n",
    "2.  Code that you do not need to edit or understand -- it's just there to display something for you.\n",
    "\n",
    "For code in the first category, the assignment will make it clear that you need to study, modify, and/or run the code.  If we don't explicitly ask you to do something, you don't need to.\n",
    "\n",
    "Most of the code in the second category is for drawing graphs.  You can just run it with shift-return to the see the results.  If you are curious, it's mostly written with `Pandas` and `matplotlib`. The code is all in `notebook.py`.   These cells should be un-editable.  However, if you want to experiment with them, you can copy _the contents_ of the cell into a new cell and do whatever you want (If you copy the cell, the copy will also be uneditable).\n",
    "\n",
    "<div class=\"alert alert-block alert-info\">\n",
    "\n",
    "**Most Cells are Immutable** Many of the cells of this notebook are uneditable. The only ones you should edit are some of the code cells and the text cells with questions in them.\n",
    "</div>"
   ]
  },
  {
   "cell_type": "markdown",
   "metadata": {
    "deletable": false,
    "editable": false,
    "tags": []
   },
   "source": [
    "### Answering Questions\n",
    "\n",
    "Throughout this document, you'll see some questions (like the one below).  You can double click on them to edit them and fill in your answer.  Try not to mess up the formatting (so it's easy for us to grade), but at least make sure your answer shows up clearly.  When you are done editing, you can `shift-return` to make it pretty again.\n",
    "\n",
    "A few tips, pointers, and caveats for answering questions:\n",
    "\n",
    "1. The answers are all in [github-flavored markdown](https://guides.github.com/features/mastering-markdown/) with some html sprinkled in.  Leave the html alone.\n",
    "2. Many answers require you to fill in a table, and many of the `|` characters will be missing.  You'll need to add them back.\n",
    "3. The HTML needs to start at the beginning of a line.  If there are spaces before a tag, it won't render properly.  If you accidentally add white space at the beginning of a line with an html tag on it, you'll need to fix it.\n",
    "4. Text answers also need to start at the beginning of a line, otherwise they will be rendered as code.\n",
    "5. Press `shift-return` or `option-return` to render the cell and make sure it looks good.\n",
    "6. There needs to be a blank line between html tags and markdown.  Otherwise, the markdown formatting will not appear correctly.\n",
    "\n",
    "\n",
    "You'll notice that there are three kinds of questions: \"Correctness\", \"Completeness\", and \"Optional\".  You need to provide an answer to the \"Completeness\" questions, but you won't be graded on its correctness.  You'll need to answer \"Correctness\" questions correctly to get credit.  The \"Optional\" questions are optional."
   ]
  },
  {
   "cell_type": "markdown",
   "metadata": {
    "deletable": false,
    "editable": false,
    "tags": []
   },
   "source": [
    "## Grading\n",
    "\n",
    "Your grade for this assignment will be based on the following components\n",
    "\n",
    "| Part                       | value |\n",
    "|----------------------------|-------|\n",
    "| Jupyter Notebook           | 50%   |\n",
    "| Programming Assignment     | 48%   |\n",
    "| Post-assignment survey.           | 2%    |\n",
    "\n",
    "No late work or extensions will be allowed.\n",
    "\n",
    "We will grade 5 of the \"completeness\" problems.  We will grade all of the \"correctness\" questions.\n",
    "\n",
    "You'll follow the directions at the end of the assignment to submit the assignment write up and the programming assignment through gradescope. \n",
    "\n",
    "Please check gradescope for exact due dates."
   ]
  },
  {
   "cell_type": "markdown",
   "metadata": {
    "deletable": false,
    "editable": false,
    "tags": []
   },
   "source": [
    "Since Alder Lake is an x86 processor, you're strongly encourage to review x86 assembly before starting the rest of the assignment. You may find [this link](https://www.cs.virginia.edu/~evans/cs216/guides/x86.html) useful "
   ]
  },
  {
   "cell_type": "markdown",
   "metadata": {
    "deletable": false,
    "editable": false,
    "tags": []
   },
   "source": [
    "# Thread-level parallelism in modern processors"
   ]
  },
  {
   "cell_type": "markdown",
   "metadata": {
    "deletable": false,
    "editable": false,
    "tags": []
   },
   "source": [
    "ILP and MLP exist within a single core, and the degree of parallelism is limited by the number of instructions the CPU can issue per cycle. To get more parallelism, we need to use more CPUs, and for that we'll need to create threads.\n",
    "\n",
    "A thread is a flow of control through your program that runs on a processor. Every program has at least one thread, and by creating multiple threads you can spread the work of your program across many cores, hopefully improving it's performance.\n",
    "\n",
    "Making programs fast via multi-threading is an extremely deep and complex area. We could easily spend an entire quarter studying techniques for creating, managing, and using threads, and most universities (including UCR) offer several courses on this topic (Start with Operating Systems and then take the graduate Parallel Computation course). Indeed, some people have devoted their entire careers to the topic.\n",
    "\n",
    "All this effort is for good reason: the amount of ILP and MLP that individual cores can utilize has been roughly constant over last decade and shows no signs of improving much. Making matters worse, clock speeds are growing very slowly. That means that adding cores is the main way that computer are getting faster, but that only works if we can use threads effectively.\n",
    "\n",
    "But, it's week 8, and we don't have time for all of that. Instead, we are going to take a whirlwind tour of how you can create threads, how to make them communicate with one another, why the underlying hardware can make that hard and/or slow, and what you can do about it.\n",
    "\n",
    "To start, let's see how many cores we have (again):"
   ]
  },
  {
   "cell_type": "code",
   "execution_count": 2,
   "metadata": {
    "deletable": false,
    "editable": false,
    "tags": []
   },
   "outputs": [
    {
     "name": "stdout",
     "output_type": "stream",
     "text": [
      "Architecture:                       x86_64\n",
      "CPU op-mode(s):                     32-bit, 64-bit\n",
      "Byte Order:                         Little Endian\n",
      "Address sizes:                      39 bits physical, 48 bits virtual\n",
      "CPU(s):                             8\n",
      "On-line CPU(s) list:                0-7\n",
      "Thread(s) per core:                 2\n",
      "Core(s) per socket:                 4\n",
      "Socket(s):                          1\n",
      "NUMA node(s):                       1\n",
      "Vendor ID:                          GenuineIntel\n",
      "CPU family:                         6\n",
      "Model:                              151\n",
      "Model name:                         12th Gen Intel(R) Core(TM) i3-12100F\n",
      "Stepping:                           5\n",
      "CPU MHz:                            3300.000\n",
      "CPU max MHz:                        4300.0000\n",
      "CPU min MHz:                        800.0000\n",
      "BogoMIPS:                           6604.80\n",
      "Virtualization:                     VT-x\n",
      "L1d cache:                          192 KiB\n",
      "L1i cache:                          128 KiB\n",
      "L2 cache:                           5 MiB\n",
      "L3 cache:                           12 MiB\n",
      "NUMA node0 CPU(s):                  0-7\n",
      "Vulnerability Gather data sampling: Not affected\n",
      "Vulnerability Itlb multihit:        Not affected\n",
      "Vulnerability L1tf:                 Not affected\n",
      "Vulnerability Mds:                  Not affected\n",
      "Vulnerability Meltdown:             Not affected\n",
      "Vulnerability Mmio stale data:      Not affected\n",
      "Vulnerability Retbleed:             Not affected\n",
      "Vulnerability Spec rstack overflow: Not affected\n",
      "Vulnerability Spec store bypass:    Mitigation; Speculative Store Bypass disabled via prctl and seccomp\n",
      "Vulnerability Spectre v1:           Mitigation; usercopy/swapgs barriers and __user pointer sanitization\n",
      "Vulnerability Spectre v2:           Mitigation; Enhanced IBRS, IBPB conditional, RSB filling, PBRSB-eIBRS SW sequence\n",
      "Vulnerability Srbds:                Not affected\n",
      "Vulnerability Tsx async abort:      Not affected\n",
      "Flags:                              fpu vme de pse tsc msr pae mce cx8 apic sep mtrr pge mca cmov pat pse36 clflush dts acpi mmx fxsr sse sse2 ss ht tm pbe syscall nx pdpe1gb rdtscp lm constant_tsc art arch_perfmon pebs bts rep_good nopl xtopology nonstop_tsc cpuid aperfmperf tsc_known_freq pni pclmulqdq dtes64 monitor ds_cpl vmx est tm2 ssse3 sdbg fma cx16 xtpr pdcm sse4_1 sse4_2 x2apic movbe popcnt tsc_deadline_timer aes xsave avx f16c rdrand lahf_lm abm 3dnowprefetch cpuid_fault ssbd ibrs ibpb stibp ibrs_enhanced tpr_shadow vnmi flexpriority ept vpid ept_ad fsgsbase tsc_adjust bmi1 avx2 smep bmi2 erms invpcid rdseed adx smap clflushopt clwb intel_pt sha_ni xsaveopt xsavec xgetbv1 xsaves split_lock_detect avx_vnni dtherm ida arat pln pts hwp hwp_notify hwp_act_window hwp_epp hwp_pkg_req umip pku ospke waitpkg gfni vaes vpclmulqdq rdpid movdiri movdir64b fsrm md_clear serialize arch_lbr flush_l1d arch_capabilities\n"
     ]
    }
   ],
   "source": [
    "! cs203 job run \"lscpu\""
   ]
  },
  {
   "cell_type": "markdown",
   "metadata": {
    "deletable": false,
    "editable": false,
    "tags": []
   },
   "source": [
    "The key lines are `Socket(s): 1` and `Core(s) per socket:  4`.  A \"socket\" is place on a motherboard to stick a physical CPU.  We have 1, so all our cores live on one chip. That chip has 6 \"cores\".  A core is complete processor pipeline. \n",
    "\n",
    "You might notice that it also says `CPU(s): 8`.  This would be better phrased as \"logical cores\".  It's twice the number of actual (physical) cores because each of the cores can run two threads at once via Hyperthreading.  These cores are numbered 0-11.\n",
    "\n",
    "By convention, the lower half of the core numbers cover one logical core on each physical core.  The top half of the numbers are the second logical cores.  So, logical core 0 and logical core 6 are on the same physical core.\n",
    "\n",
    "For now, we are going to stick to logical cores 0-3.  We'll return to the upper 8 logical processors later in the assignment."
   ]
  },
  {
   "cell_type": "markdown",
   "metadata": {
    "deletable": false,
    "editable": false,
    "tags": []
   },
   "source": [
    "## Spawning Threads\n",
    "\n",
    "The first step to using threads is to create some.  C++ has pretty good threading facilities.  The key is the `std::thread` object that represents a running thread.  To start a thread, you create an `std::thread` object and pass it a function to call and the arguments you'd like to pass to the function.\n",
    "\n",
    "The `std::thread`'s `join()` method waits for the thread to complete.\n",
    "\n",
    "Here's some code that runs three threads that print out some numbers. The cell below will run the code three times separated by \"FINISHED EXECUTION\".  Pay close attention to the output of each run."
   ]
  },
  {
   "cell_type": "code",
   "execution_count": 3,
   "metadata": {
    "deletable": false,
    "editable": false,
    "tags": []
   },
   "outputs": [
    {
     "name": "stdout",
     "output_type": "stream",
     "text": [
      "Done code generation...\n"
     ]
    }
   ],
   "source": [
    "\n",
    "t = fiddle(\"threads.cpp\", function=\"threads\", opt=\"-O1\", cmdline=r\"\",\n",
    "code=r\"\"\"\n",
    "#include\"function_map.hpp\"\n",
    "#include<cstdint>\n",
    "#include<thread>\n",
    "\n",
    "void go() {\n",
    "    for(int i = 0; i < 15; i++) \n",
    "        std::cerr << i << \"\\n\";\n",
    "}\n",
    "\n",
    "extern \"C\"\n",
    "uint64_t* threads(uint64_t threads, uint64_t * data, uint64_t size, uint64_t arg1, uint64_t arg2, uint64_t arg3) {\n",
    "    std::thread t1(go);  // Create a thread to run go().  Pass no arguments.\n",
    "    std::thread t2(go);\n",
    "    std::thread t3(go);\n",
    "    \n",
    "    t1.join(); // wait for t1 to finish.\n",
    "    t2.join();\n",
    "    t3.join();\n",
    "    std::cerr << \"FINISHED EXECUTION\\n\";\n",
    "    return data;\n",
    "}\n",
    "FUNCTION(one_array_2arg, threads);\n",
    "\"\"\")"
   ]
  },
  {
   "cell_type": "code",
   "execution_count": 4,
   "metadata": {
    "deletable": false,
    "editable": false,
    "tags": []
   },
   "outputs": [
    {
     "name": "stdout",
     "output_type": "stream",
     "text": [
      "mkdir -p build/ \n",
      "cp  fiddle.cpp build/fiddle.cpp\n",
      "g++-9  -DHAVE_LINUX_PERF_EVENT_H -O4 -pthread -DHAVE_LINUX_PERF_EVENT_H -I/datahub/htseng/2023fa-cs203-parallelism-starter -g  -fopenmp -lm -pthread -lboost_program_options -L/usr/lib/ -lboost_system -ldl  -o build/fiddle.o -c build/fiddle.cpp\n",
      "mkdir -p build/ \n",
      "cp  perfstats.c build/perfstats.c\n",
      "g++-9 -DHAVE_LINUX_PERF_EVENT_H -O3 -I/datahub/htseng/2023fa-cs203-parallelism-starter -lm -pthread -lboost_program_options -L/usr/lib/ -lboost_system -ldl  -o build/perfstats.o -c build/perfstats.c\n",
      "g++-9 -pthread -DHAVE_LINUX_PERF_EVENT_H -I/datahub/htseng/2023fa-cs203-parallelism-starter -g  -fopenmp  -DHAVE_LINUX_PERF_EVENT_H build/fiddle.o build/perfstats.o  -lm -pthread -lboost_program_options -L/usr/lib/ -lboost_system -ldl  -o fiddle.exe\n",
      "mkdir -p build/ \n",
      "cp *.hpp build/\n",
      "cp *.h   build/\n",
      "g++-9  -DHAVE_LINUX_PERF_EVENT_H -pthread -DHAVE_LINUX_PERF_EVENT_H -I/datahub/htseng/2023fa-cs203-parallelism-starter -g -O1 -fopenmp -lm -pthread -lboost_program_options -L/usr/lib/ -lboost_system -ldl  -rdynamic -fPIC -shared -o build/threads.so build/threads.cpp\n",
      "registering function: threads\n",
      "Dynamically registering threads\n",
      "Execution started\n",
      "0\n",
      "1\n",
      "2\n",
      "3\n",
      "4\n",
      "5\n",
      "6\n",
      "70\n",
      "1\n",
      "2\n",
      "3\n",
      "4\n",
      "5\n",
      "6\n",
      "\n",
      "8\n",
      "9\n",
      "10\n",
      "11\n",
      "12\n",
      "13\n",
      "14\n",
      "0\n",
      "1\n",
      "2\n",
      "3\n",
      "47\n",
      "8\n",
      "9\n",
      "10\n",
      "11\n",
      "12\n",
      "13\n",
      "14\n",
      "\n",
      "5\n",
      "6\n",
      "7\n",
      "8\n",
      "9\n",
      "10\n",
      "11\n",
      "12\n",
      "13\n",
      "14\n",
      "FINISHED EXECUTION\n",
      "0\n",
      "1\n",
      "2\n",
      "3\n",
      "4\n",
      "5\n",
      "6\n",
      "7\n",
      "8\n",
      "9\n",
      "10\n",
      "11\n",
      "12\n",
      "13\n",
      "14\n",
      "0\n",
      "1\n",
      "2\n",
      "3\n",
      "4\n",
      "5\n",
      "6\n",
      "7\n",
      "8\n",
      "9\n",
      "10\n",
      "11\n",
      "12\n",
      "13\n",
      "14\n",
      "0\n",
      "1\n",
      "2\n",
      "3\n",
      "4\n",
      "5\n",
      "6\n",
      "7\n",
      "8\n",
      "9\n",
      "10\n",
      "11\n",
      "12\n",
      "13\n",
      "14\n",
      "FINISHED EXECUTION\n",
      "0\n",
      "1\n",
      "2\n",
      "3\n",
      "4\n",
      "5\n",
      "6\n",
      "7\n",
      "8\n",
      "9\n",
      "10\n",
      "11\n",
      "12\n",
      "13\n",
      "14\n",
      "0\n",
      "1\n",
      "2\n",
      "3\n",
      "4\n",
      "5\n",
      "6\n",
      "7\n",
      "8\n",
      "9\n",
      "10\n",
      "11\n",
      "12\n",
      "13\n",
      "14\n",
      "0\n",
      "1\n",
      "2\n",
      "3\n",
      "4\n",
      "5\n",
      "6\n",
      "7\n",
      "8\n",
      "9\n",
      "10\n",
      "11\n",
      "12\n",
      "13\n",
      "14\n",
      "FINISHED EXECUTION\n",
      "Execution completed\n"
     ]
    }
   ],
   "source": [
    "! cs203 job run \"make fiddle.exe; make C_OPTS=\"-O1\" build/threads.so\"\n",
    "! cs203 job run \"./fiddle.exe -lib ./build/threads.so -function threads threads threads -stats threads.csv\""
   ]
  },
  {
   "cell_type": "markdown",
   "metadata": {
    "deletable": false,
    "editable": false,
    "tags": []
   },
   "source": [
    "See how the order of the number changes? This is because the relative execution rate of each thread is different. Also, the threads take turns writing to standard output and the order they go in is non-deterministic.\n",
    "\n",
    "This non-determinism is the bane of multi-threaded debugging: Imagine if your bug only occurred for one of the very many possible orderings of the operations in your threads? Your bug might occur just 1 in 100 (or 1000 or 10,000) times you run the program."
   ]
  },
  {
   "cell_type": "markdown",
   "metadata": {
    "deletable": false,
    "editable": false,
    "tags": []
   },
   "source": [
    "## Measuring Thread Behavior\n",
    "\n",
    "Of course, we will want to measure the performance and behavior of our threads.  Things get a little tricky here, because of a limitation of our performance counter measurement library.  It can only measure performance counters of the main thread of the program.  \n",
    "\n",
    "For the experiments we are going to run this is not a big problem: All our threads will be doing the same thing at the same time, so measuring one is a good as measuring any other.  In some cases, though, we will need to _estimate_ aggregate values across all the cores/threads.  For instance, if we want to estimate the _total_ number of instructions execute by all threads, we'll multiply the single-thread IC we measure for one thread by the thread count.\n",
    "\n",
    "Here's a simple threaded program that runs one miss chain in each of several threads."
   ]
  },
  {
   "cell_type": "code",
   "execution_count": 5,
   "metadata": {
    "deletable": false,
    "editable": false,
    "tags": []
   },
   "outputs": [
    {
     "name": "stdout",
     "output_type": "stream",
     "text": [
      "Done code generation...\n"
     ]
    }
   ],
   "source": [
    "t = fiddle(\"threads.cpp\", function=\"threads\", opt=\"-O1\", cmdline=r\"\",\n",
    "code=r\"\"\"\n",
    "#include\"function_map.hpp\"\n",
    "#include<cstdint>\n",
    "#include<thread>\n",
    "#include\"MissMachine.hpp\"\n",
    "\n",
    "void go(MissMachine * machine, uint64_t arg2) {\n",
    "    machine->load_miss(arg2);\n",
    "}\n",
    "\n",
    "extern \"C\"\n",
    "uint64_t* threads(uint64_t thread_count, uint64_t * data, uint64_t size, uint64_t arg1, uint64_t arg2, uint64_t arg3) {\n",
    "    MissMachine a( arg1, size);\n",
    "    a.make_links();\n",
    "\n",
    "    std::thread **threads = new std::thread*[thread_count-1]; // Alloce space for some pointers\n",
    "    for(unsigned int i = 0; i < thread_count-1; i++) {\n",
    "        threads[i] = new std::thread(go, &a, arg2); // create the threads.  They will each run the miss machine.\n",
    "    }\n",
    "    go(&a, arg2); // So will this thread, hence the -1\n",
    "    for(unsigned int i = 0; i < thread_count-1; i++) { // wait for everyone else\n",
    "        threads[i]->join();\n",
    "        delete threads[i]; // cleanup\n",
    "    }\n",
    "    delete threads; // cleanup.\n",
    "    \n",
    "    return data;\n",
    "}\n",
    "FUNCTION(one_array_2arg, threads);\n",
    "\"\"\")"
   ]
  },
  {
   "cell_type": "code",
   "execution_count": 6,
   "metadata": {
    "tags": []
   },
   "outputs": [
    {
     "name": "stdout",
     "output_type": "stream",
     "text": [
      "make: 'fiddle.exe' is up to date.\n",
      "mkdir -p build/ \n",
      "cp *.hpp build/\n",
      "cp *.h   build/\n",
      "g++-9  -DHAVE_LINUX_PERF_EVENT_H -pthread -DHAVE_LINUX_PERF_EVENT_H -I/datahub/htseng/2023fa-cs203-parallelism-starter -g -O1 -fopenmp -lm -pthread -lboost_program_options -L/usr/lib/ -lboost_system -ldl  -rdynamic -fPIC -shared -o build/threads.so build/threads.cpp\n",
      "registering function: threads\n",
      "Dynamically registering threads\n",
      "Execution started\n",
      "Execution completed\n"
     ]
    }
   ],
   "source": [
    "! cs203 job run \"make fiddle.exe; make C_OPTS=\"-O1\" build/threads.so\"\n",
    "! cs203 job run \"./fiddle.exe -lib ./build/threads.so -M 3300 -size 4096 --detail -f threads --arg1 8 --arg2 100000000 --threads 1 2 3 4 -o threads.csv\""
   ]
  },
  {
   "cell_type": "code",
   "execution_count": 7,
   "metadata": {
    "deletable": false,
    "editable": false,
    "tags": []
   },
   "outputs": [
    {
     "data": {
      "text/html": [
       "<style type=\"text/css\">\n",
       "#T_49b75_row0_col0, #T_49b75_row0_col1, #T_49b75_row0_col2, #T_49b75_row0_col3, #T_49b75_row0_col4, #T_49b75_row0_col5, #T_49b75_row0_col6, #T_49b75_row0_col7, #T_49b75_row1_col0, #T_49b75_row1_col1, #T_49b75_row1_col2, #T_49b75_row1_col3, #T_49b75_row1_col4, #T_49b75_row1_col5, #T_49b75_row1_col6, #T_49b75_row1_col7, #T_49b75_row2_col0, #T_49b75_row2_col1, #T_49b75_row2_col2, #T_49b75_row2_col3, #T_49b75_row2_col4, #T_49b75_row2_col5, #T_49b75_row2_col6, #T_49b75_row2_col7, #T_49b75_row3_col0, #T_49b75_row3_col1, #T_49b75_row3_col2, #T_49b75_row3_col3, #T_49b75_row3_col4, #T_49b75_row3_col5, #T_49b75_row3_col6, #T_49b75_row3_col7 {\n",
       "  font-family: monospace;\n",
       "}\n",
       "</style>\n",
       "<table id=\"T_49b75\">\n",
       "  <thead>\n",
       "    <tr>\n",
       "      <th class=\"blank level0\" >&nbsp;</th>\n",
       "      <th id=\"T_49b75_level0_col0\" class=\"col_heading level0 col0\" >threads</th>\n",
       "      <th id=\"T_49b75_level0_col1\" class=\"col_heading level0 col1\" >size</th>\n",
       "      <th id=\"T_49b75_level0_col2\" class=\"col_heading level0 col2\" >arg1</th>\n",
       "      <th id=\"T_49b75_level0_col3\" class=\"col_heading level0 col3\" >IC</th>\n",
       "      <th id=\"T_49b75_level0_col4\" class=\"col_heading level0 col4\" >CPI</th>\n",
       "      <th id=\"T_49b75_level0_col5\" class=\"col_heading level0 col5\" >CT</th>\n",
       "      <th id=\"T_49b75_level0_col6\" class=\"col_heading level0 col6\" >ET</th>\n",
       "      <th id=\"T_49b75_level0_col7\" class=\"col_heading level0 col7\" >L1_dcache_miss_rate</th>\n",
       "    </tr>\n",
       "  </thead>\n",
       "  <tbody>\n",
       "    <tr>\n",
       "      <th id=\"T_49b75_level0_row0\" class=\"row_heading level0 row0\" >0</th>\n",
       "      <td id=\"T_49b75_row0_col0\" class=\"data row0 col0\" >1</td>\n",
       "      <td id=\"T_49b75_row0_col1\" class=\"data row0 col1\" >4096</td>\n",
       "      <td id=\"T_49b75_row0_col2\" class=\"data row0 col2\" >8</td>\n",
       "      <td id=\"T_49b75_row0_col3\" class=\"data row0 col3\" >400231141</td>\n",
       "      <td id=\"T_49b75_row0_col4\" class=\"data row0 col4\" >1.249819</td>\n",
       "      <td id=\"T_49b75_row0_col5\" class=\"data row0 col5\" >0.250617</td>\n",
       "      <td id=\"T_49b75_row0_col6\" class=\"data row0 col6\" >0.125363</td>\n",
       "      <td id=\"T_49b75_row0_col7\" class=\"data row0 col7\" >0.000017</td>\n",
       "    </tr>\n",
       "    <tr>\n",
       "      <th id=\"T_49b75_level0_row1\" class=\"row_heading level0 row1\" >1</th>\n",
       "      <td id=\"T_49b75_row1_col0\" class=\"data row1 col0\" >2</td>\n",
       "      <td id=\"T_49b75_row1_col1\" class=\"data row1 col1\" >4096</td>\n",
       "      <td id=\"T_49b75_row1_col2\" class=\"data row1 col2\" >8</td>\n",
       "      <td id=\"T_49b75_row1_col3\" class=\"data row1 col3\" >800506836</td>\n",
       "      <td id=\"T_49b75_row1_col4\" class=\"data row1 col4\" >1.249987</td>\n",
       "      <td id=\"T_49b75_row1_col5\" class=\"data row1 col5\" >0.125415</td>\n",
       "      <td id=\"T_49b75_row1_col6\" class=\"data row1 col6\" >0.125493</td>\n",
       "      <td id=\"T_49b75_row1_col7\" class=\"data row1 col7\" >0.000028</td>\n",
       "    </tr>\n",
       "    <tr>\n",
       "      <th id=\"T_49b75_level0_row2\" class=\"row_heading level0 row2\" >2</th>\n",
       "      <td id=\"T_49b75_row2_col0\" class=\"data row2 col0\" >3</td>\n",
       "      <td id=\"T_49b75_row2_col1\" class=\"data row2 col1\" >4096</td>\n",
       "      <td id=\"T_49b75_row2_col2\" class=\"data row2 col2\" >8</td>\n",
       "      <td id=\"T_49b75_row2_col3\" class=\"data row2 col3\" >1200684357</td>\n",
       "      <td id=\"T_49b75_row2_col4\" class=\"data row2 col4\" >1.249964</td>\n",
       "      <td id=\"T_49b75_row2_col5\" class=\"data row2 col5\" >0.083634</td>\n",
       "      <td id=\"T_49b75_row2_col6\" class=\"data row2 col6\" >0.125519</td>\n",
       "      <td id=\"T_49b75_row2_col7\" class=\"data row2 col7\" >0.000023</td>\n",
       "    </tr>\n",
       "    <tr>\n",
       "      <th id=\"T_49b75_level0_row3\" class=\"row_heading level0 row3\" >3</th>\n",
       "      <td id=\"T_49b75_row3_col0\" class=\"data row3 col0\" >4</td>\n",
       "      <td id=\"T_49b75_row3_col1\" class=\"data row3 col1\" >4096</td>\n",
       "      <td id=\"T_49b75_row3_col2\" class=\"data row3 col2\" >8</td>\n",
       "      <td id=\"T_49b75_row3_col3\" class=\"data row3 col3\" >1600874773</td>\n",
       "      <td id=\"T_49b75_row3_col4\" class=\"data row3 col4\" >1.250004</td>\n",
       "      <td id=\"T_49b75_row3_col5\" class=\"data row3 col5\" >0.062735</td>\n",
       "      <td id=\"T_49b75_row3_col6\" class=\"data row3 col6\" >0.125540</td>\n",
       "      <td id=\"T_49b75_row3_col7\" class=\"data row3 col7\" >0.000022</td>\n",
       "    </tr>\n",
       "  </tbody>\n",
       "</table>\n"
      ],
      "text/plain": [
       "<pandas.io.formats.style.Styler at 0x7f13e0689340>"
      ]
     },
     "metadata": {},
     "output_type": "display_data"
    },
    {
     "data": {
      "image/png": "[encoded data removed]",
      "text/plain": [
       "<Figure size 1600x400 with 1 Axes>"
      ]
     },
     "metadata": {},
     "output_type": "display_data"
    }
   ],
   "source": [
    "#key data_cell\n",
    "display_mono(render_csv(\"threads.csv\", columns=[\"threads\", \"size\", \"arg1\", \"IC\", \"CPI\", \"CT\", \"ET\", \"L1_dcache_miss_rate\"]))\n",
    "plotPE(\"threads.csv\", lines=True, what=[(\"threads\", \"IC\")])"
   ]
  },
  {
   "cell_type": "markdown",
   "metadata": {
    "cs203.is_response": true,
    "cs203.points": 1,
    "cs203.question_type": "completeness",
    "deletable": false,
    "editable": false,
    "solution2": "hidden",
    "solution2_first": true,
    "tags": []
   },
   "source": [
    "<div class=\"alert alert-block alert-success\"><div class=\"question correctness\">\n",
    "\n",
    "### Question 1 (Correctness)\n",
    "\n",
    "<div class=\"question-text\">\n",
    "With 4 threads how many total instructions were executed?\n",
    "</div>\n",
    "\n",
    "</div>\n",
    "</div>"
   ]
  },
  {
   "cell_type": "markdown",
   "metadata": {
    "cs203.is_response": true,
    "cs203.points": 1,
    "cs203.question_type": "completeness",
    "deletable": false,
    "editable": true,
    "solution2": "hidden",
    "solution2_first": true,
    "tags": []
   },
   "source": [
    "<div class=\"alert alert-block alert-success\"><div class=\"question correctness\">    \n",
    "<div class=\"answer\">\n",
    "    \n",
    "**Total IC**: \n",
    "    \n",
    "</div>\n",
    "    \n",
    "</div>\n",
    "</div>"
   ]
  },
  {
   "cell_type": "markdown",
   "metadata": {
    "deletable": false,
    "editable": false,
    "tags": []
   },
   "source": [
    "## Thread Communication with Volatile Variables and Locks\n",
    "\n",
    "In order for threads to work together, they must share variables:  _Sharing_ means that more than one thread is reading and/or writing to the variable during the same period of time.  Threads working together _must_ share some information, otherwise they cannot make progress together on a common goal.  For example, imagine expecting 8 people in sealed rooms, who have never met, to make progress on a single task -- it is not possible.\n",
    "\n",
    "There are two separate problems we need to solve.  The first is _how_ to share data and the second is how to share it in a coordinated and reliable way. \n",
    "\n",
    "### Sharing Data Between Threads with `volatile`\n",
    "\n",
    "The code below declares a global variable, initializes it to zero, and then provides `wait()` to wait for it to change.  It also provides `signal()` to update the global variable.  You could imagine that two threads could use these two function to coordinate in a simple way:  Thread `T1` could call `wait()` to wait for another thread, `T2`, to do something.  When `T2` is done, it could call `signal()` to let `T1` know it has done it.\n"
   ]
  },
  {
   "cell_type": "code",
   "execution_count": 8,
   "metadata": {
    "deletable": false,
    "editable": false,
    "tags": []
   },
   "outputs": [
    {
     "name": "stdout",
     "output_type": "stream",
     "text": [
      "Done code generation...\n"
     ]
    },
    {
     "data": {
      "text/html": [
       "<style>pre { line-height: 125%; }\n",
       "td.linenos .normal { color: inherit; background-color: transparent; padding-left: 5px; padding-right: 5px; }\n",
       "span.linenos { color: inherit; background-color: transparent; padding-left: 5px; padding-right: 5px; }\n",
       "td.linenos .special { color: #000000; background-color: #ffffc0; padding-left: 5px; padding-right: 5px; }\n",
       "span.linenos.special { color: #000000; background-color: #ffffc0; padding-left: 5px; padding-right: 5px; }\n",
       ".output_html .hll { background-color: #ffffcc }\n",
       ".output_html { background: #f8f8f8; }\n",
       ".output_html .c { color: #3D7B7B; font-style: italic } /* Comment */\n",
       ".output_html .err { border: 1px solid #FF0000 } /* Error */\n",
       ".output_html .k { color: #008000; font-weight: bold } /* Keyword */\n",
       ".output_html .o { color: #666666 } /* Operator */\n",
       ".output_html .ch { color: #3D7B7B; font-style: italic } /* Comment.Hashbang */\n",
       ".output_html .cm { color: #3D7B7B; font-style: italic } /* Comment.Multiline */\n",
       ".output_html .cp { color: #9C6500 } /* Comment.Preproc */\n",
       ".output_html .cpf { color: #3D7B7B; font-style: italic } /* Comment.PreprocFile */\n",
       ".output_html .c1 { color: #3D7B7B; font-style: italic } /* Comment.Single */\n",
       ".output_html .cs { color: #3D7B7B; font-style: italic } /* Comment.Special */\n",
       ".output_html .gd { color: #A00000 } /* Generic.Deleted */\n",
       ".output_html .ge { font-style: italic } /* Generic.Emph */\n",
       ".output_html .gr { color: #E40000 } /* Generic.Error */\n",
       ".output_html .gh { color: #000080; font-weight: bold } /* Generic.Heading */\n",
       ".output_html .gi { color: #008400 } /* Generic.Inserted */\n",
       ".output_html .go { color: #717171 } /* Generic.Output */\n",
       ".output_html .gp { color: #000080; font-weight: bold } /* Generic.Prompt */\n",
       ".output_html .gs { font-weight: bold } /* Generic.Strong */\n",
       ".output_html .gu { color: #800080; font-weight: bold } /* Generic.Subheading */\n",
       ".output_html .gt { color: #0044DD } /* Generic.Traceback */\n",
       ".output_html .kc { color: #008000; font-weight: bold } /* Keyword.Constant */\n",
       ".output_html .kd { color: #008000; font-weight: bold } /* Keyword.Declaration */\n",
       ".output_html .kn { color: #008000; font-weight: bold } /* Keyword.Namespace */\n",
       ".output_html .kp { color: #008000 } /* Keyword.Pseudo */\n",
       ".output_html .kr { color: #008000; font-weight: bold } /* Keyword.Reserved */\n",
       ".output_html .kt { color: #B00040 } /* Keyword.Type */\n",
       ".output_html .m { color: #666666 } /* Literal.Number */\n",
       ".output_html .s { color: #BA2121 } /* Literal.String */\n",
       ".output_html .na { color: #687822 } /* Name.Attribute */\n",
       ".output_html .nb { color: #008000 } /* Name.Builtin */\n",
       ".output_html .nc { color: #0000FF; font-weight: bold } /* Name.Class */\n",
       ".output_html .no { color: #880000 } /* Name.Constant */\n",
       ".output_html .nd { color: #AA22FF } /* Name.Decorator */\n",
       ".output_html .ni { color: #717171; font-weight: bold } /* Name.Entity */\n",
       ".output_html .ne { color: #CB3F38; font-weight: bold } /* Name.Exception */\n",
       ".output_html .nf { color: #0000FF } /* Name.Function */\n",
       ".output_html .nl { color: #767600 } /* Name.Label */\n",
       ".output_html .nn { color: #0000FF; font-weight: bold } /* Name.Namespace */\n",
       ".output_html .nt { color: #008000; font-weight: bold } /* Name.Tag */\n",
       ".output_html .nv { color: #19177C } /* Name.Variable */\n",
       ".output_html .ow { color: #AA22FF; font-weight: bold } /* Operator.Word */\n",
       ".output_html .w { color: #bbbbbb } /* Text.Whitespace */\n",
       ".output_html .mb { color: #666666 } /* Literal.Number.Bin */\n",
       ".output_html .mf { color: #666666 } /* Literal.Number.Float */\n",
       ".output_html .mh { color: #666666 } /* Literal.Number.Hex */\n",
       ".output_html .mi { color: #666666 } /* Literal.Number.Integer */\n",
       ".output_html .mo { color: #666666 } /* Literal.Number.Oct */\n",
       ".output_html .sa { color: #BA2121 } /* Literal.String.Affix */\n",
       ".output_html .sb { color: #BA2121 } /* Literal.String.Backtick */\n",
       ".output_html .sc { color: #BA2121 } /* Literal.String.Char */\n",
       ".output_html .dl { color: #BA2121 } /* Literal.String.Delimiter */\n",
       ".output_html .sd { color: #BA2121; font-style: italic } /* Literal.String.Doc */\n",
       ".output_html .s2 { color: #BA2121 } /* Literal.String.Double */\n",
       ".output_html .se { color: #AA5D1F; font-weight: bold } /* Literal.String.Escape */\n",
       ".output_html .sh { color: #BA2121 } /* Literal.String.Heredoc */\n",
       ".output_html .si { color: #A45A77; font-weight: bold } /* Literal.String.Interpol */\n",
       ".output_html .sx { color: #008000 } /* Literal.String.Other */\n",
       ".output_html .sr { color: #A45A77 } /* Literal.String.Regex */\n",
       ".output_html .s1 { color: #BA2121 } /* Literal.String.Single */\n",
       ".output_html .ss { color: #19177C } /* Literal.String.Symbol */\n",
       ".output_html .bp { color: #008000 } /* Name.Builtin.Pseudo */\n",
       ".output_html .fm { color: #0000FF } /* Name.Function.Magic */\n",
       ".output_html .vc { color: #19177C } /* Name.Variable.Class */\n",
       ".output_html .vg { color: #19177C } /* Name.Variable.Global */\n",
       ".output_html .vi { color: #19177C } /* Name.Variable.Instance */\n",
       ".output_html .vm { color: #19177C } /* Name.Variable.Magic */\n",
       ".output_html .il { color: #666666 } /* Literal.Number.Integer.Long */</style><div class=\"highlight\"><pre><span></span><span class=\"c1\">// not_shared.s:6-20 (15 lines)</span>\n",
       "<span class=\"nl\">wait</span><span class=\"p\">:</span>\n",
       "<span class=\"p\">.</span><span class=\"n\">LFB0</span><span class=\"o\">:</span>\n",
       "<span class=\"w\">\t</span><span class=\"p\">.</span><span class=\"n\">cfi_startproc</span>\n",
       "<span class=\"w\">\t</span><span class=\"n\">endbr64</span>\n",
       "<span class=\"w\">\t</span><span class=\"n\">movl</span><span class=\"w\">\t</span><span class=\"n\">flag</span><span class=\"p\">(</span><span class=\"o\">%</span><span class=\"n\">rip</span><span class=\"p\">),</span><span class=\"w\"> </span><span class=\"o\">%</span><span class=\"n\">eax</span>\n",
       "<span class=\"w\">\t</span><span class=\"n\">testl</span><span class=\"w\">\t</span><span class=\"o\">%</span><span class=\"n\">eax</span><span class=\"p\">,</span><span class=\"w\"> </span><span class=\"o\">%</span><span class=\"n\">eax</span>\n",
       "<span class=\"w\">\t</span><span class=\"n\">je</span><span class=\"w\">\t</span><span class=\"p\">.</span><span class=\"n\">L1</span>\n",
       "<span class=\"p\">.</span><span class=\"n\">L3</span><span class=\"o\">:</span>\n",
       "<span class=\"w\">\t</span><span class=\"n\">jmp</span><span class=\"w\">\t</span><span class=\"p\">.</span><span class=\"n\">L3</span>\n",
       "<span class=\"w\">\t</span><span class=\"p\">.</span><span class=\"n\">p2align</span><span class=\"w\"> </span><span class=\"mi\">4</span><span class=\"p\">,,</span><span class=\"mi\">10</span>\n",
       "<span class=\"w\">\t</span><span class=\"p\">.</span><span class=\"n\">p2align</span><span class=\"w\"> </span><span class=\"mi\">3</span>\n",
       "<span class=\"p\">.</span><span class=\"n\">L1</span><span class=\"o\">:</span>\n",
       "<span class=\"w\">\t</span><span class=\"n\">ret</span>\n",
       "<span class=\"w\">\t</span><span class=\"p\">.</span><span class=\"n\">cfi_endproc</span>\n",
       "<span class=\"p\">.</span><span class=\"n\">LFE0</span><span class=\"o\">:</span>\n",
       "</pre></div>\n"
      ],
      "text/latex": [
       "\\begin{Verbatim}[commandchars=\\\\\\{\\}]\n",
       "\\PY{c+c1}{// not\\PYZus{}shared.s:6\\PYZhy{}20 (15 lines)}\n",
       "\\PY{n+nl}{wait}\\PY{p}{:}\n",
       "\\PY{p}{.}\\PY{n}{LFB0}\\PY{o}{:}\n",
       "\\PY{+w}{\t}\\PY{p}{.}\\PY{n}{cfi\\PYZus{}startproc}\n",
       "\\PY{+w}{\t}\\PY{n}{endbr64}\n",
       "\\PY{+w}{\t}\\PY{n}{movl}\\PY{+w}{\t}\\PY{n}{flag}\\PY{p}{(}\\PY{o}{\\PYZpc{}}\\PY{n}{rip}\\PY{p}{)}\\PY{p}{,}\\PY{+w}{ }\\PY{o}{\\PYZpc{}}\\PY{n}{eax}\n",
       "\\PY{+w}{\t}\\PY{n}{testl}\\PY{+w}{\t}\\PY{o}{\\PYZpc{}}\\PY{n}{eax}\\PY{p}{,}\\PY{+w}{ }\\PY{o}{\\PYZpc{}}\\PY{n}{eax}\n",
       "\\PY{+w}{\t}\\PY{n}{je}\\PY{+w}{\t}\\PY{p}{.}\\PY{n}{L1}\n",
       "\\PY{p}{.}\\PY{n}{L3}\\PY{o}{:}\n",
       "\\PY{+w}{\t}\\PY{n}{jmp}\\PY{+w}{\t}\\PY{p}{.}\\PY{n}{L3}\n",
       "\\PY{+w}{\t}\\PY{p}{.}\\PY{n}{p2align}\\PY{+w}{ }\\PY{l+m+mi}{4}\\PY{p}{,}\\PY{p}{,}\\PY{l+m+mi}{10}\n",
       "\\PY{+w}{\t}\\PY{p}{.}\\PY{n}{p2align}\\PY{+w}{ }\\PY{l+m+mi}{3}\n",
       "\\PY{p}{.}\\PY{n}{L1}\\PY{o}{:}\n",
       "\\PY{+w}{\t}\\PY{n}{ret}\n",
       "\\PY{+w}{\t}\\PY{p}{.}\\PY{n}{cfi\\PYZus{}endproc}\n",
       "\\PY{p}{.}\\PY{n}{LFE0}\\PY{o}{:}\n",
       "\\end{Verbatim}\n"
      ],
      "text/plain": [
       "// not_shared.s:6-20 (15 lines)\n",
       "wait:\n",
       ".LFB0:\n",
       "\t.cfi_startproc\n",
       "\tendbr64\n",
       "\tmovl\tflag(%rip), %eax\n",
       "\ttestl\t%eax, %eax\n",
       "\tje\t.L1\n",
       ".L3:\n",
       "\tjmp\t.L3\n",
       "\t.p2align 4,,10\n",
       "\t.p2align 3\n",
       ".L1:\n",
       "\tret\n",
       "\t.cfi_endproc\n",
       ".LFE0:"
      ]
     },
     "metadata": {},
     "output_type": "display_data"
    }
   ],
   "source": [
    "\n",
    "t = fiddle(\"not_shared.cpp\", function=\"wait\",  opt=\"-O3\", cmdline=r\"\",\n",
    "code=r\"\"\"\n",
    "\n",
    "int flag = 0;\n",
    "extern \"C\"\n",
    "void wait() {\n",
    "    while(flag);\n",
    "}\n",
    "\n",
    "void signal() {\n",
    "    flag = 1;\n",
    "}\n",
    "\"\"\")\n",
    "\n",
    "! g++ -S -O3 build/not_shared.cpp\n",
    "render_code(\"not_shared.s\", show=[\"wait:\", \".LFE0\"])"
   ]
  },
  {
   "cell_type": "markdown",
   "metadata": {
    "deletable": false,
    "editable": false,
    "tags": []
   },
   "source": [
    "As written and compiled with optimizations, the compiler does what we would expect:  it checks `flag` once. If it's non-zero (i.e., it evaluates to `true`), it returns.  Otherwise it loops infinitely.  This will clearly not work as a thread communication mechanism:  Unless `T2` calls `signal()` _before_ `T1` calls `wait()`, `T1` will never get the message.\n",
    "\n",
    "The compiler is assuming that `flag` _will not change_.  This is a valid assumption for the compiler to make because, by default, variables in C and C++ are considered to the thread-private -- only the current thread will access them.  That's not what we want for thread communication.\n",
    "\n",
    "We can fix this by declaring `flag` as `volatile`.  `volatile` tells the compiler that the variable is shared and so it might change at any time, which dramatically reduces the number of optimizations it can apply.  Let's see what it does now:"
   ]
  },
  {
   "cell_type": "code",
   "execution_count": 9,
   "metadata": {
    "deletable": false,
    "editable": false,
    "tags": []
   },
   "outputs": [
    {
     "name": "stdout",
     "output_type": "stream",
     "text": [
      "Done code generation...\n"
     ]
    },
    {
     "data": {
      "text/html": [
       "<style>pre { line-height: 125%; }\n",
       "td.linenos .normal { color: inherit; background-color: transparent; padding-left: 5px; padding-right: 5px; }\n",
       "span.linenos { color: inherit; background-color: transparent; padding-left: 5px; padding-right: 5px; }\n",
       "td.linenos .special { color: #000000; background-color: #ffffc0; padding-left: 5px; padding-right: 5px; }\n",
       "span.linenos.special { color: #000000; background-color: #ffffc0; padding-left: 5px; padding-right: 5px; }\n",
       ".output_html .hll { background-color: #ffffcc }\n",
       ".output_html { background: #f8f8f8; }\n",
       ".output_html .c { color: #3D7B7B; font-style: italic } /* Comment */\n",
       ".output_html .err { border: 1px solid #FF0000 } /* Error */\n",
       ".output_html .k { color: #008000; font-weight: bold } /* Keyword */\n",
       ".output_html .o { color: #666666 } /* Operator */\n",
       ".output_html .ch { color: #3D7B7B; font-style: italic } /* Comment.Hashbang */\n",
       ".output_html .cm { color: #3D7B7B; font-style: italic } /* Comment.Multiline */\n",
       ".output_html .cp { color: #9C6500 } /* Comment.Preproc */\n",
       ".output_html .cpf { color: #3D7B7B; font-style: italic } /* Comment.PreprocFile */\n",
       ".output_html .c1 { color: #3D7B7B; font-style: italic } /* Comment.Single */\n",
       ".output_html .cs { color: #3D7B7B; font-style: italic } /* Comment.Special */\n",
       ".output_html .gd { color: #A00000 } /* Generic.Deleted */\n",
       ".output_html .ge { font-style: italic } /* Generic.Emph */\n",
       ".output_html .gr { color: #E40000 } /* Generic.Error */\n",
       ".output_html .gh { color: #000080; font-weight: bold } /* Generic.Heading */\n",
       ".output_html .gi { color: #008400 } /* Generic.Inserted */\n",
       ".output_html .go { color: #717171 } /* Generic.Output */\n",
       ".output_html .gp { color: #000080; font-weight: bold } /* Generic.Prompt */\n",
       ".output_html .gs { font-weight: bold } /* Generic.Strong */\n",
       ".output_html .gu { color: #800080; font-weight: bold } /* Generic.Subheading */\n",
       ".output_html .gt { color: #0044DD } /* Generic.Traceback */\n",
       ".output_html .kc { color: #008000; font-weight: bold } /* Keyword.Constant */\n",
       ".output_html .kd { color: #008000; font-weight: bold } /* Keyword.Declaration */\n",
       ".output_html .kn { color: #008000; font-weight: bold } /* Keyword.Namespace */\n",
       ".output_html .kp { color: #008000 } /* Keyword.Pseudo */\n",
       ".output_html .kr { color: #008000; font-weight: bold } /* Keyword.Reserved */\n",
       ".output_html .kt { color: #B00040 } /* Keyword.Type */\n",
       ".output_html .m { color: #666666 } /* Literal.Number */\n",
       ".output_html .s { color: #BA2121 } /* Literal.String */\n",
       ".output_html .na { color: #687822 } /* Name.Attribute */\n",
       ".output_html .nb { color: #008000 } /* Name.Builtin */\n",
       ".output_html .nc { color: #0000FF; font-weight: bold } /* Name.Class */\n",
       ".output_html .no { color: #880000 } /* Name.Constant */\n",
       ".output_html .nd { color: #AA22FF } /* Name.Decorator */\n",
       ".output_html .ni { color: #717171; font-weight: bold } /* Name.Entity */\n",
       ".output_html .ne { color: #CB3F38; font-weight: bold } /* Name.Exception */\n",
       ".output_html .nf { color: #0000FF } /* Name.Function */\n",
       ".output_html .nl { color: #767600 } /* Name.Label */\n",
       ".output_html .nn { color: #0000FF; font-weight: bold } /* Name.Namespace */\n",
       ".output_html .nt { color: #008000; font-weight: bold } /* Name.Tag */\n",
       ".output_html .nv { color: #19177C } /* Name.Variable */\n",
       ".output_html .ow { color: #AA22FF; font-weight: bold } /* Operator.Word */\n",
       ".output_html .w { color: #bbbbbb } /* Text.Whitespace */\n",
       ".output_html .mb { color: #666666 } /* Literal.Number.Bin */\n",
       ".output_html .mf { color: #666666 } /* Literal.Number.Float */\n",
       ".output_html .mh { color: #666666 } /* Literal.Number.Hex */\n",
       ".output_html .mi { color: #666666 } /* Literal.Number.Integer */\n",
       ".output_html .mo { color: #666666 } /* Literal.Number.Oct */\n",
       ".output_html .sa { color: #BA2121 } /* Literal.String.Affix */\n",
       ".output_html .sb { color: #BA2121 } /* Literal.String.Backtick */\n",
       ".output_html .sc { color: #BA2121 } /* Literal.String.Char */\n",
       ".output_html .dl { color: #BA2121 } /* Literal.String.Delimiter */\n",
       ".output_html .sd { color: #BA2121; font-style: italic } /* Literal.String.Doc */\n",
       ".output_html .s2 { color: #BA2121 } /* Literal.String.Double */\n",
       ".output_html .se { color: #AA5D1F; font-weight: bold } /* Literal.String.Escape */\n",
       ".output_html .sh { color: #BA2121 } /* Literal.String.Heredoc */\n",
       ".output_html .si { color: #A45A77; font-weight: bold } /* Literal.String.Interpol */\n",
       ".output_html .sx { color: #008000 } /* Literal.String.Other */\n",
       ".output_html .sr { color: #A45A77 } /* Literal.String.Regex */\n",
       ".output_html .s1 { color: #BA2121 } /* Literal.String.Single */\n",
       ".output_html .ss { color: #19177C } /* Literal.String.Symbol */\n",
       ".output_html .bp { color: #008000 } /* Name.Builtin.Pseudo */\n",
       ".output_html .fm { color: #0000FF } /* Name.Function.Magic */\n",
       ".output_html .vc { color: #19177C } /* Name.Variable.Class */\n",
       ".output_html .vg { color: #19177C } /* Name.Variable.Global */\n",
       ".output_html .vi { color: #19177C } /* Name.Variable.Instance */\n",
       ".output_html .vm { color: #19177C } /* Name.Variable.Magic */\n",
       ".output_html .il { color: #666666 } /* Literal.Number.Integer.Long */</style><div class=\"highlight\"><pre><span></span><span class=\"c1\">// not_shared.s:6-18 (13 lines)</span>\n",
       "<span class=\"nl\">wait</span><span class=\"p\">:</span>\n",
       "<span class=\"p\">.</span><span class=\"n\">LFB0</span><span class=\"o\">:</span>\n",
       "<span class=\"w\">\t</span><span class=\"p\">.</span><span class=\"n\">cfi_startproc</span>\n",
       "<span class=\"w\">\t</span><span class=\"n\">endbr64</span>\n",
       "<span class=\"w\">\t</span><span class=\"p\">.</span><span class=\"n\">p2align</span><span class=\"w\"> </span><span class=\"mi\">4</span><span class=\"p\">,,</span><span class=\"mi\">10</span>\n",
       "<span class=\"w\">\t</span><span class=\"p\">.</span><span class=\"n\">p2align</span><span class=\"w\"> </span><span class=\"mi\">3</span>\n",
       "<span class=\"p\">.</span><span class=\"n\">L2</span><span class=\"o\">:</span>\n",
       "<span class=\"w\">\t</span><span class=\"n\">movl</span><span class=\"w\">\t</span><span class=\"n\">flag</span><span class=\"p\">(</span><span class=\"o\">%</span><span class=\"n\">rip</span><span class=\"p\">),</span><span class=\"w\"> </span><span class=\"o\">%</span><span class=\"n\">eax</span>\n",
       "<span class=\"w\">\t</span><span class=\"n\">testl</span><span class=\"w\">\t</span><span class=\"o\">%</span><span class=\"n\">eax</span><span class=\"p\">,</span><span class=\"w\"> </span><span class=\"o\">%</span><span class=\"n\">eax</span>\n",
       "<span class=\"w\">\t</span><span class=\"n\">jne</span><span class=\"w\">\t</span><span class=\"p\">.</span><span class=\"n\">L2</span>\n",
       "<span class=\"w\">\t</span><span class=\"n\">ret</span>\n",
       "<span class=\"w\">\t</span><span class=\"p\">.</span><span class=\"n\">cfi_endproc</span>\n",
       "<span class=\"p\">.</span><span class=\"n\">LFE0</span><span class=\"o\">:</span>\n",
       "</pre></div>\n"
      ],
      "text/latex": [
       "\\begin{Verbatim}[commandchars=\\\\\\{\\}]\n",
       "\\PY{c+c1}{// not\\PYZus{}shared.s:6\\PYZhy{}18 (13 lines)}\n",
       "\\PY{n+nl}{wait}\\PY{p}{:}\n",
       "\\PY{p}{.}\\PY{n}{LFB0}\\PY{o}{:}\n",
       "\\PY{+w}{\t}\\PY{p}{.}\\PY{n}{cfi\\PYZus{}startproc}\n",
       "\\PY{+w}{\t}\\PY{n}{endbr64}\n",
       "\\PY{+w}{\t}\\PY{p}{.}\\PY{n}{p2align}\\PY{+w}{ }\\PY{l+m+mi}{4}\\PY{p}{,}\\PY{p}{,}\\PY{l+m+mi}{10}\n",
       "\\PY{+w}{\t}\\PY{p}{.}\\PY{n}{p2align}\\PY{+w}{ }\\PY{l+m+mi}{3}\n",
       "\\PY{p}{.}\\PY{n}{L2}\\PY{o}{:}\n",
       "\\PY{+w}{\t}\\PY{n}{movl}\\PY{+w}{\t}\\PY{n}{flag}\\PY{p}{(}\\PY{o}{\\PYZpc{}}\\PY{n}{rip}\\PY{p}{)}\\PY{p}{,}\\PY{+w}{ }\\PY{o}{\\PYZpc{}}\\PY{n}{eax}\n",
       "\\PY{+w}{\t}\\PY{n}{testl}\\PY{+w}{\t}\\PY{o}{\\PYZpc{}}\\PY{n}{eax}\\PY{p}{,}\\PY{+w}{ }\\PY{o}{\\PYZpc{}}\\PY{n}{eax}\n",
       "\\PY{+w}{\t}\\PY{n}{jne}\\PY{+w}{\t}\\PY{p}{.}\\PY{n}{L2}\n",
       "\\PY{+w}{\t}\\PY{n}{ret}\n",
       "\\PY{+w}{\t}\\PY{p}{.}\\PY{n}{cfi\\PYZus{}endproc}\n",
       "\\PY{p}{.}\\PY{n}{LFE0}\\PY{o}{:}\n",
       "\\end{Verbatim}\n"
      ],
      "text/plain": [
       "// not_shared.s:6-18 (13 lines)\n",
       "wait:\n",
       ".LFB0:\n",
       "\t.cfi_startproc\n",
       "\tendbr64\n",
       "\t.p2align 4,,10\n",
       "\t.p2align 3\n",
       ".L2:\n",
       "\tmovl\tflag(%rip), %eax\n",
       "\ttestl\t%eax, %eax\n",
       "\tjne\t.L2\n",
       "\tret\n",
       "\t.cfi_endproc\n",
       ".LFE0:"
      ]
     },
     "metadata": {},
     "output_type": "display_data"
    }
   ],
   "source": [
    "\n",
    "t = fiddle(\"not_shared.cpp\", function=\"wait\", opt=\"-O3\",\n",
    "code=r\"\"\"\n",
    "\n",
    "volatile int flag = 0;\n",
    "extern \"C\"\n",
    "void wait() {\n",
    "    while(flag);\n",
    "}\n",
    "\n",
    "void signal() {\n",
    "    flag = 1;\n",
    "}\n",
    "\n",
    "\"\"\", run=None)\n",
    "! g++ -S -O3 build/not_shared.cpp\n",
    "render_code(\"not_shared.s\", show=[\"wait:\", \".LFE0\"])"
   ]
  },
  {
   "cell_type": "markdown",
   "metadata": {
    "deletable": false,
    "editable": false,
    "tags": []
   },
   "source": [
    "Now, `wait()` checks `flag` every time, and our communication mechanism will work.  Or will it...\n",
    "\n",
    "### Memory Ordering\n",
    "\n",
    "Here's a slightly more complicated example that actually uses our communication mechanism: instead of waiting on a fixed value for flag, `wait()` will wait for a configurable value.  The threads take turns waiting on one another, and set `other_value` each time.  They also check whether `flag` and `other_value` match, and tell us if they don't."
   ]
  },
  {
   "cell_type": "code",
   "execution_count": 10,
   "metadata": {
    "deletable": false,
    "editable": false,
    "tags": []
   },
   "outputs": [
    {
     "name": "stdout",
     "output_type": "stream",
     "text": [
      "Done code generation...\n"
     ]
    }
   ],
   "source": [
    "\n",
    "t = fiddle(\"toggle.cpp\", function=\"toggle\", opt=\"-O3\",\n",
    "code=r\"\"\"\n",
    "#include\"function_map.hpp\"\n",
    "#include<cstdint>\n",
    "#include<thread>\n",
    "\n",
    "volatile int flag = 0;\n",
    "volatile int other_value = 0;\n",
    "\n",
    "extern \"C\"\n",
    "void wait(int k) {\n",
    "    while(flag != k);\n",
    "}\n",
    "\n",
    "void signal(int k) {\n",
    "    flag = k;\n",
    "}\n",
    "\n",
    "void play(int my_id, int other_id, int count) {\n",
    "    for(int i = 0; i < count; i++) {\n",
    "        wait(other_id);\n",
    "        int t_flag = flag;\n",
    "        int t_other_value = other_value;\n",
    "        if (t_flag != t_other_value) {\n",
    "            std::cerr << \"Mismatch: \" << t_flag << \" != \" << t_other_value << \"\\n\";\n",
    "        }\n",
    "        other_value = my_id;\n",
    "        signal(my_id);\n",
    "    }\n",
    "}\n",
    "\n",
    "extern \"C\"\n",
    "uint64_t* toggle(uint64_t thread_count, uint64_t * data, uint64_t size, uint64_t arg1, uint64_t arg2, uint64_t arg3) {\n",
    "    std::thread T0(play, 0, 1, 10000000);\n",
    "    std::thread T1(play, 1, 0, 10000000);\n",
    "    \n",
    "    T0.join();\n",
    "    T1.join();\n",
    "    return data;\n",
    "}\n",
    "\n",
    "FUNCTION(one_array_2arg, toggle);\n",
    "\"\"\", run=None)"
   ]
  },
  {
   "cell_type": "markdown",
   "metadata": {
    "cs203.is_response": true,
    "cs203.points": 1,
    "cs203.question_type": "completeness",
    "deletable": false,
    "editable": false,
    "solution2": "hidden",
    "solution2_first": true,
    "tags": []
   },
   "source": [
    "<div class=\"alert alert-block alert-success\"><div class=\"question completeness\">\n",
    "\n",
    "### Question 2 (Completeness)\n",
    "\n",
    "<div class=\"question-text\">\n",
    "\n",
    "In the above code, will the `std::cerr` line ever execute?  Why or why not?\n",
    "\n",
    "</div>\n",
    "    \n",
    "</div>\n",
    "</div>"
   ]
  },
  {
   "cell_type": "markdown",
   "metadata": {
    "cs203.is_response": true,
    "cs203.points": 1,
    "cs203.question_type": "completeness",
    "deletable": false,
    "editable": true,
    "solution2": "hidden",
    "solution2_first": true
   },
   "source": [
    "<div class=\"alert alert-block alert-success\">\n",
    "<div class=\"answer\">\n",
    "Answer:     \n",
    "    \n",
    "</div>\n",
    "</div>"
   ]
  },
  {
   "cell_type": "markdown",
   "metadata": {
    "editable": false,
    "solution2": "hidden"
   },
   "source": [
    "<div class=\"solution\">\n",
    "    \n",
    "We start off with `flag == 0` and `other_value == 0`.\n",
    "    \n",
    "`T0` will spend some time `wait()`ing for 1 (`other_id`).\n",
    "    \n",
    "`T1` will call `wait()` for 0 (its value of `other_id`), but will not wait at all, since `flag` was initialized to 0.  `T1` will read `flag` and `other_value`.  They will both be 0, and the `std::cerr` will not happen.\n",
    "    \n",
    "`T1` then sets `other_value` to 1 (it's value of `my_id`).  *After* that, it calls `signal()` which sets `flag` to 1.\n",
    "    \n",
    "At this point, it seems that `T0`'s call to `wait()` will find that `flag == 1`, and stop waiting.  Then `T0` will the do the same things that `T1` did, as described above.\n",
    "\n",
    "It would seem that since each thread sets `other_value` before calling `signal()`, that the `std::cerr` should never execute.\n",
    "    \n",
    "But of course, then, why did I write this code and this question?\n",
    "    \n",
    "</div>"
   ]
  },
  {
   "cell_type": "markdown",
   "metadata": {
    "deletable": false,
    "editable": false,
    "tags": []
   },
   "source": [
    "Let's run it and see..."
   ]
  },
  {
   "cell_type": "code",
   "execution_count": 11,
   "metadata": {
    "deletable": false,
    "editable": false,
    "tags": []
   },
   "outputs": [
    {
     "name": "stdout",
     "output_type": "stream",
     "text": [
      "Done code generation...\n",
      "make: 'fiddle.exe' is up to date.\n",
      "mkdir -p build/ \n",
      "cp *.hpp build/\n",
      "cp *.h   build/\n",
      "g++-9  -DHAVE_LINUX_PERF_EVENT_H -pthread -DHAVE_LINUX_PERF_EVENT_H -I/datahub/htseng/2023fa-cs203-parallelism-starter -g -O3 -fopenmp -lm -pthread -lboost_program_options -L/usr/lib/ -lboost_system -ldl  -rdynamic -fPIC -shared -o build/toggle.so build/toggle.cpp\n",
      "registering function: toggle\n",
      "Dynamically registering toggle\n",
      "Execution started\n",
      "Mismatch: 1 != 0\n",
      "Mismatch: 1 != 0\n",
      "Mismatch: 0 != Mismatch: 0 != 1\n",
      "1\n",
      "Mismatch: 1 != 0\n",
      "Mismatch: 1 != 0\n",
      "Mismatch: 1 != 0\n",
      "Mismatch: 0 != 1\n",
      "Mismatch: 1 != 0\n",
      "Mismatch: 1 != 0\n",
      "Mismatch: 0 != 1\n",
      "Mismatch: 1 != 0\n",
      "Mismatch: 1 != 0\n",
      "Mismatch: 1 != 0\n",
      "Mismatch: 0 != 1\n",
      "Mismatch: 0 != 1\n",
      "Mismatch: 0 != 1\n",
      "Mismatch: 0 != 1\n",
      "Mismatch: Mismatch: 1 != 0\n",
      "1 != 0\n",
      "Mismatch: 1 != 0\n",
      "Mismatch: 1 != 0\n",
      "Mismatch: 0 != 1\n",
      "Mismatch: 0 != 1\n",
      "Mismatch: 0 != 1\n",
      "Mismatch: 0 != 1\n",
      "Mismatch: 0 != 1\n",
      "Mismatch: 0 != 1\n",
      "Mismatch: 0 != 1\n",
      "Mismatch: 0 != 1\n",
      "Mismatch: 0 != 1\n",
      "Mismatch: 1 != 0\n",
      "Mismatch: 0 != 1\n",
      "Mismatch: 0 != 1\n",
      "Mismatch: 1 != 0\n",
      "Mismatch: 1 != 0\n",
      "Mismatch: 1 != 0\n",
      "Mismatch: 0 != 1\n",
      "Mismatch: 0 != 1\n",
      "Mismatch: 0 != 1\n",
      "Mismatch: 0 != 1\n",
      "Mismatch: 1 != 0\n",
      "Mismatch: 1 != 0\n",
      "Mismatch: 0 != 1\n",
      "Mismatch: 0 != 1\n",
      "Mismatch: 1 != 0\n",
      "Mismatch: 0 != 1\n",
      "Mismatch: 1 != 0\n",
      "Mismatch: 0Mismatch: 0 != 1\n",
      " != 1\n",
      "Mismatch: 1 != 0\n",
      "Mismatch: 0 != 1\n",
      "Mismatch: 0 != 1\n",
      "Mismatch: 1 != 0\n",
      "Mismatch: 1 != 0\n",
      "Execution completed\n"
     ]
    }
   ],
   "source": [
    "fiddle(\"toggle.cpp\", function=\"toggle\", opt=\"-O3\", run=[\"perf_count\"])\n",
    "! cs203 job run \"make fiddle.exe; make C_OPTS=\"-O3\" build/toggle.so\"\n",
    "! cs203 job run \"./fiddle.exe -lib ./build/toggle.so -M 3300 --detail -f toggle  -o toggle.csv\""
   ]
  },
  {
   "cell_type": "markdown",
   "metadata": {
    "deletable": false,
    "editable": false,
    "tags": []
   },
   "source": [
    "Hmmm... That is definitely not \"never\" executing, although it is pretty rare.  It's also non-deterministic:  If you run it more than once, you'll get different mismatches.\n",
    "\n",
    "What's going on?  It would seem that our intuitive understanding of how our multi-threaded program should execute does not match what actually happens when it really executes.\n",
    "\n",
    "This source of this mismatch is something called the processor's _consistency model_.   The consistency model determines how processors \"see\" memory operations performed by other processors.  In particular, it  determines in what order stores _appear_ to occur.  Different instruction sets come with different consistency models: x86 has one, ARM has one, etc.\n",
    "\n",
    "Consistency models are easily the most complicated aspect of modern Instruction Set Architectures, and their details are pretty far beyond the scope of this course. However, they are crucial for making multithreaded programs work, so we will cover a few basic points.\n",
    "\n",
    "The basic problem with the code above is that the x86 consistency model allows the stores that `T0` performs to _appear_ , from `T1`'s perspective, to happen in a different order than `T0` executed them in.  In the code above, `T1` can load from `flag` and find that it's equal to 0 _and then_ read from `other_value` and find it equal to one.\n",
    "\n",
    "x86 provides some special instructions that prevent this reordering.  They are called 'fences' because they keep memory operations from moving around.  It's possible to use them directly, but that's a subject for another class.  Instead, we'll use _locks_, which are a cleaner way of coordinating threads."
   ]
  },
  {
   "cell_type": "markdown",
   "metadata": {
    "deletable": false,
    "editable": false,
    "tags": []
   },
   "source": [
    "###  Locks\n",
    "\n",
    "A _lock_ or _mutual exclusion variable (mutex)_ is a small data structure that can be _locked_ and _unlocked_.  We'll use C++'s `std::mutex`.  \n",
    "\n",
    "If a thread calls `lock()` on a mutex that is not currently locked, the thread \"holds\" the lock and starts executing a region of code called a \"critical section\".  At the end of the critical section, it calls `unlock()` to release the lock.\n",
    "\n",
    "If a thread, `T`, calls `lock()` on a mutex that _is_ currently locked, it will wait until the thread that holds it calls `unlock()`.  Then, `T` gets the lock and can proceed.\n",
    "\n",
    "The result is that, at any time, only one thread is executing inside the critical section.\n",
    "\n",
    "Internally, locks are implementing using some kind of flag (similar to `flag` in our example above) and some of those fences I mentioned above. \n",
    "\n",
    "Here's an example.  In this code, we have a shared variable `shared`.  Several threads are going to work together to increment `shared` 600,000 times.  If we run with $n$ threads, each will do 600,000/$n$ increments.\n",
    "\n",
    "If `do_lock` is `true`, they will use `yes_locks()` which protects each lock with an increment.  Otherwise, they will use `no_locks()` which doesn't.\n"
   ]
  },
  {
   "cell_type": "code",
   "execution_count": 12,
   "metadata": {
    "deletable": false,
    "editable": false,
    "tags": []
   },
   "outputs": [
    {
     "name": "stdout",
     "output_type": "stream",
     "text": [
      "Done code generation...\n",
      "make: Warning: File 'build/lock_demo.cpp' has modification time 0.22 s in the future\n",
      "mkdir -p build/ \n",
      "g++-9 -pthread -DHAVE_LINUX_PERF_EVENT_H -I/datahub/htseng/2023fa-cs203-parallelism-starter -g -O1 -fopenmp -lm -pthread -lboost_program_options -L/usr/lib/ -lboost_system -ldl  -S build/lock_demo.cpp\n",
      "make: warning:  Clock skew detected.  Your build may be incomplete.\n"
     ]
    },
    {
     "data": {
      "text/html": [
       "<style>pre { line-height: 125%; }\n",
       "td.linenos .normal { color: inherit; background-color: transparent; padding-left: 5px; padding-right: 5px; }\n",
       "span.linenos { color: inherit; background-color: transparent; padding-left: 5px; padding-right: 5px; }\n",
       "td.linenos .special { color: #000000; background-color: #ffffc0; padding-left: 5px; padding-right: 5px; }\n",
       "span.linenos.special { color: #000000; background-color: #ffffc0; padding-left: 5px; padding-right: 5px; }\n",
       ".output_html .hll { background-color: #ffffcc }\n",
       ".output_html { background: #f8f8f8; }\n",
       ".output_html .c { color: #3D7B7B; font-style: italic } /* Comment */\n",
       ".output_html .err { border: 1px solid #FF0000 } /* Error */\n",
       ".output_html .k { color: #008000; font-weight: bold } /* Keyword */\n",
       ".output_html .o { color: #666666 } /* Operator */\n",
       ".output_html .ch { color: #3D7B7B; font-style: italic } /* Comment.Hashbang */\n",
       ".output_html .cm { color: #3D7B7B; font-style: italic } /* Comment.Multiline */\n",
       ".output_html .cp { color: #9C6500 } /* Comment.Preproc */\n",
       ".output_html .cpf { color: #3D7B7B; font-style: italic } /* Comment.PreprocFile */\n",
       ".output_html .c1 { color: #3D7B7B; font-style: italic } /* Comment.Single */\n",
       ".output_html .cs { color: #3D7B7B; font-style: italic } /* Comment.Special */\n",
       ".output_html .gd { color: #A00000 } /* Generic.Deleted */\n",
       ".output_html .ge { font-style: italic } /* Generic.Emph */\n",
       ".output_html .gr { color: #E40000 } /* Generic.Error */\n",
       ".output_html .gh { color: #000080; font-weight: bold } /* Generic.Heading */\n",
       ".output_html .gi { color: #008400 } /* Generic.Inserted */\n",
       ".output_html .go { color: #717171 } /* Generic.Output */\n",
       ".output_html .gp { color: #000080; font-weight: bold } /* Generic.Prompt */\n",
       ".output_html .gs { font-weight: bold } /* Generic.Strong */\n",
       ".output_html .gu { color: #800080; font-weight: bold } /* Generic.Subheading */\n",
       ".output_html .gt { color: #0044DD } /* Generic.Traceback */\n",
       ".output_html .kc { color: #008000; font-weight: bold } /* Keyword.Constant */\n",
       ".output_html .kd { color: #008000; font-weight: bold } /* Keyword.Declaration */\n",
       ".output_html .kn { color: #008000; font-weight: bold } /* Keyword.Namespace */\n",
       ".output_html .kp { color: #008000 } /* Keyword.Pseudo */\n",
       ".output_html .kr { color: #008000; font-weight: bold } /* Keyword.Reserved */\n",
       ".output_html .kt { color: #B00040 } /* Keyword.Type */\n",
       ".output_html .m { color: #666666 } /* Literal.Number */\n",
       ".output_html .s { color: #BA2121 } /* Literal.String */\n",
       ".output_html .na { color: #687822 } /* Name.Attribute */\n",
       ".output_html .nb { color: #008000 } /* Name.Builtin */\n",
       ".output_html .nc { color: #0000FF; font-weight: bold } /* Name.Class */\n",
       ".output_html .no { color: #880000 } /* Name.Constant */\n",
       ".output_html .nd { color: #AA22FF } /* Name.Decorator */\n",
       ".output_html .ni { color: #717171; font-weight: bold } /* Name.Entity */\n",
       ".output_html .ne { color: #CB3F38; font-weight: bold } /* Name.Exception */\n",
       ".output_html .nf { color: #0000FF } /* Name.Function */\n",
       ".output_html .nl { color: #767600 } /* Name.Label */\n",
       ".output_html .nn { color: #0000FF; font-weight: bold } /* Name.Namespace */\n",
       ".output_html .nt { color: #008000; font-weight: bold } /* Name.Tag */\n",
       ".output_html .nv { color: #19177C } /* Name.Variable */\n",
       ".output_html .ow { color: #AA22FF; font-weight: bold } /* Operator.Word */\n",
       ".output_html .w { color: #bbbbbb } /* Text.Whitespace */\n",
       ".output_html .mb { color: #666666 } /* Literal.Number.Bin */\n",
       ".output_html .mf { color: #666666 } /* Literal.Number.Float */\n",
       ".output_html .mh { color: #666666 } /* Literal.Number.Hex */\n",
       ".output_html .mi { color: #666666 } /* Literal.Number.Integer */\n",
       ".output_html .mo { color: #666666 } /* Literal.Number.Oct */\n",
       ".output_html .sa { color: #BA2121 } /* Literal.String.Affix */\n",
       ".output_html .sb { color: #BA2121 } /* Literal.String.Backtick */\n",
       ".output_html .sc { color: #BA2121 } /* Literal.String.Char */\n",
       ".output_html .dl { color: #BA2121 } /* Literal.String.Delimiter */\n",
       ".output_html .sd { color: #BA2121; font-style: italic } /* Literal.String.Doc */\n",
       ".output_html .s2 { color: #BA2121 } /* Literal.String.Double */\n",
       ".output_html .se { color: #AA5D1F; font-weight: bold } /* Literal.String.Escape */\n",
       ".output_html .sh { color: #BA2121 } /* Literal.String.Heredoc */\n",
       ".output_html .si { color: #A45A77; font-weight: bold } /* Literal.String.Interpol */\n",
       ".output_html .sx { color: #008000 } /* Literal.String.Other */\n",
       ".output_html .sr { color: #A45A77 } /* Literal.String.Regex */\n",
       ".output_html .s1 { color: #BA2121 } /* Literal.String.Single */\n",
       ".output_html .ss { color: #19177C } /* Literal.String.Symbol */\n",
       ".output_html .bp { color: #008000 } /* Name.Builtin.Pseudo */\n",
       ".output_html .fm { color: #0000FF } /* Name.Function.Magic */\n",
       ".output_html .vc { color: #19177C } /* Name.Variable.Class */\n",
       ".output_html .vg { color: #19177C } /* Name.Variable.Global */\n",
       ".output_html .vi { color: #19177C } /* Name.Variable.Instance */\n",
       ".output_html .vm { color: #19177C } /* Name.Variable.Magic */\n",
       ".output_html .il { color: #666666 } /* Literal.Number.Integer.Long */</style><div class=\"highlight\"><pre><span></span><span class=\"c1\">// lock_demo.s:101-271 (171 lines)</span>\n",
       "<span class=\"nl\">yes_locks</span><span class=\"p\">:</span>\n",
       "<span class=\"p\">.</span><span class=\"n\">LVL9</span><span class=\"o\">:</span>\n",
       "<span class=\"p\">.</span><span class=\"n\">LFB3782</span><span class=\"o\">:</span>\n",
       "<span class=\"w\">\t</span><span class=\"p\">.</span><span class=\"n\">loc</span><span class=\"w\"> </span><span class=\"mi\">1</span><span class=\"w\"> </span><span class=\"mi\">10</span><span class=\"w\"> </span><span class=\"mi\">40</span><span class=\"w\"> </span><span class=\"n\">is_stmt</span><span class=\"w\"> </span><span class=\"mi\">1</span><span class=\"w\"> </span><span class=\"n\">view</span><span class=\"w\"> </span><span class=\"mi\">-0</span>\n",
       "<span class=\"w\">\t</span><span class=\"p\">.</span><span class=\"n\">cfi_startproc</span>\n",
       "<span class=\"w\">\t</span><span class=\"p\">.</span><span class=\"n\">loc</span><span class=\"w\"> </span><span class=\"mi\">1</span><span class=\"w\"> </span><span class=\"mi\">10</span><span class=\"w\"> </span><span class=\"mi\">40</span><span class=\"w\"> </span><span class=\"n\">is_stmt</span><span class=\"w\"> </span><span class=\"mi\">0</span><span class=\"w\"> </span><span class=\"n\">view</span><span class=\"w\"> </span><span class=\"p\">.</span><span class=\"n\">LVU22</span>\n",
       "<span class=\"w\">\t</span><span class=\"n\">endbr64</span>\n",
       "<span class=\"w\">\t</span><span class=\"p\">.</span><span class=\"n\">loc</span><span class=\"w\"> </span><span class=\"mi\">1</span><span class=\"w\"> </span><span class=\"mi\">11</span><span class=\"w\"> </span><span class=\"mi\">5</span><span class=\"w\"> </span><span class=\"n\">is_stmt</span><span class=\"w\"> </span><span class=\"mi\">1</span><span class=\"w\"> </span><span class=\"n\">view</span><span class=\"w\"> </span><span class=\"p\">.</span><span class=\"n\">LVU23</span>\n",
       "<span class=\"p\">.</span><span class=\"n\">LVL10</span><span class=\"o\">:</span>\n",
       "<span class=\"p\">.</span><span class=\"n\">LBB2378</span><span class=\"o\">:</span>\n",
       "<span class=\"w\">\t</span><span class=\"p\">.</span><span class=\"n\">loc</span><span class=\"w\"> </span><span class=\"mi\">1</span><span class=\"w\"> </span><span class=\"mi\">11</span><span class=\"w\"> </span><span class=\"mi\">21</span><span class=\"w\"> </span><span class=\"n\">view</span><span class=\"w\"> </span><span class=\"p\">.</span><span class=\"n\">LVU24</span>\n",
       "<span class=\"w\">\t</span><span class=\"n\">testl</span><span class=\"w\">\t</span><span class=\"o\">%</span><span class=\"n\">esi</span><span class=\"p\">,</span><span class=\"w\"> </span><span class=\"o\">%</span><span class=\"n\">esi</span>\n",
       "<span class=\"w\">\t</span><span class=\"n\">jle</span><span class=\"w\">\t</span><span class=\"p\">.</span><span class=\"n\">L14</span>\n",
       "<span class=\"p\">.</span><span class=\"n\">LBE2378</span><span class=\"o\">:</span>\n",
       "<span class=\"w\">\t</span><span class=\"p\">.</span><span class=\"n\">loc</span><span class=\"w\"> </span><span class=\"mi\">1</span><span class=\"w\"> </span><span class=\"mi\">10</span><span class=\"w\"> </span><span class=\"mi\">40</span><span class=\"w\"> </span><span class=\"n\">is_stmt</span><span class=\"w\"> </span><span class=\"mi\">0</span><span class=\"w\"> </span><span class=\"n\">view</span><span class=\"w\"> </span><span class=\"p\">.</span><span class=\"n\">LVU25</span>\n",
       "<span class=\"w\">\t</span><span class=\"n\">pushq</span><span class=\"w\">\t</span><span class=\"o\">%</span><span class=\"n\">r12</span>\n",
       "<span class=\"w\">\t</span><span class=\"p\">.</span><span class=\"n\">cfi_def_cfa_offset</span><span class=\"w\"> </span><span class=\"mi\">16</span>\n",
       "<span class=\"w\">\t</span><span class=\"p\">.</span><span class=\"n\">cfi_offset</span><span class=\"w\"> </span><span class=\"mi\">12</span><span class=\"p\">,</span><span class=\"w\"> </span><span class=\"mi\">-16</span>\n",
       "<span class=\"w\">\t</span><span class=\"n\">pushq</span><span class=\"w\">\t</span><span class=\"o\">%</span><span class=\"n\">rbp</span>\n",
       "<span class=\"w\">\t</span><span class=\"p\">.</span><span class=\"n\">cfi_def_cfa_offset</span><span class=\"w\"> </span><span class=\"mi\">24</span>\n",
       "<span class=\"w\">\t</span><span class=\"p\">.</span><span class=\"n\">cfi_offset</span><span class=\"w\"> </span><span class=\"mi\">6</span><span class=\"p\">,</span><span class=\"w\"> </span><span class=\"mi\">-24</span>\n",
       "<span class=\"w\">\t</span><span class=\"n\">pushq</span><span class=\"w\">\t</span><span class=\"o\">%</span><span class=\"n\">rbx</span>\n",
       "<span class=\"w\">\t</span><span class=\"p\">.</span><span class=\"n\">cfi_def_cfa_offset</span><span class=\"w\"> </span><span class=\"mi\">32</span>\n",
       "<span class=\"w\">\t</span><span class=\"p\">.</span><span class=\"n\">cfi_offset</span><span class=\"w\"> </span><span class=\"mi\">3</span><span class=\"p\">,</span><span class=\"w\"> </span><span class=\"mi\">-32</span>\n",
       "<span class=\"w\">\t</span><span class=\"n\">movl</span><span class=\"w\">\t</span><span class=\"o\">%</span><span class=\"n\">esi</span><span class=\"p\">,</span><span class=\"w\"> </span><span class=\"o\">%</span><span class=\"n\">ebp</span>\n",
       "<span class=\"p\">.</span><span class=\"n\">LBB2400</span><span class=\"o\">:</span>\n",
       "<span class=\"w\">\t</span><span class=\"p\">.</span><span class=\"n\">loc</span><span class=\"w\"> </span><span class=\"mi\">1</span><span class=\"w\"> </span><span class=\"mi\">11</span><span class=\"w\"> </span><span class=\"mi\">13</span><span class=\"w\"> </span><span class=\"n\">view</span><span class=\"w\"> </span><span class=\"p\">.</span><span class=\"n\">LVU26</span>\n",
       "<span class=\"w\">\t</span><span class=\"n\">movl</span><span class=\"w\">\t</span><span class=\"n\">$0</span><span class=\"p\">,</span><span class=\"w\"> </span><span class=\"o\">%</span><span class=\"n\">ebx</span>\n",
       "<span class=\"p\">.</span><span class=\"n\">LBB2379</span><span class=\"o\">:</span>\n",
       "<span class=\"p\">.</span><span class=\"n\">LBB2380</span><span class=\"o\">:</span>\n",
       "<span class=\"p\">.</span><span class=\"n\">LBB2381</span><span class=\"o\">:</span>\n",
       "<span class=\"p\">.</span><span class=\"n\">LBB2382</span><span class=\"o\">:</span>\n",
       "<span class=\"w\">\t</span><span class=\"p\">.</span><span class=\"n\">file</span><span class=\"w\"> </span><span class=\"mi\">4</span><span class=\"w\"> </span><span class=\"s\">&quot;/usr/include/x86_64-linux-gnu/c++/9/bits/gthr-default.h&quot;</span>\n",
       "<span class=\"w\">\t</span><span class=\"p\">.</span><span class=\"n\">loc</span><span class=\"w\"> </span><span class=\"mi\">4</span><span class=\"w\"> </span><span class=\"mi\">748</span><span class=\"w\"> </span><span class=\"mi\">3</span><span class=\"w\"> </span><span class=\"n\">view</span><span class=\"w\"> </span><span class=\"p\">.</span><span class=\"n\">LVU27</span>\n",
       "<span class=\"w\">\t</span><span class=\"n\">movq</span><span class=\"w\">\t</span><span class=\"n\">_ZL28__gthrw___pthread_key_createPjPFvPvE</span><span class=\"err\">@</span><span class=\"n\">GOTPCREL</span><span class=\"p\">(</span><span class=\"o\">%</span><span class=\"n\">rip</span><span class=\"p\">),</span><span class=\"w\"> </span><span class=\"o\">%</span><span class=\"n\">r12</span>\n",
       "<span class=\"w\">\t</span><span class=\"n\">jmp</span><span class=\"w\">\t</span><span class=\"p\">.</span><span class=\"n\">L11</span>\n",
       "<span class=\"p\">.</span><span class=\"n\">LVL11</span><span class=\"o\">:</span>\n",
       "<span class=\"p\">.</span><span class=\"n\">L9</span><span class=\"o\">:</span>\n",
       "<span class=\"w\">\t</span><span class=\"p\">.</span><span class=\"n\">loc</span><span class=\"w\"> </span><span class=\"mi\">4</span><span class=\"w\"> </span><span class=\"mi\">748</span><span class=\"w\"> </span><span class=\"mi\">3</span><span class=\"w\"> </span><span class=\"n\">view</span><span class=\"w\"> </span><span class=\"p\">.</span><span class=\"n\">LVU28</span>\n",
       "<span class=\"p\">.</span><span class=\"n\">LBE2382</span><span class=\"o\">:</span>\n",
       "<span class=\"p\">.</span><span class=\"n\">LBE2381</span><span class=\"o\">:</span>\n",
       "<span class=\"p\">.</span><span class=\"n\">LBE2380</span><span class=\"o\">:</span>\n",
       "<span class=\"p\">.</span><span class=\"n\">LBE2379</span><span class=\"o\">:</span>\n",
       "<span class=\"w\">\t</span><span class=\"p\">.</span><span class=\"n\">loc</span><span class=\"w\"> </span><span class=\"mi\">1</span><span class=\"w\"> </span><span class=\"mi\">13</span><span class=\"w\"> </span><span class=\"mi\">9</span><span class=\"w\"> </span><span class=\"n\">is_stmt</span><span class=\"w\"> </span><span class=\"mi\">1</span><span class=\"w\"> </span><span class=\"n\">view</span><span class=\"w\"> </span><span class=\"p\">.</span><span class=\"n\">LVU29</span>\n",
       "<span class=\"w\">\t</span><span class=\"p\">.</span><span class=\"n\">loc</span><span class=\"w\"> </span><span class=\"mi\">1</span><span class=\"w\"> </span><span class=\"mi\">13</span><span class=\"w\"> </span><span class=\"mi\">15</span><span class=\"w\"> </span><span class=\"n\">is_stmt</span><span class=\"w\"> </span><span class=\"mi\">0</span><span class=\"w\"> </span><span class=\"n\">view</span><span class=\"w\"> </span><span class=\"p\">.</span><span class=\"n\">LVU30</span>\n",
       "<span class=\"w\">\t</span><span class=\"n\">movl</span><span class=\"w\">\t</span><span class=\"n\">shared</span><span class=\"p\">(</span><span class=\"o\">%</span><span class=\"n\">rip</span><span class=\"p\">),</span><span class=\"w\"> </span><span class=\"o\">%</span><span class=\"n\">eax</span>\n",
       "<span class=\"w\">\t</span><span class=\"n\">addl</span><span class=\"w\">\t</span><span class=\"n\">$1</span><span class=\"p\">,</span><span class=\"w\"> </span><span class=\"o\">%</span><span class=\"n\">eax</span>\n",
       "<span class=\"w\">\t</span><span class=\"n\">movl</span><span class=\"w\">\t</span><span class=\"o\">%</span><span class=\"n\">eax</span><span class=\"p\">,</span><span class=\"w\"> </span><span class=\"n\">shared</span><span class=\"p\">(</span><span class=\"o\">%</span><span class=\"n\">rip</span><span class=\"p\">)</span>\n",
       "<span class=\"w\">\t</span><span class=\"p\">.</span><span class=\"n\">loc</span><span class=\"w\"> </span><span class=\"mi\">1</span><span class=\"w\"> </span><span class=\"mi\">14</span><span class=\"w\"> </span><span class=\"mi\">9</span><span class=\"w\"> </span><span class=\"n\">is_stmt</span><span class=\"w\"> </span><span class=\"mi\">1</span><span class=\"w\"> </span><span class=\"n\">view</span><span class=\"w\"> </span><span class=\"p\">.</span><span class=\"n\">LVU31</span>\n",
       "<span class=\"p\">.</span><span class=\"n\">LVL12</span><span class=\"o\">:</span>\n",
       "<span class=\"p\">.</span><span class=\"n\">LBB2390</span><span class=\"o\">:</span>\n",
       "<span class=\"p\">.</span><span class=\"n\">LBI2390</span><span class=\"o\">:</span>\n",
       "<span class=\"w\">\t</span><span class=\"p\">.</span><span class=\"n\">file</span><span class=\"w\"> </span><span class=\"mi\">5</span><span class=\"w\"> </span><span class=\"s\">&quot;/usr/include/c++/9/bits/std_mutex.h&quot;</span>\n",
       "<span class=\"w\">\t</span><span class=\"p\">.</span><span class=\"n\">loc</span><span class=\"w\"> </span><span class=\"mi\">5</span><span class=\"w\"> </span><span class=\"mi\">115</span><span class=\"w\"> </span><span class=\"mi\">5</span><span class=\"w\"> </span><span class=\"n\">view</span><span class=\"w\"> </span><span class=\"p\">.</span><span class=\"n\">LVU32</span>\n",
       "<span class=\"p\">.</span><span class=\"n\">LBE2390</span><span class=\"o\">:</span>\n",
       "<span class=\"p\">.</span><span class=\"n\">LBE2400</span><span class=\"o\">:</span>\n",
       "<span class=\"w\">\t</span><span class=\"p\">.</span><span class=\"n\">loc</span><span class=\"w\"> </span><span class=\"mi\">5</span><span class=\"w\"> </span><span class=\"mi\">118</span><span class=\"w\"> </span><span class=\"mi\">7</span><span class=\"w\"> </span><span class=\"n\">view</span><span class=\"w\"> </span><span class=\"p\">.</span><span class=\"n\">LVU33</span>\n",
       "<span class=\"p\">.</span><span class=\"n\">LBB2401</span><span class=\"o\">:</span>\n",
       "<span class=\"p\">.</span><span class=\"n\">LBB2396</span><span class=\"o\">:</span>\n",
       "<span class=\"p\">.</span><span class=\"n\">LBB2391</span><span class=\"o\">:</span>\n",
       "<span class=\"p\">.</span><span class=\"n\">LBI2391</span><span class=\"o\">:</span>\n",
       "<span class=\"w\">\t</span><span class=\"p\">.</span><span class=\"n\">loc</span><span class=\"w\"> </span><span class=\"mi\">4</span><span class=\"w\"> </span><span class=\"mi\">776</span><span class=\"w\"> </span><span class=\"mi\">1</span><span class=\"w\"> </span><span class=\"n\">view</span><span class=\"w\"> </span><span class=\"p\">.</span><span class=\"n\">LVU34</span>\n",
       "<span class=\"p\">.</span><span class=\"n\">LBB2392</span><span class=\"o\">:</span>\n",
       "<span class=\"w\">\t</span><span class=\"p\">.</span><span class=\"n\">loc</span><span class=\"w\"> </span><span class=\"mi\">4</span><span class=\"w\"> </span><span class=\"mi\">778</span><span class=\"w\"> </span><span class=\"mi\">3</span><span class=\"w\"> </span><span class=\"n\">view</span><span class=\"w\"> </span><span class=\"p\">.</span><span class=\"n\">LVU35</span>\n",
       "<span class=\"p\">.</span><span class=\"n\">LBB2393</span><span class=\"o\">:</span>\n",
       "<span class=\"p\">.</span><span class=\"n\">LBI2393</span><span class=\"o\">:</span>\n",
       "<span class=\"w\">\t</span><span class=\"p\">.</span><span class=\"n\">loc</span><span class=\"w\"> </span><span class=\"mi\">4</span><span class=\"w\"> </span><span class=\"mi\">248</span><span class=\"w\"> </span><span class=\"mi\">1</span><span class=\"w\"> </span><span class=\"n\">view</span><span class=\"w\"> </span><span class=\"p\">.</span><span class=\"n\">LVU36</span>\n",
       "<span class=\"p\">.</span><span class=\"n\">LBE2393</span><span class=\"o\">:</span>\n",
       "<span class=\"p\">.</span><span class=\"n\">LBE2392</span><span class=\"o\">:</span>\n",
       "<span class=\"p\">.</span><span class=\"n\">LBE2391</span><span class=\"o\">:</span>\n",
       "<span class=\"p\">.</span><span class=\"n\">LBE2396</span><span class=\"o\">:</span>\n",
       "<span class=\"p\">.</span><span class=\"n\">LBE2401</span><span class=\"o\">:</span>\n",
       "<span class=\"w\">\t</span><span class=\"p\">.</span><span class=\"n\">loc</span><span class=\"w\"> </span><span class=\"mi\">4</span><span class=\"w\"> </span><span class=\"mi\">250</span><span class=\"w\"> </span><span class=\"mi\">3</span><span class=\"w\"> </span><span class=\"n\">view</span><span class=\"w\"> </span><span class=\"p\">.</span><span class=\"n\">LVU37</span>\n",
       "<span class=\"w\">\t</span><span class=\"p\">.</span><span class=\"n\">loc</span><span class=\"w\"> </span><span class=\"mi\">4</span><span class=\"w\"> </span><span class=\"mi\">252</span><span class=\"w\"> </span><span class=\"mi\">3</span><span class=\"w\"> </span><span class=\"n\">view</span><span class=\"w\"> </span><span class=\"p\">.</span><span class=\"n\">LVU38</span>\n",
       "<span class=\"p\">.</span><span class=\"n\">LBB2402</span><span class=\"o\">:</span>\n",
       "<span class=\"p\">.</span><span class=\"n\">LBB2397</span><span class=\"o\">:</span>\n",
       "<span class=\"p\">.</span><span class=\"n\">LBB2395</span><span class=\"o\">:</span>\n",
       "<span class=\"p\">.</span><span class=\"n\">LBB2394</span><span class=\"o\">:</span>\n",
       "<span class=\"w\">\t</span><span class=\"p\">.</span><span class=\"n\">loc</span><span class=\"w\"> </span><span class=\"mi\">4</span><span class=\"w\"> </span><span class=\"mi\">778</span><span class=\"w\"> </span><span class=\"mi\">3</span><span class=\"w\"> </span><span class=\"n\">is_stmt</span><span class=\"w\"> </span><span class=\"mi\">0</span><span class=\"w\"> </span><span class=\"n\">view</span><span class=\"w\"> </span><span class=\"p\">.</span><span class=\"n\">LVU39</span>\n",
       "<span class=\"w\">\t</span><span class=\"n\">cmpq</span><span class=\"w\">\t</span><span class=\"n\">$0</span><span class=\"p\">,</span><span class=\"w\"> </span><span class=\"n\">_ZL28__gthrw___pthread_key_createPjPFvPvE</span><span class=\"err\">@</span><span class=\"n\">GOTPCREL</span><span class=\"p\">(</span><span class=\"o\">%</span><span class=\"n\">rip</span><span class=\"p\">)</span>\n",
       "<span class=\"w\">\t</span><span class=\"n\">je</span><span class=\"w\">\t</span><span class=\"p\">.</span><span class=\"n\">L10</span>\n",
       "<span class=\"w\">\t</span><span class=\"p\">.</span><span class=\"n\">loc</span><span class=\"w\"> </span><span class=\"mi\">4</span><span class=\"w\"> </span><span class=\"mi\">779</span><span class=\"w\"> </span><span class=\"mi\">5</span><span class=\"w\"> </span><span class=\"n\">is_stmt</span><span class=\"w\"> </span><span class=\"mi\">1</span><span class=\"w\"> </span><span class=\"n\">view</span><span class=\"w\"> </span><span class=\"p\">.</span><span class=\"n\">LVU40</span>\n",
       "<span class=\"w\">\t</span><span class=\"p\">.</span><span class=\"n\">loc</span><span class=\"w\"> </span><span class=\"mi\">4</span><span class=\"w\"> </span><span class=\"mi\">779</span><span class=\"w\"> </span><span class=\"mi\">43</span><span class=\"w\"> </span><span class=\"n\">is_stmt</span><span class=\"w\"> </span><span class=\"mi\">0</span><span class=\"w\"> </span><span class=\"n\">view</span><span class=\"w\"> </span><span class=\"p\">.</span><span class=\"n\">LVU41</span>\n",
       "<span class=\"w\">\t</span><span class=\"n\">leaq</span><span class=\"w\">\t</span><span class=\"n\">lock</span><span class=\"p\">(</span><span class=\"o\">%</span><span class=\"n\">rip</span><span class=\"p\">),</span><span class=\"w\"> </span><span class=\"o\">%</span><span class=\"n\">rdi</span>\n",
       "<span class=\"w\">\t</span><span class=\"n\">call</span><span class=\"w\">\t</span><span class=\"n\">_ZL28__gthrw_pthread_mutex_unlockP15pthread_mutex_t</span><span class=\"err\">@</span><span class=\"n\">PLT</span>\n",
       "<span class=\"p\">.</span><span class=\"n\">LVL13</span><span class=\"o\">:</span>\n",
       "<span class=\"p\">.</span><span class=\"n\">L10</span><span class=\"o\">:</span>\n",
       "<span class=\"w\">\t</span><span class=\"p\">.</span><span class=\"n\">loc</span><span class=\"w\"> </span><span class=\"mi\">4</span><span class=\"w\"> </span><span class=\"mi\">779</span><span class=\"w\"> </span><span class=\"mi\">43</span><span class=\"w\"> </span><span class=\"n\">view</span><span class=\"w\"> </span><span class=\"p\">.</span><span class=\"n\">LVU42</span>\n",
       "<span class=\"p\">.</span><span class=\"n\">LBE2394</span><span class=\"o\">:</span>\n",
       "<span class=\"p\">.</span><span class=\"n\">LBE2395</span><span class=\"o\">:</span>\n",
       "<span class=\"p\">.</span><span class=\"n\">LBE2397</span><span class=\"o\">:</span>\n",
       "<span class=\"w\">\t</span><span class=\"p\">.</span><span class=\"n\">loc</span><span class=\"w\"> </span><span class=\"mi\">1</span><span class=\"w\"> </span><span class=\"mi\">11</span><span class=\"w\"> </span><span class=\"mi\">5</span><span class=\"w\"> </span><span class=\"n\">is_stmt</span><span class=\"w\"> </span><span class=\"mi\">1</span><span class=\"w\"> </span><span class=\"n\">view</span><span class=\"w\"> </span><span class=\"p\">.</span><span class=\"n\">LVU43</span>\n",
       "<span class=\"w\">\t</span><span class=\"n\">addl</span><span class=\"w\">\t</span><span class=\"n\">$1</span><span class=\"p\">,</span><span class=\"w\"> </span><span class=\"o\">%</span><span class=\"n\">ebx</span>\n",
       "<span class=\"p\">.</span><span class=\"n\">LVL14</span><span class=\"o\">:</span>\n",
       "<span class=\"w\">\t</span><span class=\"p\">.</span><span class=\"n\">loc</span><span class=\"w\"> </span><span class=\"mi\">1</span><span class=\"w\"> </span><span class=\"mi\">11</span><span class=\"w\"> </span><span class=\"mi\">21</span><span class=\"w\"> </span><span class=\"n\">view</span><span class=\"w\"> </span><span class=\"p\">.</span><span class=\"n\">LVU44</span>\n",
       "<span class=\"w\">\t</span><span class=\"n\">cmpl</span><span class=\"w\">\t</span><span class=\"o\">%</span><span class=\"n\">ebx</span><span class=\"p\">,</span><span class=\"w\"> </span><span class=\"o\">%</span><span class=\"n\">ebp</span>\n",
       "<span class=\"w\">\t</span><span class=\"n\">je</span><span class=\"w\">\t</span><span class=\"p\">.</span><span class=\"n\">L17</span>\n",
       "<span class=\"p\">.</span><span class=\"n\">LVL15</span><span class=\"o\">:</span>\n",
       "<span class=\"p\">.</span><span class=\"n\">L11</span><span class=\"o\">:</span>\n",
       "<span class=\"w\">\t</span><span class=\"p\">.</span><span class=\"n\">loc</span><span class=\"w\"> </span><span class=\"mi\">1</span><span class=\"w\"> </span><span class=\"mi\">12</span><span class=\"w\"> </span><span class=\"mi\">9</span><span class=\"w\"> </span><span class=\"n\">view</span><span class=\"w\"> </span><span class=\"p\">.</span><span class=\"n\">LVU45</span>\n",
       "<span class=\"p\">.</span><span class=\"n\">LBB2398</span><span class=\"o\">:</span>\n",
       "<span class=\"p\">.</span><span class=\"n\">LBI2379</span><span class=\"o\">:</span>\n",
       "<span class=\"w\">\t</span><span class=\"p\">.</span><span class=\"n\">loc</span><span class=\"w\"> </span><span class=\"mi\">5</span><span class=\"w\"> </span><span class=\"mi\">98</span><span class=\"w\"> </span><span class=\"mi\">5</span><span class=\"w\"> </span><span class=\"n\">view</span><span class=\"w\"> </span><span class=\"p\">.</span><span class=\"n\">LVU46</span>\n",
       "<span class=\"p\">.</span><span class=\"n\">LBB2388</span><span class=\"o\">:</span>\n",
       "<span class=\"w\">\t</span><span class=\"p\">.</span><span class=\"n\">loc</span><span class=\"w\"> </span><span class=\"mi\">5</span><span class=\"w\"> </span><span class=\"mi\">100</span><span class=\"w\"> </span><span class=\"mi\">7</span><span class=\"w\"> </span><span class=\"n\">view</span><span class=\"w\"> </span><span class=\"p\">.</span><span class=\"n\">LVU47</span>\n",
       "<span class=\"p\">.</span><span class=\"n\">LBB2386</span><span class=\"o\">:</span>\n",
       "<span class=\"p\">.</span><span class=\"n\">LBI2381</span><span class=\"o\">:</span>\n",
       "<span class=\"w\">\t</span><span class=\"p\">.</span><span class=\"n\">loc</span><span class=\"w\"> </span><span class=\"mi\">4</span><span class=\"w\"> </span><span class=\"mi\">746</span><span class=\"w\"> </span><span class=\"mi\">1</span><span class=\"w\"> </span><span class=\"n\">view</span><span class=\"w\"> </span><span class=\"p\">.</span><span class=\"n\">LVU48</span>\n",
       "<span class=\"p\">.</span><span class=\"n\">LBB2384</span><span class=\"o\">:</span>\n",
       "<span class=\"w\">\t</span><span class=\"p\">.</span><span class=\"n\">loc</span><span class=\"w\"> </span><span class=\"mi\">4</span><span class=\"w\"> </span><span class=\"mi\">748</span><span class=\"w\"> </span><span class=\"mi\">3</span><span class=\"w\"> </span><span class=\"n\">view</span><span class=\"w\"> </span><span class=\"p\">.</span><span class=\"n\">LVU49</span>\n",
       "<span class=\"p\">.</span><span class=\"n\">LBB2383</span><span class=\"o\">:</span>\n",
       "<span class=\"p\">.</span><span class=\"n\">LBI2383</span><span class=\"o\">:</span>\n",
       "<span class=\"w\">\t</span><span class=\"p\">.</span><span class=\"n\">loc</span><span class=\"w\"> </span><span class=\"mi\">4</span><span class=\"w\"> </span><span class=\"mi\">248</span><span class=\"w\"> </span><span class=\"mi\">1</span><span class=\"w\"> </span><span class=\"n\">view</span><span class=\"w\"> </span><span class=\"p\">.</span><span class=\"n\">LVU50</span>\n",
       "<span class=\"p\">.</span><span class=\"n\">LBE2383</span><span class=\"o\">:</span>\n",
       "<span class=\"p\">.</span><span class=\"n\">LBE2384</span><span class=\"o\">:</span>\n",
       "<span class=\"p\">.</span><span class=\"n\">LBE2386</span><span class=\"o\">:</span>\n",
       "<span class=\"p\">.</span><span class=\"n\">LBE2388</span><span class=\"o\">:</span>\n",
       "<span class=\"p\">.</span><span class=\"n\">LBE2398</span><span class=\"o\">:</span>\n",
       "<span class=\"p\">.</span><span class=\"n\">LBE2402</span><span class=\"o\">:</span>\n",
       "<span class=\"w\">\t</span><span class=\"p\">.</span><span class=\"n\">loc</span><span class=\"w\"> </span><span class=\"mi\">4</span><span class=\"w\"> </span><span class=\"mi\">250</span><span class=\"w\"> </span><span class=\"mi\">3</span><span class=\"w\"> </span><span class=\"n\">view</span><span class=\"w\"> </span><span class=\"p\">.</span><span class=\"n\">LVU51</span>\n",
       "<span class=\"w\">\t</span><span class=\"p\">.</span><span class=\"n\">loc</span><span class=\"w\"> </span><span class=\"mi\">4</span><span class=\"w\"> </span><span class=\"mi\">252</span><span class=\"w\"> </span><span class=\"mi\">3</span><span class=\"w\"> </span><span class=\"n\">view</span><span class=\"w\"> </span><span class=\"p\">.</span><span class=\"n\">LVU52</span>\n",
       "<span class=\"p\">.</span><span class=\"n\">LBB2403</span><span class=\"o\">:</span>\n",
       "<span class=\"p\">.</span><span class=\"n\">LBB2399</span><span class=\"o\">:</span>\n",
       "<span class=\"p\">.</span><span class=\"n\">LBB2389</span><span class=\"o\">:</span>\n",
       "<span class=\"p\">.</span><span class=\"n\">LBB2387</span><span class=\"o\">:</span>\n",
       "<span class=\"p\">.</span><span class=\"n\">LBB2385</span><span class=\"o\">:</span>\n",
       "<span class=\"w\">\t</span><span class=\"p\">.</span><span class=\"n\">loc</span><span class=\"w\"> </span><span class=\"mi\">4</span><span class=\"w\"> </span><span class=\"mi\">748</span><span class=\"w\"> </span><span class=\"mi\">3</span><span class=\"w\"> </span><span class=\"n\">is_stmt</span><span class=\"w\"> </span><span class=\"mi\">0</span><span class=\"w\"> </span><span class=\"n\">view</span><span class=\"w\"> </span><span class=\"p\">.</span><span class=\"n\">LVU53</span>\n",
       "<span class=\"w\">\t</span><span class=\"n\">testq</span><span class=\"w\">\t</span><span class=\"o\">%</span><span class=\"n\">r12</span><span class=\"p\">,</span><span class=\"w\"> </span><span class=\"o\">%</span><span class=\"n\">r12</span>\n",
       "<span class=\"w\">\t</span><span class=\"n\">je</span><span class=\"w\">\t</span><span class=\"p\">.</span><span class=\"n\">L9</span>\n",
       "<span class=\"w\">\t</span><span class=\"p\">.</span><span class=\"n\">loc</span><span class=\"w\"> </span><span class=\"mi\">4</span><span class=\"w\"> </span><span class=\"mi\">749</span><span class=\"w\"> </span><span class=\"mi\">5</span><span class=\"w\"> </span><span class=\"n\">is_stmt</span><span class=\"w\"> </span><span class=\"mi\">1</span><span class=\"w\"> </span><span class=\"n\">view</span><span class=\"w\"> </span><span class=\"p\">.</span><span class=\"n\">LVU54</span>\n",
       "<span class=\"w\">\t</span><span class=\"p\">.</span><span class=\"n\">loc</span><span class=\"w\"> </span><span class=\"mi\">4</span><span class=\"w\"> </span><span class=\"mi\">749</span><span class=\"w\"> </span><span class=\"mi\">41</span><span class=\"w\"> </span><span class=\"n\">is_stmt</span><span class=\"w\"> </span><span class=\"mi\">0</span><span class=\"w\"> </span><span class=\"n\">view</span><span class=\"w\"> </span><span class=\"p\">.</span><span class=\"n\">LVU55</span>\n",
       "<span class=\"w\">\t</span><span class=\"n\">leaq</span><span class=\"w\">\t</span><span class=\"n\">lock</span><span class=\"p\">(</span><span class=\"o\">%</span><span class=\"n\">rip</span><span class=\"p\">),</span><span class=\"w\"> </span><span class=\"o\">%</span><span class=\"n\">rdi</span>\n",
       "<span class=\"w\">\t</span><span class=\"n\">call</span><span class=\"w\">\t</span><span class=\"n\">_ZL26__gthrw_pthread_mutex_lockP15pthread_mutex_t</span><span class=\"err\">@</span><span class=\"n\">PLT</span>\n",
       "<span class=\"p\">.</span><span class=\"n\">LVL16</span><span class=\"o\">:</span>\n",
       "<span class=\"w\">\t</span><span class=\"p\">.</span><span class=\"n\">loc</span><span class=\"w\"> </span><span class=\"mi\">4</span><span class=\"w\"> </span><span class=\"mi\">749</span><span class=\"w\"> </span><span class=\"mi\">41</span><span class=\"w\"> </span><span class=\"n\">view</span><span class=\"w\"> </span><span class=\"p\">.</span><span class=\"n\">LVU56</span>\n",
       "<span class=\"p\">.</span><span class=\"n\">LBE2385</span><span class=\"o\">:</span>\n",
       "<span class=\"p\">.</span><span class=\"n\">LBE2387</span><span class=\"o\">:</span>\n",
       "<span class=\"w\">\t</span><span class=\"p\">.</span><span class=\"n\">loc</span><span class=\"w\"> </span><span class=\"mi\">5</span><span class=\"w\"> </span><span class=\"mi\">103</span><span class=\"w\"> </span><span class=\"mi\">7</span><span class=\"w\"> </span><span class=\"n\">is_stmt</span><span class=\"w\"> </span><span class=\"mi\">1</span><span class=\"w\"> </span><span class=\"n\">view</span><span class=\"w\"> </span><span class=\"p\">.</span><span class=\"n\">LVU57</span>\n",
       "<span class=\"w\">\t</span><span class=\"n\">testl</span><span class=\"w\">\t</span><span class=\"o\">%</span><span class=\"n\">eax</span><span class=\"p\">,</span><span class=\"w\"> </span><span class=\"o\">%</span><span class=\"n\">eax</span>\n",
       "<span class=\"w\">\t</span><span class=\"n\">je</span><span class=\"w\">\t</span><span class=\"p\">.</span><span class=\"n\">L9</span>\n",
       "<span class=\"w\">\t</span><span class=\"p\">.</span><span class=\"n\">loc</span><span class=\"w\"> </span><span class=\"mi\">5</span><span class=\"w\"> </span><span class=\"mi\">104</span><span class=\"w\"> </span><span class=\"mi\">2</span><span class=\"w\"> </span><span class=\"n\">view</span><span class=\"w\"> </span><span class=\"p\">.</span><span class=\"n\">LVU58</span>\n",
       "<span class=\"w\">\t</span><span class=\"p\">.</span><span class=\"n\">loc</span><span class=\"w\"> </span><span class=\"mi\">5</span><span class=\"w\"> </span><span class=\"mi\">104</span><span class=\"w\"> </span><span class=\"mi\">22</span><span class=\"w\"> </span><span class=\"n\">is_stmt</span><span class=\"w\"> </span><span class=\"mi\">0</span><span class=\"w\"> </span><span class=\"n\">view</span><span class=\"w\"> </span><span class=\"p\">.</span><span class=\"n\">LVU59</span>\n",
       "<span class=\"w\">\t</span><span class=\"n\">movl</span><span class=\"w\">\t</span><span class=\"o\">%</span><span class=\"n\">eax</span><span class=\"p\">,</span><span class=\"w\"> </span><span class=\"o\">%</span><span class=\"n\">edi</span>\n",
       "<span class=\"w\">\t</span><span class=\"n\">call</span><span class=\"w\">\t</span><span class=\"n\">_ZSt20__throw_system_errori</span><span class=\"err\">@</span><span class=\"n\">PLT</span>\n",
       "<span class=\"p\">.</span><span class=\"n\">LVL17</span><span class=\"o\">:</span>\n",
       "<span class=\"p\">.</span><span class=\"n\">L17</span><span class=\"o\">:</span>\n",
       "<span class=\"w\">\t</span><span class=\"p\">.</span><span class=\"n\">loc</span><span class=\"w\"> </span><span class=\"mi\">5</span><span class=\"w\"> </span><span class=\"mi\">104</span><span class=\"w\"> </span><span class=\"mi\">22</span><span class=\"w\"> </span><span class=\"n\">view</span><span class=\"w\"> </span><span class=\"p\">.</span><span class=\"n\">LVU60</span>\n",
       "<span class=\"p\">.</span><span class=\"n\">LBE2389</span><span class=\"o\">:</span>\n",
       "<span class=\"p\">.</span><span class=\"n\">LBE2399</span><span class=\"o\">:</span>\n",
       "<span class=\"p\">.</span><span class=\"n\">LBE2403</span><span class=\"o\">:</span>\n",
       "<span class=\"w\">\t</span><span class=\"p\">.</span><span class=\"n\">loc</span><span class=\"w\"> </span><span class=\"mi\">1</span><span class=\"w\"> </span><span class=\"mi\">16</span><span class=\"w\"> </span><span class=\"mi\">1</span><span class=\"w\"> </span><span class=\"n\">view</span><span class=\"w\"> </span><span class=\"p\">.</span><span class=\"n\">LVU61</span>\n",
       "<span class=\"w\">\t</span><span class=\"n\">popq</span><span class=\"w\">\t</span><span class=\"o\">%</span><span class=\"n\">rbx</span>\n",
       "<span class=\"w\">\t</span><span class=\"p\">.</span><span class=\"n\">cfi_def_cfa_offset</span><span class=\"w\"> </span><span class=\"mi\">24</span>\n",
       "<span class=\"p\">.</span><span class=\"n\">LVL18</span><span class=\"o\">:</span>\n",
       "<span class=\"w\">\t</span><span class=\"p\">.</span><span class=\"n\">loc</span><span class=\"w\"> </span><span class=\"mi\">1</span><span class=\"w\"> </span><span class=\"mi\">16</span><span class=\"w\"> </span><span class=\"mi\">1</span><span class=\"w\"> </span><span class=\"n\">view</span><span class=\"w\"> </span><span class=\"p\">.</span><span class=\"n\">LVU62</span>\n",
       "<span class=\"w\">\t</span><span class=\"n\">popq</span><span class=\"w\">\t</span><span class=\"o\">%</span><span class=\"n\">rbp</span>\n",
       "<span class=\"w\">\t</span><span class=\"p\">.</span><span class=\"n\">cfi_def_cfa_offset</span><span class=\"w\"> </span><span class=\"mi\">16</span>\n",
       "<span class=\"p\">.</span><span class=\"n\">LVL19</span><span class=\"o\">:</span>\n",
       "<span class=\"w\">\t</span><span class=\"p\">.</span><span class=\"n\">loc</span><span class=\"w\"> </span><span class=\"mi\">1</span><span class=\"w\"> </span><span class=\"mi\">16</span><span class=\"w\"> </span><span class=\"mi\">1</span><span class=\"w\"> </span><span class=\"n\">view</span><span class=\"w\"> </span><span class=\"p\">.</span><span class=\"n\">LVU63</span>\n",
       "<span class=\"w\">\t</span><span class=\"n\">popq</span><span class=\"w\">\t</span><span class=\"o\">%</span><span class=\"n\">r12</span>\n",
       "<span class=\"w\">\t</span><span class=\"p\">.</span><span class=\"n\">cfi_def_cfa_offset</span><span class=\"w\"> </span><span class=\"mi\">8</span>\n",
       "<span class=\"w\">\t</span><span class=\"n\">ret</span>\n",
       "<span class=\"p\">.</span><span class=\"n\">LVL20</span><span class=\"o\">:</span>\n",
       "<span class=\"p\">.</span><span class=\"n\">L14</span><span class=\"o\">:</span>\n",
       "<span class=\"w\">\t</span><span class=\"p\">.</span><span class=\"n\">cfi_restore</span><span class=\"w\"> </span><span class=\"mi\">3</span>\n",
       "<span class=\"w\">\t</span><span class=\"p\">.</span><span class=\"n\">cfi_restore</span><span class=\"w\"> </span><span class=\"mi\">6</span>\n",
       "<span class=\"w\">\t</span><span class=\"p\">.</span><span class=\"n\">cfi_restore</span><span class=\"w\"> </span><span class=\"mi\">12</span>\n",
       "<span class=\"w\">\t</span><span class=\"p\">.</span><span class=\"n\">loc</span><span class=\"w\"> </span><span class=\"mi\">1</span><span class=\"w\"> </span><span class=\"mi\">16</span><span class=\"w\"> </span><span class=\"mi\">1</span><span class=\"w\"> </span><span class=\"n\">view</span><span class=\"w\"> </span><span class=\"p\">.</span><span class=\"n\">LVU64</span>\n",
       "<span class=\"w\">\t</span><span class=\"n\">ret</span>\n",
       "<span class=\"w\">\t</span><span class=\"p\">.</span><span class=\"n\">cfi_endproc</span>\n",
       "<span class=\"p\">.</span><span class=\"n\">LFE3782</span><span class=\"o\">:</span>\n",
       "</pre></div>\n"
      ],
      "text/latex": [
       "\\begin{Verbatim}[commandchars=\\\\\\{\\}]\n",
       "\\PY{c+c1}{// lock\\PYZus{}demo.s:101\\PYZhy{}271 (171 lines)}\n",
       "\\PY{n+nl}{yes\\PYZus{}locks}\\PY{p}{:}\n",
       "\\PY{p}{.}\\PY{n}{LVL9}\\PY{o}{:}\n",
       "\\PY{p}{.}\\PY{n}{LFB3782}\\PY{o}{:}\n",
       "\\PY{+w}{\t}\\PY{p}{.}\\PY{n}{loc}\\PY{+w}{ }\\PY{l+m+mi}{1}\\PY{+w}{ }\\PY{l+m+mi}{10}\\PY{+w}{ }\\PY{l+m+mi}{40}\\PY{+w}{ }\\PY{n}{is\\PYZus{}stmt}\\PY{+w}{ }\\PY{l+m+mi}{1}\\PY{+w}{ }\\PY{n}{view}\\PY{+w}{ }\\PY{l+m+mi}{\\PYZhy{}0}\n",
       "\\PY{+w}{\t}\\PY{p}{.}\\PY{n}{cfi\\PYZus{}startproc}\n",
       "\\PY{+w}{\t}\\PY{p}{.}\\PY{n}{loc}\\PY{+w}{ }\\PY{l+m+mi}{1}\\PY{+w}{ }\\PY{l+m+mi}{10}\\PY{+w}{ }\\PY{l+m+mi}{40}\\PY{+w}{ }\\PY{n}{is\\PYZus{}stmt}\\PY{+w}{ }\\PY{l+m+mi}{0}\\PY{+w}{ }\\PY{n}{view}\\PY{+w}{ }\\PY{p}{.}\\PY{n}{LVU22}\n",
       "\\PY{+w}{\t}\\PY{n}{endbr64}\n",
       "\\PY{+w}{\t}\\PY{p}{.}\\PY{n}{loc}\\PY{+w}{ }\\PY{l+m+mi}{1}\\PY{+w}{ }\\PY{l+m+mi}{11}\\PY{+w}{ }\\PY{l+m+mi}{5}\\PY{+w}{ }\\PY{n}{is\\PYZus{}stmt}\\PY{+w}{ }\\PY{l+m+mi}{1}\\PY{+w}{ }\\PY{n}{view}\\PY{+w}{ }\\PY{p}{.}\\PY{n}{LVU23}\n",
       "\\PY{p}{.}\\PY{n}{LVL10}\\PY{o}{:}\n",
       "\\PY{p}{.}\\PY{n}{LBB2378}\\PY{o}{:}\n",
       "\\PY{+w}{\t}\\PY{p}{.}\\PY{n}{loc}\\PY{+w}{ }\\PY{l+m+mi}{1}\\PY{+w}{ }\\PY{l+m+mi}{11}\\PY{+w}{ }\\PY{l+m+mi}{21}\\PY{+w}{ }\\PY{n}{view}\\PY{+w}{ }\\PY{p}{.}\\PY{n}{LVU24}\n",
       "\\PY{+w}{\t}\\PY{n}{testl}\\PY{+w}{\t}\\PY{o}{\\PYZpc{}}\\PY{n}{esi}\\PY{p}{,}\\PY{+w}{ }\\PY{o}{\\PYZpc{}}\\PY{n}{esi}\n",
       "\\PY{+w}{\t}\\PY{n}{jle}\\PY{+w}{\t}\\PY{p}{.}\\PY{n}{L14}\n",
       "\\PY{p}{.}\\PY{n}{LBE2378}\\PY{o}{:}\n",
       "\\PY{+w}{\t}\\PY{p}{.}\\PY{n}{loc}\\PY{+w}{ }\\PY{l+m+mi}{1}\\PY{+w}{ }\\PY{l+m+mi}{10}\\PY{+w}{ }\\PY{l+m+mi}{40}\\PY{+w}{ }\\PY{n}{is\\PYZus{}stmt}\\PY{+w}{ }\\PY{l+m+mi}{0}\\PY{+w}{ }\\PY{n}{view}\\PY{+w}{ }\\PY{p}{.}\\PY{n}{LVU25}\n",
       "\\PY{+w}{\t}\\PY{n}{pushq}\\PY{+w}{\t}\\PY{o}{\\PYZpc{}}\\PY{n}{r12}\n",
       "\\PY{+w}{\t}\\PY{p}{.}\\PY{n}{cfi\\PYZus{}def\\PYZus{}cfa\\PYZus{}offset}\\PY{+w}{ }\\PY{l+m+mi}{16}\n",
       "\\PY{+w}{\t}\\PY{p}{.}\\PY{n}{cfi\\PYZus{}offset}\\PY{+w}{ }\\PY{l+m+mi}{12}\\PY{p}{,}\\PY{+w}{ }\\PY{l+m+mi}{\\PYZhy{}16}\n",
       "\\PY{+w}{\t}\\PY{n}{pushq}\\PY{+w}{\t}\\PY{o}{\\PYZpc{}}\\PY{n}{rbp}\n",
       "\\PY{+w}{\t}\\PY{p}{.}\\PY{n}{cfi\\PYZus{}def\\PYZus{}cfa\\PYZus{}offset}\\PY{+w}{ }\\PY{l+m+mi}{24}\n",
       "\\PY{+w}{\t}\\PY{p}{.}\\PY{n}{cfi\\PYZus{}offset}\\PY{+w}{ }\\PY{l+m+mi}{6}\\PY{p}{,}\\PY{+w}{ }\\PY{l+m+mi}{\\PYZhy{}24}\n",
       "\\PY{+w}{\t}\\PY{n}{pushq}\\PY{+w}{\t}\\PY{o}{\\PYZpc{}}\\PY{n}{rbx}\n",
       "\\PY{+w}{\t}\\PY{p}{.}\\PY{n}{cfi\\PYZus{}def\\PYZus{}cfa\\PYZus{}offset}\\PY{+w}{ }\\PY{l+m+mi}{32}\n",
       "\\PY{+w}{\t}\\PY{p}{.}\\PY{n}{cfi\\PYZus{}offset}\\PY{+w}{ }\\PY{l+m+mi}{3}\\PY{p}{,}\\PY{+w}{ }\\PY{l+m+mi}{\\PYZhy{}32}\n",
       "\\PY{+w}{\t}\\PY{n}{movl}\\PY{+w}{\t}\\PY{o}{\\PYZpc{}}\\PY{n}{esi}\\PY{p}{,}\\PY{+w}{ }\\PY{o}{\\PYZpc{}}\\PY{n}{ebp}\n",
       "\\PY{p}{.}\\PY{n}{LBB2400}\\PY{o}{:}\n",
       "\\PY{+w}{\t}\\PY{p}{.}\\PY{n}{loc}\\PY{+w}{ }\\PY{l+m+mi}{1}\\PY{+w}{ }\\PY{l+m+mi}{11}\\PY{+w}{ }\\PY{l+m+mi}{13}\\PY{+w}{ }\\PY{n}{view}\\PY{+w}{ }\\PY{p}{.}\\PY{n}{LVU26}\n",
       "\\PY{+w}{\t}\\PY{n}{movl}\\PY{+w}{\t}\\PY{n}{\\PYZdl{}0}\\PY{p}{,}\\PY{+w}{ }\\PY{o}{\\PYZpc{}}\\PY{n}{ebx}\n",
       "\\PY{p}{.}\\PY{n}{LBB2379}\\PY{o}{:}\n",
       "\\PY{p}{.}\\PY{n}{LBB2380}\\PY{o}{:}\n",
       "\\PY{p}{.}\\PY{n}{LBB2381}\\PY{o}{:}\n",
       "\\PY{p}{.}\\PY{n}{LBB2382}\\PY{o}{:}\n",
       "\\PY{+w}{\t}\\PY{p}{.}\\PY{n}{file}\\PY{+w}{ }\\PY{l+m+mi}{4}\\PY{+w}{ }\\PY{l+s}{\\PYZdq{}}\\PY{l+s}{/usr/include/x86\\PYZus{}64\\PYZhy{}linux\\PYZhy{}gnu/c++/9/bits/gthr\\PYZhy{}default.h}\\PY{l+s}{\\PYZdq{}}\n",
       "\\PY{+w}{\t}\\PY{p}{.}\\PY{n}{loc}\\PY{+w}{ }\\PY{l+m+mi}{4}\\PY{+w}{ }\\PY{l+m+mi}{748}\\PY{+w}{ }\\PY{l+m+mi}{3}\\PY{+w}{ }\\PY{n}{view}\\PY{+w}{ }\\PY{p}{.}\\PY{n}{LVU27}\n",
       "\\PY{+w}{\t}\\PY{n}{movq}\\PY{+w}{\t}\\PY{n}{\\PYZus{}ZL28\\PYZus{}\\PYZus{}gthrw\\PYZus{}\\PYZus{}\\PYZus{}pthread\\PYZus{}key\\PYZus{}createPjPFvPvE}\\PY{err}{@}\\PY{n}{GOTPCREL}\\PY{p}{(}\\PY{o}{\\PYZpc{}}\\PY{n}{rip}\\PY{p}{)}\\PY{p}{,}\\PY{+w}{ }\\PY{o}{\\PYZpc{}}\\PY{n}{r12}\n",
       "\\PY{+w}{\t}\\PY{n}{jmp}\\PY{+w}{\t}\\PY{p}{.}\\PY{n}{L11}\n",
       "\\PY{p}{.}\\PY{n}{LVL11}\\PY{o}{:}\n",
       "\\PY{p}{.}\\PY{n}{L9}\\PY{o}{:}\n",
       "\\PY{+w}{\t}\\PY{p}{.}\\PY{n}{loc}\\PY{+w}{ }\\PY{l+m+mi}{4}\\PY{+w}{ }\\PY{l+m+mi}{748}\\PY{+w}{ }\\PY{l+m+mi}{3}\\PY{+w}{ }\\PY{n}{view}\\PY{+w}{ }\\PY{p}{.}\\PY{n}{LVU28}\n",
       "\\PY{p}{.}\\PY{n}{LBE2382}\\PY{o}{:}\n",
       "\\PY{p}{.}\\PY{n}{LBE2381}\\PY{o}{:}\n",
       "\\PY{p}{.}\\PY{n}{LBE2380}\\PY{o}{:}\n",
       "\\PY{p}{.}\\PY{n}{LBE2379}\\PY{o}{:}\n",
       "\\PY{+w}{\t}\\PY{p}{.}\\PY{n}{loc}\\PY{+w}{ }\\PY{l+m+mi}{1}\\PY{+w}{ }\\PY{l+m+mi}{13}\\PY{+w}{ }\\PY{l+m+mi}{9}\\PY{+w}{ }\\PY{n}{is\\PYZus{}stmt}\\PY{+w}{ }\\PY{l+m+mi}{1}\\PY{+w}{ }\\PY{n}{view}\\PY{+w}{ }\\PY{p}{.}\\PY{n}{LVU29}\n",
       "\\PY{+w}{\t}\\PY{p}{.}\\PY{n}{loc}\\PY{+w}{ }\\PY{l+m+mi}{1}\\PY{+w}{ }\\PY{l+m+mi}{13}\\PY{+w}{ }\\PY{l+m+mi}{15}\\PY{+w}{ }\\PY{n}{is\\PYZus{}stmt}\\PY{+w}{ }\\PY{l+m+mi}{0}\\PY{+w}{ }\\PY{n}{view}\\PY{+w}{ }\\PY{p}{.}\\PY{n}{LVU30}\n",
       "\\PY{+w}{\t}\\PY{n}{movl}\\PY{+w}{\t}\\PY{n}{shared}\\PY{p}{(}\\PY{o}{\\PYZpc{}}\\PY{n}{rip}\\PY{p}{)}\\PY{p}{,}\\PY{+w}{ }\\PY{o}{\\PYZpc{}}\\PY{n}{eax}\n",
       "\\PY{+w}{\t}\\PY{n}{addl}\\PY{+w}{\t}\\PY{n}{\\PYZdl{}1}\\PY{p}{,}\\PY{+w}{ }\\PY{o}{\\PYZpc{}}\\PY{n}{eax}\n",
       "\\PY{+w}{\t}\\PY{n}{movl}\\PY{+w}{\t}\\PY{o}{\\PYZpc{}}\\PY{n}{eax}\\PY{p}{,}\\PY{+w}{ }\\PY{n}{shared}\\PY{p}{(}\\PY{o}{\\PYZpc{}}\\PY{n}{rip}\\PY{p}{)}\n",
       "\\PY{+w}{\t}\\PY{p}{.}\\PY{n}{loc}\\PY{+w}{ }\\PY{l+m+mi}{1}\\PY{+w}{ }\\PY{l+m+mi}{14}\\PY{+w}{ }\\PY{l+m+mi}{9}\\PY{+w}{ }\\PY{n}{is\\PYZus{}stmt}\\PY{+w}{ }\\PY{l+m+mi}{1}\\PY{+w}{ }\\PY{n}{view}\\PY{+w}{ }\\PY{p}{.}\\PY{n}{LVU31}\n",
       "\\PY{p}{.}\\PY{n}{LVL12}\\PY{o}{:}\n",
       "\\PY{p}{.}\\PY{n}{LBB2390}\\PY{o}{:}\n",
       "\\PY{p}{.}\\PY{n}{LBI2390}\\PY{o}{:}\n",
       "\\PY{+w}{\t}\\PY{p}{.}\\PY{n}{file}\\PY{+w}{ }\\PY{l+m+mi}{5}\\PY{+w}{ }\\PY{l+s}{\\PYZdq{}}\\PY{l+s}{/usr/include/c++/9/bits/std\\PYZus{}mutex.h}\\PY{l+s}{\\PYZdq{}}\n",
       "\\PY{+w}{\t}\\PY{p}{.}\\PY{n}{loc}\\PY{+w}{ }\\PY{l+m+mi}{5}\\PY{+w}{ }\\PY{l+m+mi}{115}\\PY{+w}{ }\\PY{l+m+mi}{5}\\PY{+w}{ }\\PY{n}{view}\\PY{+w}{ }\\PY{p}{.}\\PY{n}{LVU32}\n",
       "\\PY{p}{.}\\PY{n}{LBE2390}\\PY{o}{:}\n",
       "\\PY{p}{.}\\PY{n}{LBE2400}\\PY{o}{:}\n",
       "\\PY{+w}{\t}\\PY{p}{.}\\PY{n}{loc}\\PY{+w}{ }\\PY{l+m+mi}{5}\\PY{+w}{ }\\PY{l+m+mi}{118}\\PY{+w}{ }\\PY{l+m+mi}{7}\\PY{+w}{ }\\PY{n}{view}\\PY{+w}{ }\\PY{p}{.}\\PY{n}{LVU33}\n",
       "\\PY{p}{.}\\PY{n}{LBB2401}\\PY{o}{:}\n",
       "\\PY{p}{.}\\PY{n}{LBB2396}\\PY{o}{:}\n",
       "\\PY{p}{.}\\PY{n}{LBB2391}\\PY{o}{:}\n",
       "\\PY{p}{.}\\PY{n}{LBI2391}\\PY{o}{:}\n",
       "\\PY{+w}{\t}\\PY{p}{.}\\PY{n}{loc}\\PY{+w}{ }\\PY{l+m+mi}{4}\\PY{+w}{ }\\PY{l+m+mi}{776}\\PY{+w}{ }\\PY{l+m+mi}{1}\\PY{+w}{ }\\PY{n}{view}\\PY{+w}{ }\\PY{p}{.}\\PY{n}{LVU34}\n",
       "\\PY{p}{.}\\PY{n}{LBB2392}\\PY{o}{:}\n",
       "\\PY{+w}{\t}\\PY{p}{.}\\PY{n}{loc}\\PY{+w}{ }\\PY{l+m+mi}{4}\\PY{+w}{ }\\PY{l+m+mi}{778}\\PY{+w}{ }\\PY{l+m+mi}{3}\\PY{+w}{ }\\PY{n}{view}\\PY{+w}{ }\\PY{p}{.}\\PY{n}{LVU35}\n",
       "\\PY{p}{.}\\PY{n}{LBB2393}\\PY{o}{:}\n",
       "\\PY{p}{.}\\PY{n}{LBI2393}\\PY{o}{:}\n",
       "\\PY{+w}{\t}\\PY{p}{.}\\PY{n}{loc}\\PY{+w}{ }\\PY{l+m+mi}{4}\\PY{+w}{ }\\PY{l+m+mi}{248}\\PY{+w}{ }\\PY{l+m+mi}{1}\\PY{+w}{ }\\PY{n}{view}\\PY{+w}{ }\\PY{p}{.}\\PY{n}{LVU36}\n",
       "\\PY{p}{.}\\PY{n}{LBE2393}\\PY{o}{:}\n",
       "\\PY{p}{.}\\PY{n}{LBE2392}\\PY{o}{:}\n",
       "\\PY{p}{.}\\PY{n}{LBE2391}\\PY{o}{:}\n",
       "\\PY{p}{.}\\PY{n}{LBE2396}\\PY{o}{:}\n",
       "\\PY{p}{.}\\PY{n}{LBE2401}\\PY{o}{:}\n",
       "\\PY{+w}{\t}\\PY{p}{.}\\PY{n}{loc}\\PY{+w}{ }\\PY{l+m+mi}{4}\\PY{+w}{ }\\PY{l+m+mi}{250}\\PY{+w}{ }\\PY{l+m+mi}{3}\\PY{+w}{ }\\PY{n}{view}\\PY{+w}{ }\\PY{p}{.}\\PY{n}{LVU37}\n",
       "\\PY{+w}{\t}\\PY{p}{.}\\PY{n}{loc}\\PY{+w}{ }\\PY{l+m+mi}{4}\\PY{+w}{ }\\PY{l+m+mi}{252}\\PY{+w}{ }\\PY{l+m+mi}{3}\\PY{+w}{ }\\PY{n}{view}\\PY{+w}{ }\\PY{p}{.}\\PY{n}{LVU38}\n",
       "\\PY{p}{.}\\PY{n}{LBB2402}\\PY{o}{:}\n",
       "\\PY{p}{.}\\PY{n}{LBB2397}\\PY{o}{:}\n",
       "\\PY{p}{.}\\PY{n}{LBB2395}\\PY{o}{:}\n",
       "\\PY{p}{.}\\PY{n}{LBB2394}\\PY{o}{:}\n",
       "\\PY{+w}{\t}\\PY{p}{.}\\PY{n}{loc}\\PY{+w}{ }\\PY{l+m+mi}{4}\\PY{+w}{ }\\PY{l+m+mi}{778}\\PY{+w}{ }\\PY{l+m+mi}{3}\\PY{+w}{ }\\PY{n}{is\\PYZus{}stmt}\\PY{+w}{ }\\PY{l+m+mi}{0}\\PY{+w}{ }\\PY{n}{view}\\PY{+w}{ }\\PY{p}{.}\\PY{n}{LVU39}\n",
       "\\PY{+w}{\t}\\PY{n}{cmpq}\\PY{+w}{\t}\\PY{n}{\\PYZdl{}0}\\PY{p}{,}\\PY{+w}{ }\\PY{n}{\\PYZus{}ZL28\\PYZus{}\\PYZus{}gthrw\\PYZus{}\\PYZus{}\\PYZus{}pthread\\PYZus{}key\\PYZus{}createPjPFvPvE}\\PY{err}{@}\\PY{n}{GOTPCREL}\\PY{p}{(}\\PY{o}{\\PYZpc{}}\\PY{n}{rip}\\PY{p}{)}\n",
       "\\PY{+w}{\t}\\PY{n}{je}\\PY{+w}{\t}\\PY{p}{.}\\PY{n}{L10}\n",
       "\\PY{+w}{\t}\\PY{p}{.}\\PY{n}{loc}\\PY{+w}{ }\\PY{l+m+mi}{4}\\PY{+w}{ }\\PY{l+m+mi}{779}\\PY{+w}{ }\\PY{l+m+mi}{5}\\PY{+w}{ }\\PY{n}{is\\PYZus{}stmt}\\PY{+w}{ }\\PY{l+m+mi}{1}\\PY{+w}{ }\\PY{n}{view}\\PY{+w}{ }\\PY{p}{.}\\PY{n}{LVU40}\n",
       "\\PY{+w}{\t}\\PY{p}{.}\\PY{n}{loc}\\PY{+w}{ }\\PY{l+m+mi}{4}\\PY{+w}{ }\\PY{l+m+mi}{779}\\PY{+w}{ }\\PY{l+m+mi}{43}\\PY{+w}{ }\\PY{n}{is\\PYZus{}stmt}\\PY{+w}{ }\\PY{l+m+mi}{0}\\PY{+w}{ }\\PY{n}{view}\\PY{+w}{ }\\PY{p}{.}\\PY{n}{LVU41}\n",
       "\\PY{+w}{\t}\\PY{n}{leaq}\\PY{+w}{\t}\\PY{n}{lock}\\PY{p}{(}\\PY{o}{\\PYZpc{}}\\PY{n}{rip}\\PY{p}{)}\\PY{p}{,}\\PY{+w}{ }\\PY{o}{\\PYZpc{}}\\PY{n}{rdi}\n",
       "\\PY{+w}{\t}\\PY{n}{call}\\PY{+w}{\t}\\PY{n}{\\PYZus{}ZL28\\PYZus{}\\PYZus{}gthrw\\PYZus{}pthread\\PYZus{}mutex\\PYZus{}unlockP15pthread\\PYZus{}mutex\\PYZus{}t}\\PY{err}{@}\\PY{n}{PLT}\n",
       "\\PY{p}{.}\\PY{n}{LVL13}\\PY{o}{:}\n",
       "\\PY{p}{.}\\PY{n}{L10}\\PY{o}{:}\n",
       "\\PY{+w}{\t}\\PY{p}{.}\\PY{n}{loc}\\PY{+w}{ }\\PY{l+m+mi}{4}\\PY{+w}{ }\\PY{l+m+mi}{779}\\PY{+w}{ }\\PY{l+m+mi}{43}\\PY{+w}{ }\\PY{n}{view}\\PY{+w}{ }\\PY{p}{.}\\PY{n}{LVU42}\n",
       "\\PY{p}{.}\\PY{n}{LBE2394}\\PY{o}{:}\n",
       "\\PY{p}{.}\\PY{n}{LBE2395}\\PY{o}{:}\n",
       "\\PY{p}{.}\\PY{n}{LBE2397}\\PY{o}{:}\n",
       "\\PY{+w}{\t}\\PY{p}{.}\\PY{n}{loc}\\PY{+w}{ }\\PY{l+m+mi}{1}\\PY{+w}{ }\\PY{l+m+mi}{11}\\PY{+w}{ }\\PY{l+m+mi}{5}\\PY{+w}{ }\\PY{n}{is\\PYZus{}stmt}\\PY{+w}{ }\\PY{l+m+mi}{1}\\PY{+w}{ }\\PY{n}{view}\\PY{+w}{ }\\PY{p}{.}\\PY{n}{LVU43}\n",
       "\\PY{+w}{\t}\\PY{n}{addl}\\PY{+w}{\t}\\PY{n}{\\PYZdl{}1}\\PY{p}{,}\\PY{+w}{ }\\PY{o}{\\PYZpc{}}\\PY{n}{ebx}\n",
       "\\PY{p}{.}\\PY{n}{LVL14}\\PY{o}{:}\n",
       "\\PY{+w}{\t}\\PY{p}{.}\\PY{n}{loc}\\PY{+w}{ }\\PY{l+m+mi}{1}\\PY{+w}{ }\\PY{l+m+mi}{11}\\PY{+w}{ }\\PY{l+m+mi}{21}\\PY{+w}{ }\\PY{n}{view}\\PY{+w}{ }\\PY{p}{.}\\PY{n}{LVU44}\n",
       "\\PY{+w}{\t}\\PY{n}{cmpl}\\PY{+w}{\t}\\PY{o}{\\PYZpc{}}\\PY{n}{ebx}\\PY{p}{,}\\PY{+w}{ }\\PY{o}{\\PYZpc{}}\\PY{n}{ebp}\n",
       "\\PY{+w}{\t}\\PY{n}{je}\\PY{+w}{\t}\\PY{p}{.}\\PY{n}{L17}\n",
       "\\PY{p}{.}\\PY{n}{LVL15}\\PY{o}{:}\n",
       "\\PY{p}{.}\\PY{n}{L11}\\PY{o}{:}\n",
       "\\PY{+w}{\t}\\PY{p}{.}\\PY{n}{loc}\\PY{+w}{ }\\PY{l+m+mi}{1}\\PY{+w}{ }\\PY{l+m+mi}{12}\\PY{+w}{ }\\PY{l+m+mi}{9}\\PY{+w}{ }\\PY{n}{view}\\PY{+w}{ }\\PY{p}{.}\\PY{n}{LVU45}\n",
       "\\PY{p}{.}\\PY{n}{LBB2398}\\PY{o}{:}\n",
       "\\PY{p}{.}\\PY{n}{LBI2379}\\PY{o}{:}\n",
       "\\PY{+w}{\t}\\PY{p}{.}\\PY{n}{loc}\\PY{+w}{ }\\PY{l+m+mi}{5}\\PY{+w}{ }\\PY{l+m+mi}{98}\\PY{+w}{ }\\PY{l+m+mi}{5}\\PY{+w}{ }\\PY{n}{view}\\PY{+w}{ }\\PY{p}{.}\\PY{n}{LVU46}\n",
       "\\PY{p}{.}\\PY{n}{LBB2388}\\PY{o}{:}\n",
       "\\PY{+w}{\t}\\PY{p}{.}\\PY{n}{loc}\\PY{+w}{ }\\PY{l+m+mi}{5}\\PY{+w}{ }\\PY{l+m+mi}{100}\\PY{+w}{ }\\PY{l+m+mi}{7}\\PY{+w}{ }\\PY{n}{view}\\PY{+w}{ }\\PY{p}{.}\\PY{n}{LVU47}\n",
       "\\PY{p}{.}\\PY{n}{LBB2386}\\PY{o}{:}\n",
       "\\PY{p}{.}\\PY{n}{LBI2381}\\PY{o}{:}\n",
       "\\PY{+w}{\t}\\PY{p}{.}\\PY{n}{loc}\\PY{+w}{ }\\PY{l+m+mi}{4}\\PY{+w}{ }\\PY{l+m+mi}{746}\\PY{+w}{ }\\PY{l+m+mi}{1}\\PY{+w}{ }\\PY{n}{view}\\PY{+w}{ }\\PY{p}{.}\\PY{n}{LVU48}\n",
       "\\PY{p}{.}\\PY{n}{LBB2384}\\PY{o}{:}\n",
       "\\PY{+w}{\t}\\PY{p}{.}\\PY{n}{loc}\\PY{+w}{ }\\PY{l+m+mi}{4}\\PY{+w}{ }\\PY{l+m+mi}{748}\\PY{+w}{ }\\PY{l+m+mi}{3}\\PY{+w}{ }\\PY{n}{view}\\PY{+w}{ }\\PY{p}{.}\\PY{n}{LVU49}\n",
       "\\PY{p}{.}\\PY{n}{LBB2383}\\PY{o}{:}\n",
       "\\PY{p}{.}\\PY{n}{LBI2383}\\PY{o}{:}\n",
       "\\PY{+w}{\t}\\PY{p}{.}\\PY{n}{loc}\\PY{+w}{ }\\PY{l+m+mi}{4}\\PY{+w}{ }\\PY{l+m+mi}{248}\\PY{+w}{ }\\PY{l+m+mi}{1}\\PY{+w}{ }\\PY{n}{view}\\PY{+w}{ }\\PY{p}{.}\\PY{n}{LVU50}\n",
       "\\PY{p}{.}\\PY{n}{LBE2383}\\PY{o}{:}\n",
       "\\PY{p}{.}\\PY{n}{LBE2384}\\PY{o}{:}\n",
       "\\PY{p}{.}\\PY{n}{LBE2386}\\PY{o}{:}\n",
       "\\PY{p}{.}\\PY{n}{LBE2388}\\PY{o}{:}\n",
       "\\PY{p}{.}\\PY{n}{LBE2398}\\PY{o}{:}\n",
       "\\PY{p}{.}\\PY{n}{LBE2402}\\PY{o}{:}\n",
       "\\PY{+w}{\t}\\PY{p}{.}\\PY{n}{loc}\\PY{+w}{ }\\PY{l+m+mi}{4}\\PY{+w}{ }\\PY{l+m+mi}{250}\\PY{+w}{ }\\PY{l+m+mi}{3}\\PY{+w}{ }\\PY{n}{view}\\PY{+w}{ }\\PY{p}{.}\\PY{n}{LVU51}\n",
       "\\PY{+w}{\t}\\PY{p}{.}\\PY{n}{loc}\\PY{+w}{ }\\PY{l+m+mi}{4}\\PY{+w}{ }\\PY{l+m+mi}{252}\\PY{+w}{ }\\PY{l+m+mi}{3}\\PY{+w}{ }\\PY{n}{view}\\PY{+w}{ }\\PY{p}{.}\\PY{n}{LVU52}\n",
       "\\PY{p}{.}\\PY{n}{LBB2403}\\PY{o}{:}\n",
       "\\PY{p}{.}\\PY{n}{LBB2399}\\PY{o}{:}\n",
       "\\PY{p}{.}\\PY{n}{LBB2389}\\PY{o}{:}\n",
       "\\PY{p}{.}\\PY{n}{LBB2387}\\PY{o}{:}\n",
       "\\PY{p}{.}\\PY{n}{LBB2385}\\PY{o}{:}\n",
       "\\PY{+w}{\t}\\PY{p}{.}\\PY{n}{loc}\\PY{+w}{ }\\PY{l+m+mi}{4}\\PY{+w}{ }\\PY{l+m+mi}{748}\\PY{+w}{ }\\PY{l+m+mi}{3}\\PY{+w}{ }\\PY{n}{is\\PYZus{}stmt}\\PY{+w}{ }\\PY{l+m+mi}{0}\\PY{+w}{ }\\PY{n}{view}\\PY{+w}{ }\\PY{p}{.}\\PY{n}{LVU53}\n",
       "\\PY{+w}{\t}\\PY{n}{testq}\\PY{+w}{\t}\\PY{o}{\\PYZpc{}}\\PY{n}{r12}\\PY{p}{,}\\PY{+w}{ }\\PY{o}{\\PYZpc{}}\\PY{n}{r12}\n",
       "\\PY{+w}{\t}\\PY{n}{je}\\PY{+w}{\t}\\PY{p}{.}\\PY{n}{L9}\n",
       "\\PY{+w}{\t}\\PY{p}{.}\\PY{n}{loc}\\PY{+w}{ }\\PY{l+m+mi}{4}\\PY{+w}{ }\\PY{l+m+mi}{749}\\PY{+w}{ }\\PY{l+m+mi}{5}\\PY{+w}{ }\\PY{n}{is\\PYZus{}stmt}\\PY{+w}{ }\\PY{l+m+mi}{1}\\PY{+w}{ }\\PY{n}{view}\\PY{+w}{ }\\PY{p}{.}\\PY{n}{LVU54}\n",
       "\\PY{+w}{\t}\\PY{p}{.}\\PY{n}{loc}\\PY{+w}{ }\\PY{l+m+mi}{4}\\PY{+w}{ }\\PY{l+m+mi}{749}\\PY{+w}{ }\\PY{l+m+mi}{41}\\PY{+w}{ }\\PY{n}{is\\PYZus{}stmt}\\PY{+w}{ }\\PY{l+m+mi}{0}\\PY{+w}{ }\\PY{n}{view}\\PY{+w}{ }\\PY{p}{.}\\PY{n}{LVU55}\n",
       "\\PY{+w}{\t}\\PY{n}{leaq}\\PY{+w}{\t}\\PY{n}{lock}\\PY{p}{(}\\PY{o}{\\PYZpc{}}\\PY{n}{rip}\\PY{p}{)}\\PY{p}{,}\\PY{+w}{ }\\PY{o}{\\PYZpc{}}\\PY{n}{rdi}\n",
       "\\PY{+w}{\t}\\PY{n}{call}\\PY{+w}{\t}\\PY{n}{\\PYZus{}ZL26\\PYZus{}\\PYZus{}gthrw\\PYZus{}pthread\\PYZus{}mutex\\PYZus{}lockP15pthread\\PYZus{}mutex\\PYZus{}t}\\PY{err}{@}\\PY{n}{PLT}\n",
       "\\PY{p}{.}\\PY{n}{LVL16}\\PY{o}{:}\n",
       "\\PY{+w}{\t}\\PY{p}{.}\\PY{n}{loc}\\PY{+w}{ }\\PY{l+m+mi}{4}\\PY{+w}{ }\\PY{l+m+mi}{749}\\PY{+w}{ }\\PY{l+m+mi}{41}\\PY{+w}{ }\\PY{n}{view}\\PY{+w}{ }\\PY{p}{.}\\PY{n}{LVU56}\n",
       "\\PY{p}{.}\\PY{n}{LBE2385}\\PY{o}{:}\n",
       "\\PY{p}{.}\\PY{n}{LBE2387}\\PY{o}{:}\n",
       "\\PY{+w}{\t}\\PY{p}{.}\\PY{n}{loc}\\PY{+w}{ }\\PY{l+m+mi}{5}\\PY{+w}{ }\\PY{l+m+mi}{103}\\PY{+w}{ }\\PY{l+m+mi}{7}\\PY{+w}{ }\\PY{n}{is\\PYZus{}stmt}\\PY{+w}{ }\\PY{l+m+mi}{1}\\PY{+w}{ }\\PY{n}{view}\\PY{+w}{ }\\PY{p}{.}\\PY{n}{LVU57}\n",
       "\\PY{+w}{\t}\\PY{n}{testl}\\PY{+w}{\t}\\PY{o}{\\PYZpc{}}\\PY{n}{eax}\\PY{p}{,}\\PY{+w}{ }\\PY{o}{\\PYZpc{}}\\PY{n}{eax}\n",
       "\\PY{+w}{\t}\\PY{n}{je}\\PY{+w}{\t}\\PY{p}{.}\\PY{n}{L9}\n",
       "\\PY{+w}{\t}\\PY{p}{.}\\PY{n}{loc}\\PY{+w}{ }\\PY{l+m+mi}{5}\\PY{+w}{ }\\PY{l+m+mi}{104}\\PY{+w}{ }\\PY{l+m+mi}{2}\\PY{+w}{ }\\PY{n}{view}\\PY{+w}{ }\\PY{p}{.}\\PY{n}{LVU58}\n",
       "\\PY{+w}{\t}\\PY{p}{.}\\PY{n}{loc}\\PY{+w}{ }\\PY{l+m+mi}{5}\\PY{+w}{ }\\PY{l+m+mi}{104}\\PY{+w}{ }\\PY{l+m+mi}{22}\\PY{+w}{ }\\PY{n}{is\\PYZus{}stmt}\\PY{+w}{ }\\PY{l+m+mi}{0}\\PY{+w}{ }\\PY{n}{view}\\PY{+w}{ }\\PY{p}{.}\\PY{n}{LVU59}\n",
       "\\PY{+w}{\t}\\PY{n}{movl}\\PY{+w}{\t}\\PY{o}{\\PYZpc{}}\\PY{n}{eax}\\PY{p}{,}\\PY{+w}{ }\\PY{o}{\\PYZpc{}}\\PY{n}{edi}\n",
       "\\PY{+w}{\t}\\PY{n}{call}\\PY{+w}{\t}\\PY{n}{\\PYZus{}ZSt20\\PYZus{}\\PYZus{}throw\\PYZus{}system\\PYZus{}errori}\\PY{err}{@}\\PY{n}{PLT}\n",
       "\\PY{p}{.}\\PY{n}{LVL17}\\PY{o}{:}\n",
       "\\PY{p}{.}\\PY{n}{L17}\\PY{o}{:}\n",
       "\\PY{+w}{\t}\\PY{p}{.}\\PY{n}{loc}\\PY{+w}{ }\\PY{l+m+mi}{5}\\PY{+w}{ }\\PY{l+m+mi}{104}\\PY{+w}{ }\\PY{l+m+mi}{22}\\PY{+w}{ }\\PY{n}{view}\\PY{+w}{ }\\PY{p}{.}\\PY{n}{LVU60}\n",
       "\\PY{p}{.}\\PY{n}{LBE2389}\\PY{o}{:}\n",
       "\\PY{p}{.}\\PY{n}{LBE2399}\\PY{o}{:}\n",
       "\\PY{p}{.}\\PY{n}{LBE2403}\\PY{o}{:}\n",
       "\\PY{+w}{\t}\\PY{p}{.}\\PY{n}{loc}\\PY{+w}{ }\\PY{l+m+mi}{1}\\PY{+w}{ }\\PY{l+m+mi}{16}\\PY{+w}{ }\\PY{l+m+mi}{1}\\PY{+w}{ }\\PY{n}{view}\\PY{+w}{ }\\PY{p}{.}\\PY{n}{LVU61}\n",
       "\\PY{+w}{\t}\\PY{n}{popq}\\PY{+w}{\t}\\PY{o}{\\PYZpc{}}\\PY{n}{rbx}\n",
       "\\PY{+w}{\t}\\PY{p}{.}\\PY{n}{cfi\\PYZus{}def\\PYZus{}cfa\\PYZus{}offset}\\PY{+w}{ }\\PY{l+m+mi}{24}\n",
       "\\PY{p}{.}\\PY{n}{LVL18}\\PY{o}{:}\n",
       "\\PY{+w}{\t}\\PY{p}{.}\\PY{n}{loc}\\PY{+w}{ }\\PY{l+m+mi}{1}\\PY{+w}{ }\\PY{l+m+mi}{16}\\PY{+w}{ }\\PY{l+m+mi}{1}\\PY{+w}{ }\\PY{n}{view}\\PY{+w}{ }\\PY{p}{.}\\PY{n}{LVU62}\n",
       "\\PY{+w}{\t}\\PY{n}{popq}\\PY{+w}{\t}\\PY{o}{\\PYZpc{}}\\PY{n}{rbp}\n",
       "\\PY{+w}{\t}\\PY{p}{.}\\PY{n}{cfi\\PYZus{}def\\PYZus{}cfa\\PYZus{}offset}\\PY{+w}{ }\\PY{l+m+mi}{16}\n",
       "\\PY{p}{.}\\PY{n}{LVL19}\\PY{o}{:}\n",
       "\\PY{+w}{\t}\\PY{p}{.}\\PY{n}{loc}\\PY{+w}{ }\\PY{l+m+mi}{1}\\PY{+w}{ }\\PY{l+m+mi}{16}\\PY{+w}{ }\\PY{l+m+mi}{1}\\PY{+w}{ }\\PY{n}{view}\\PY{+w}{ }\\PY{p}{.}\\PY{n}{LVU63}\n",
       "\\PY{+w}{\t}\\PY{n}{popq}\\PY{+w}{\t}\\PY{o}{\\PYZpc{}}\\PY{n}{r12}\n",
       "\\PY{+w}{\t}\\PY{p}{.}\\PY{n}{cfi\\PYZus{}def\\PYZus{}cfa\\PYZus{}offset}\\PY{+w}{ }\\PY{l+m+mi}{8}\n",
       "\\PY{+w}{\t}\\PY{n}{ret}\n",
       "\\PY{p}{.}\\PY{n}{LVL20}\\PY{o}{:}\n",
       "\\PY{p}{.}\\PY{n}{L14}\\PY{o}{:}\n",
       "\\PY{+w}{\t}\\PY{p}{.}\\PY{n}{cfi\\PYZus{}restore}\\PY{+w}{ }\\PY{l+m+mi}{3}\n",
       "\\PY{+w}{\t}\\PY{p}{.}\\PY{n}{cfi\\PYZus{}restore}\\PY{+w}{ }\\PY{l+m+mi}{6}\n",
       "\\PY{+w}{\t}\\PY{p}{.}\\PY{n}{cfi\\PYZus{}restore}\\PY{+w}{ }\\PY{l+m+mi}{12}\n",
       "\\PY{+w}{\t}\\PY{p}{.}\\PY{n}{loc}\\PY{+w}{ }\\PY{l+m+mi}{1}\\PY{+w}{ }\\PY{l+m+mi}{16}\\PY{+w}{ }\\PY{l+m+mi}{1}\\PY{+w}{ }\\PY{n}{view}\\PY{+w}{ }\\PY{p}{.}\\PY{n}{LVU64}\n",
       "\\PY{+w}{\t}\\PY{n}{ret}\n",
       "\\PY{+w}{\t}\\PY{p}{.}\\PY{n}{cfi\\PYZus{}endproc}\n",
       "\\PY{p}{.}\\PY{n}{LFE3782}\\PY{o}{:}\n",
       "\\end{Verbatim}\n"
      ],
      "text/plain": [
       "// lock_demo.s:101-271 (171 lines)\n",
       "yes_locks:\n",
       ".LVL9:\n",
       ".LFB3782:\n",
       "\t.loc 1 10 40 is_stmt 1 view -0\n",
       "\t.cfi_startproc\n",
       "\t.loc 1 10 40 is_stmt 0 view .LVU22\n",
       "\tendbr64\n",
       "\t.loc 1 11 5 is_stmt 1 view .LVU23\n",
       ".LVL10:\n",
       ".LBB2378:\n",
       "\t.loc 1 11 21 view .LVU24\n",
       "\ttestl\t%esi, %esi\n",
       "\tjle\t.L14\n",
       ".LBE2378:\n",
       "\t.loc 1 10 40 is_stmt 0 view .LVU25\n",
       "\tpushq\t%r12\n",
       "\t.cfi_def_cfa_offset 16\n",
       "\t.cfi_offset 12, -16\n",
       "\tpushq\t%rbp\n",
       "\t.cfi_def_cfa_offset 24\n",
       "\t.cfi_offset 6, -24\n",
       "\tpushq\t%rbx\n",
       "\t.cfi_def_cfa_offset 32\n",
       "\t.cfi_offset 3, -32\n",
       "\tmovl\t%esi, %ebp\n",
       ".LBB2400:\n",
       "\t.loc 1 11 13 view .LVU26\n",
       "\tmovl\t$0, %ebx\n",
       ".LBB2379:\n",
       ".LBB2380:\n",
       ".LBB2381:\n",
       ".LBB2382:\n",
       "\t.file 4 \"/usr/include/x86_64-linux-gnu/c++/9/bits/gthr-default.h\"\n",
       "\t.loc 4 748 3 view .LVU27\n",
       "\tmovq\t_ZL28__gthrw___pthread_key_createPjPFvPvE@GOTPCREL(%rip), %r12\n",
       "\tjmp\t.L11\n",
       ".LVL11:\n",
       ".L9:\n",
       "\t.loc 4 748 3 view .LVU28\n",
       ".LBE2382:\n",
       ".LBE2381:\n",
       ".LBE2380:\n",
       ".LBE2379:\n",
       "\t.loc 1 13 9 is_stmt 1 view .LVU29\n",
       "\t.loc 1 13 15 is_stmt 0 view .LVU30\n",
       "\tmovl\tshared(%rip), %eax\n",
       "\taddl\t$1, %eax\n",
       "\tmovl\t%eax, shared(%rip)\n",
       "\t.loc 1 14 9 is_stmt 1 view .LVU31\n",
       ".LVL12:\n",
       ".LBB2390:\n",
       ".LBI2390:\n",
       "\t.file 5 \"/usr/include/c++/9/bits/std_mutex.h\"\n",
       "\t.loc 5 115 5 view .LVU32\n",
       ".LBE2390:\n",
       ".LBE2400:\n",
       "\t.loc 5 118 7 view .LVU33\n",
       ".LBB2401:\n",
       ".LBB2396:\n",
       ".LBB2391:\n",
       ".LBI2391:\n",
       "\t.loc 4 776 1 view .LVU34\n",
       ".LBB2392:\n",
       "\t.loc 4 778 3 view .LVU35\n",
       ".LBB2393:\n",
       ".LBI2393:\n",
       "\t.loc 4 248 1 view .LVU36\n",
       ".LBE2393:\n",
       ".LBE2392:\n",
       ".LBE2391:\n",
       ".LBE2396:\n",
       ".LBE2401:\n",
       "\t.loc 4 250 3 view .LVU37\n",
       "\t.loc 4 252 3 view .LVU38\n",
       ".LBB2402:\n",
       ".LBB2397:\n",
       ".LBB2395:\n",
       ".LBB2394:\n",
       "\t.loc 4 778 3 is_stmt 0 view .LVU39\n",
       "\tcmpq\t$0, _ZL28__gthrw___pthread_key_createPjPFvPvE@GOTPCREL(%rip)\n",
       "\tje\t.L10\n",
       "\t.loc 4 779 5 is_stmt 1 view .LVU40\n",
       "\t.loc 4 779 43 is_stmt 0 view .LVU41\n",
       "\tleaq\tlock(%rip), %rdi\n",
       "\tcall\t_ZL28__gthrw_pthread_mutex_unlockP15pthread_mutex_t@PLT\n",
       ".LVL13:\n",
       ".L10:\n",
       "\t.loc 4 779 43 view .LVU42\n",
       ".LBE2394:\n",
       ".LBE2395:\n",
       ".LBE2397:\n",
       "\t.loc 1 11 5 is_stmt 1 view .LVU43\n",
       "\taddl\t$1, %ebx\n",
       ".LVL14:\n",
       "\t.loc 1 11 21 view .LVU44\n",
       "\tcmpl\t%ebx, %ebp\n",
       "\tje\t.L17\n",
       ".LVL15:\n",
       ".L11:\n",
       "\t.loc 1 12 9 view .LVU45\n",
       ".LBB2398:\n",
       ".LBI2379:\n",
       "\t.loc 5 98 5 view .LVU46\n",
       ".LBB2388:\n",
       "\t.loc 5 100 7 view .LVU47\n",
       ".LBB2386:\n",
       ".LBI2381:\n",
       "\t.loc 4 746 1 view .LVU48\n",
       ".LBB2384:\n",
       "\t.loc 4 748 3 view .LVU49\n",
       ".LBB2383:\n",
       ".LBI2383:\n",
       "\t.loc 4 248 1 view .LVU50\n",
       ".LBE2383:\n",
       ".LBE2384:\n",
       ".LBE2386:\n",
       ".LBE2388:\n",
       ".LBE2398:\n",
       ".LBE2402:\n",
       "\t.loc 4 250 3 view .LVU51\n",
       "\t.loc 4 252 3 view .LVU52\n",
       ".LBB2403:\n",
       ".LBB2399:\n",
       ".LBB2389:\n",
       ".LBB2387:\n",
       ".LBB2385:\n",
       "\t.loc 4 748 3 is_stmt 0 view .LVU53\n",
       "\ttestq\t%r12, %r12\n",
       "\tje\t.L9\n",
       "\t.loc 4 749 5 is_stmt 1 view .LVU54\n",
       "\t.loc 4 749 41 is_stmt 0 view .LVU55\n",
       "\tleaq\tlock(%rip), %rdi\n",
       "\tcall\t_ZL26__gthrw_pthread_mutex_lockP15pthread_mutex_t@PLT\n",
       ".LVL16:\n",
       "\t.loc 4 749 41 view .LVU56\n",
       ".LBE2385:\n",
       ".LBE2387:\n",
       "\t.loc 5 103 7 is_stmt 1 view .LVU57\n",
       "\ttestl\t%eax, %eax\n",
       "\tje\t.L9\n",
       "\t.loc 5 104 2 view .LVU58\n",
       "\t.loc 5 104 22 is_stmt 0 view .LVU59\n",
       "\tmovl\t%eax, %edi\n",
       "\tcall\t_ZSt20__throw_system_errori@PLT\n",
       ".LVL17:\n",
       ".L17:\n",
       "\t.loc 5 104 22 view .LVU60\n",
       ".LBE2389:\n",
       ".LBE2399:\n",
       ".LBE2403:\n",
       "\t.loc 1 16 1 view .LVU61\n",
       "\tpopq\t%rbx\n",
       "\t.cfi_def_cfa_offset 24\n",
       ".LVL18:\n",
       "\t.loc 1 16 1 view .LVU62\n",
       "\tpopq\t%rbp\n",
       "\t.cfi_def_cfa_offset 16\n",
       ".LVL19:\n",
       "\t.loc 1 16 1 view .LVU63\n",
       "\tpopq\t%r12\n",
       "\t.cfi_def_cfa_offset 8\n",
       "\tret\n",
       ".LVL20:\n",
       ".L14:\n",
       "\t.cfi_restore 3\n",
       "\t.cfi_restore 6\n",
       "\t.cfi_restore 12\n",
       "\t.loc 1 16 1 view .LVU64\n",
       "\tret\n",
       "\t.cfi_endproc\n",
       ".LFE3782:"
      ]
     },
     "metadata": {},
     "output_type": "display_data"
    }
   ],
   "source": [
    "t = fiddle(\"lock_demo.cpp\", function=\"lock_demo\", opt=\"-O1\",\n",
    "code=r\"\"\"\n",
    "#include\"function_map.hpp\"\n",
    "#include<cstdint>\n",
    "#include<thread>\n",
    "#include<mutex>\n",
    "\n",
    "std::mutex lock;\n",
    "volatile int shared = 0;\n",
    "extern \"C\"\n",
    "void yes_locks(uint64_t id, int count) {\n",
    "    for(int i= 0; i < count; i++){\n",
    "        lock.lock();\n",
    "        shared++;\n",
    "        lock.unlock();\n",
    "    }\n",
    "}\n",
    "\n",
    "extern \"C\"\n",
    "void no_locks(uint64_t id, int count) {\n",
    "    for(int i= 0; i < count; i++){\n",
    "        shared++;\n",
    "    }\n",
    "}\n",
    "\n",
    "extern \"C\"\n",
    "uint64_t* lock_demo(uint64_t thread_count, uint64_t * data, uint64_t size, uint64_t arg1, uint64_t arg2, uint64_t arg3) {\n",
    "    shared = 0;\n",
    "    std::thread **threads = new std::thread*[thread_count];\n",
    "    bool do_locks = (arg2 != 0);\n",
    "    for(unsigned int i = 0; i < thread_count - 1; i++) {\n",
    "        if (do_locks) {\n",
    "            threads[i] = new std::thread(yes_locks, i, arg1/thread_count);\n",
    "        } else {\n",
    "            threads[i] = new std::thread(no_locks, i, arg1/thread_count);\n",
    "        }\n",
    "    }\n",
    "    if (do_locks) {\n",
    "        yes_locks(thread_count - 1, arg1/thread_count);\n",
    "    } else {\n",
    "        no_locks(thread_count - 1, arg1/thread_count);\n",
    "    }\n",
    "    for(unsigned int i = 0; i < thread_count - 1; i++) {\n",
    "        threads[i]->join();\n",
    "    }\n",
    "    std::cerr << \"do_lock: \" << do_locks << \"; \" << \"thread count: \" << thread_count << \"; Shared sum: \" << shared << \".  It should be: \" <<  arg1 << \"\\n\";\n",
    "    return data;\n",
    "}\n",
    "FUNCTION(one_array_2arg, lock_demo);\n",
    "\"\"\")\n",
    "\n",
    "!make C_OPTS=\"-O1\" build/lock_demo.s\n",
    "render_code(\"lock_demo.s\", show=[\"yes_locks:\",\"LFE3782\"])"
   ]
  },
  {
   "cell_type": "code",
   "execution_count": 13,
   "metadata": {
    "deletable": false,
    "editable": false,
    "tags": []
   },
   "outputs": [
    {
     "name": "stdout",
     "output_type": "stream",
     "text": [
      "make: 'fiddle.exe' is up to date.\n",
      "mkdir -p build/ \n",
      "cp *.hpp build/\n",
      "cp *.h   build/\n",
      "g++-9  -DHAVE_LINUX_PERF_EVENT_H -pthread -DHAVE_LINUX_PERF_EVENT_H -I/datahub/htseng/2023fa-cs203-parallelism-starter -g -O1 -fopenmp -lm -pthread -lboost_program_options -L/usr/lib/ -lboost_system -ldl  -rdynamic -fPIC -shared -o build/lock_demo.so build/lock_demo.cpp\n",
      "registering function: lock_demo\n",
      "Dynamically registering lock_demo\n",
      "Execution started\n",
      "do_lock: 1; thread count: 1; Shared sum: 60000000.  It should be: 60000000\n",
      "do_lock: 0; thread count: 1; Shared sum: 60000000.  It should be: 60000000\n",
      "do_lock: 1; thread count: 2; Shared sum: 60000000.  It should be: 60000000\n",
      "do_lock: 0; thread count: 2; Shared sum: 30105712.  It should be: 60000000\n",
      "do_lock: 1; thread count: 3; Shared sum: 60000000.  It should be: 60000000\n",
      "do_lock: 0; thread count: 3; Shared sum: 21118589.  It should be: 60000000\n",
      "do_lock: 1; thread count: 4; Shared sum: 60000000.  It should be: 60000000\n",
      "do_lock: 0; thread count: 4; Shared sum: 16023231.  It should be: 60000000\n",
      "Execution completed\n"
     ]
    }
   ],
   "source": [
    "! cs203 job run \"make fiddle.exe; make C_OPTS=\"-O1\" build/lock_demo.so\"\n",
    "! cs203 job run \"./fiddle.exe -lib ./build/lock_demo.so -M 3300 --detail -f lock_demo --arg1 60000000 --arg2 1 0 --threads 1 2 3 4 -o lock_demo.csv\""
   ]
  },
  {
   "cell_type": "markdown",
   "metadata": {
    "cs203.is_response": true,
    "cs203.points": 1,
    "cs203.question_type": "completeness",
    "deletable": false,
    "editable": false,
    "solution2": "hidden",
    "solution2_first": true,
    "tags": []
   },
   "source": [
    "<div class=\"alert alert-block alert-success\"><div class=\"question completeness\">\n",
    "\n",
    "### Question 3 (Completeness)\n",
    "\n",
    "<div class=\"question-text\">\n",
    "\n",
    "Based on the assembly above, and assuming multiple threads are running at once, explain how `shared` ends up being computed incorrectly without locks and how adding locks prevents it.\n",
    "  \n",
    "</div>\n",
    "</div>\n",
    "</div>"
   ]
  },
  {
   "cell_type": "markdown",
   "metadata": {
    "cs203.is_response": true,
    "cs203.points": 1,
    "cs203.question_type": "completeness",
    "deletable": false,
    "editable": true,
    "solution2": "hidden",
    "solution2_first": true
   },
   "source": [
    "<div class=\"alert alert-block alert-success\">    \n",
    "<div class=\"answer\">\n",
    "Answer:  \n",
    "</div>\n",
    "</div>"
   ]
  },
  {
   "cell_type": "markdown",
   "metadata": {
    "editable": false,
    "solution2": "hidden"
   },
   "source": [
    "<div class=\"solution\">\n",
    "    \n",
    "The increment turns into 3 instruction:  `mov (%rcx), %eax` (a load), `addl $1, %eax` (the add), and `movl %eax, (%rcx)` (a store).\n",
    "\n",
    "The problem comes when the load in two threads retrieves the same value.  They then compute the same next value and store it back.  As a result one of the increments is lost.\n",
    "  \n",
    "Adding `lock()` and `unlock()` avoids this problem since only one thread is executing the increment at a time.  So no increments are lost.\n",
    "</div>"
   ]
  },
  {
   "cell_type": "markdown",
   "metadata": {
    "deletable": false,
    "editable": false,
    "tags": []
   },
   "source": [
    "So locks are fine for correctness (which is very important), but what about performance.\n",
    "\n",
    "Here's a bunch of data and graphs about the performance of the code above with and without threads."
   ]
  },
  {
   "cell_type": "code",
   "execution_count": 14,
   "metadata": {
    "deleteable": false,
    "editable": false,
    "tags": []
   },
   "outputs": [
    {
     "data": {
      "text/html": [
       "<style type=\"text/css\">\n",
       "#T_7cbd1_row0_col0, #T_7cbd1_row0_col1, #T_7cbd1_row0_col2, #T_7cbd1_row0_col3, #T_7cbd1_row0_col4, #T_7cbd1_row0_col5, #T_7cbd1_row0_col6, #T_7cbd1_row1_col0, #T_7cbd1_row1_col1, #T_7cbd1_row1_col2, #T_7cbd1_row1_col3, #T_7cbd1_row1_col4, #T_7cbd1_row1_col5, #T_7cbd1_row1_col6, #T_7cbd1_row2_col0, #T_7cbd1_row2_col1, #T_7cbd1_row2_col2, #T_7cbd1_row2_col3, #T_7cbd1_row2_col4, #T_7cbd1_row2_col5, #T_7cbd1_row2_col6, #T_7cbd1_row3_col0, #T_7cbd1_row3_col1, #T_7cbd1_row3_col2, #T_7cbd1_row3_col3, #T_7cbd1_row3_col4, #T_7cbd1_row3_col5, #T_7cbd1_row3_col6, #T_7cbd1_row4_col0, #T_7cbd1_row4_col1, #T_7cbd1_row4_col2, #T_7cbd1_row4_col3, #T_7cbd1_row4_col4, #T_7cbd1_row4_col5, #T_7cbd1_row4_col6, #T_7cbd1_row5_col0, #T_7cbd1_row5_col1, #T_7cbd1_row5_col2, #T_7cbd1_row5_col3, #T_7cbd1_row5_col4, #T_7cbd1_row5_col5, #T_7cbd1_row5_col6, #T_7cbd1_row6_col0, #T_7cbd1_row6_col1, #T_7cbd1_row6_col2, #T_7cbd1_row6_col3, #T_7cbd1_row6_col4, #T_7cbd1_row6_col5, #T_7cbd1_row6_col6, #T_7cbd1_row7_col0, #T_7cbd1_row7_col1, #T_7cbd1_row7_col2, #T_7cbd1_row7_col3, #T_7cbd1_row7_col4, #T_7cbd1_row7_col5, #T_7cbd1_row7_col6 {\n",
       "  font-family: monospace;\n",
       "}\n",
       "</style>\n",
       "<table id=\"T_7cbd1\">\n",
       "  <thead>\n",
       "    <tr>\n",
       "      <th class=\"blank level0\" >&nbsp;</th>\n",
       "      <th id=\"T_7cbd1_level0_col0\" class=\"col_heading level0 col0\" >threads</th>\n",
       "      <th id=\"T_7cbd1_level0_col1\" class=\"col_heading level0 col1\" >locks</th>\n",
       "      <th id=\"T_7cbd1_level0_col2\" class=\"col_heading level0 col2\" >IC per increment</th>\n",
       "      <th id=\"T_7cbd1_level0_col3\" class=\"col_heading level0 col3\" >CPI</th>\n",
       "      <th id=\"T_7cbd1_level0_col4\" class=\"col_heading level0 col4\" >ET</th>\n",
       "      <th id=\"T_7cbd1_level0_col5\" class=\"col_heading level0 col5\" >Cycles per increment</th>\n",
       "      <th id=\"T_7cbd1_level0_col6\" class=\"col_heading level0 col6\" >L1 Misses Per Increment</th>\n",
       "    </tr>\n",
       "  </thead>\n",
       "  <tbody>\n",
       "    <tr>\n",
       "      <th id=\"T_7cbd1_level0_row0\" class=\"row_heading level0 row0\" >0</th>\n",
       "      <td id=\"T_7cbd1_row0_col0\" class=\"data row0 col0\" >1</td>\n",
       "      <td id=\"T_7cbd1_row0_col1\" class=\"data row0 col1\" >1</td>\n",
       "      <td id=\"T_7cbd1_row0_col2\" class=\"data row0 col2\" >69.020739</td>\n",
       "      <td id=\"T_7cbd1_row0_col3\" class=\"data row0 col3\" >0.832292</td>\n",
       "      <td id=\"T_7cbd1_row0_col4\" class=\"data row0 col4\" >0.863622</td>\n",
       "      <td id=\"T_7cbd1_row0_col5\" class=\"data row0 col5\" >57.445409</td>\n",
       "      <td id=\"T_7cbd1_row0_col6\" class=\"data row0 col6\" >0.000033</td>\n",
       "    </tr>\n",
       "    <tr>\n",
       "      <th id=\"T_7cbd1_level0_row1\" class=\"row_heading level0 row1\" >1</th>\n",
       "      <td id=\"T_7cbd1_row1_col0\" class=\"data row1 col0\" >1</td>\n",
       "      <td id=\"T_7cbd1_row1_col1\" class=\"data row1 col1\" >0</td>\n",
       "      <td id=\"T_7cbd1_row1_col2\" class=\"data row1 col2\" >6.000955</td>\n",
       "      <td id=\"T_7cbd1_row1_col3\" class=\"data row1 col3\" >0.189242</td>\n",
       "      <td id=\"T_7cbd1_row1_col4\" class=\"data row1 col4\" >0.017121</td>\n",
       "      <td id=\"T_7cbd1_row1_col5\" class=\"data row1 col5\" >1.135633</td>\n",
       "      <td id=\"T_7cbd1_row1_col6\" class=\"data row1 col6\" >0.000010</td>\n",
       "    </tr>\n",
       "    <tr>\n",
       "      <th id=\"T_7cbd1_level0_row2\" class=\"row_heading level0 row2\" >2</th>\n",
       "      <td id=\"T_7cbd1_row2_col0\" class=\"data row2 col0\" >2</td>\n",
       "      <td id=\"T_7cbd1_row2_col1\" class=\"data row2 col1\" >1</td>\n",
       "      <td id=\"T_7cbd1_row2_col2\" class=\"data row2 col2\" >545.712747</td>\n",
       "      <td id=\"T_7cbd1_row2_col3\" class=\"data row2 col3\" >1.555247</td>\n",
       "      <td id=\"T_7cbd1_row2_col4\" class=\"data row2 col4\" >3.264609</td>\n",
       "      <td id=\"T_7cbd1_row2_col5\" class=\"data row2 col5\" >848.718332</td>\n",
       "      <td id=\"T_7cbd1_row2_col6\" class=\"data row2 col6\" >1.458541</td>\n",
       "    </tr>\n",
       "    <tr>\n",
       "      <th id=\"T_7cbd1_level0_row3\" class=\"row_heading level0 row3\" >3</th>\n",
       "      <td id=\"T_7cbd1_row3_col0\" class=\"data row3 col0\" >2</td>\n",
       "      <td id=\"T_7cbd1_row3_col1\" class=\"data row3 col1\" >0</td>\n",
       "      <td id=\"T_7cbd1_row3_col2\" class=\"data row3 col2\" >12.003608</td>\n",
       "      <td id=\"T_7cbd1_row3_col3\" class=\"data row3 col3\" >0.228604</td>\n",
       "      <td id=\"T_7cbd1_row3_col4\" class=\"data row3 col4\" >0.010377</td>\n",
       "      <td id=\"T_7cbd1_row3_col5\" class=\"data row3 col5\" >2.744070</td>\n",
       "      <td id=\"T_7cbd1_row3_col6\" class=\"data row3 col6\" >0.000058</td>\n",
       "    </tr>\n",
       "    <tr>\n",
       "      <th id=\"T_7cbd1_level0_row4\" class=\"row_heading level0 row4\" >4</th>\n",
       "      <td id=\"T_7cbd1_row4_col0\" class=\"data row4 col0\" >3</td>\n",
       "      <td id=\"T_7cbd1_row4_col1\" class=\"data row4 col1\" >1</td>\n",
       "      <td id=\"T_7cbd1_row4_col2\" class=\"data row4 col2\" >1009.809392</td>\n",
       "      <td id=\"T_7cbd1_row4_col3\" class=\"data row4 col3\" >1.963182</td>\n",
       "      <td id=\"T_7cbd1_row4_col4\" class=\"data row4 col4\" >3.659397</td>\n",
       "      <td id=\"T_7cbd1_row4_col5\" class=\"data row4 col5\" >1982.439917</td>\n",
       "      <td id=\"T_7cbd1_row4_col6\" class=\"data row4 col6\" >3.469670</td>\n",
       "    </tr>\n",
       "    <tr>\n",
       "      <th id=\"T_7cbd1_level0_row5\" class=\"row_heading level0 row5\" >5</th>\n",
       "      <td id=\"T_7cbd1_row5_col0\" class=\"data row5 col0\" >3</td>\n",
       "      <td id=\"T_7cbd1_row5_col1\" class=\"data row5 col1\" >0</td>\n",
       "      <td id=\"T_7cbd1_row5_col2\" class=\"data row5 col2\" >18.008223</td>\n",
       "      <td id=\"T_7cbd1_row5_col3\" class=\"data row5 col3\" >0.213016</td>\n",
       "      <td id=\"T_7cbd1_row5_col4\" class=\"data row5 col4\" >0.006712</td>\n",
       "      <td id=\"T_7cbd1_row5_col5\" class=\"data row5 col5\" >3.836047</td>\n",
       "      <td id=\"T_7cbd1_row5_col6\" class=\"data row5 col6\" >0.000135</td>\n",
       "    </tr>\n",
       "    <tr>\n",
       "      <th id=\"T_7cbd1_level0_row6\" class=\"row_heading level0 row6\" >6</th>\n",
       "      <td id=\"T_7cbd1_row6_col0\" class=\"data row6 col0\" >4</td>\n",
       "      <td id=\"T_7cbd1_row6_col1\" class=\"data row6 col1\" >1</td>\n",
       "      <td id=\"T_7cbd1_row6_col2\" class=\"data row6 col2\" >1467.019047</td>\n",
       "      <td id=\"T_7cbd1_row6_col3\" class=\"data row6 col3\" >2.098845</td>\n",
       "      <td id=\"T_7cbd1_row6_col4\" class=\"data row6 col4\" >3.627709</td>\n",
       "      <td id=\"T_7cbd1_row6_col5\" class=\"data row6 col5\" >3079.046185</td>\n",
       "      <td id=\"T_7cbd1_row6_col6\" class=\"data row6 col6\" >5.758266</td>\n",
       "    </tr>\n",
       "    <tr>\n",
       "      <th id=\"T_7cbd1_level0_row7\" class=\"row_heading level0 row7\" >7</th>\n",
       "      <td id=\"T_7cbd1_row7_col0\" class=\"data row7 col0\" >4</td>\n",
       "      <td id=\"T_7cbd1_row7_col1\" class=\"data row7 col1\" >0</td>\n",
       "      <td id=\"T_7cbd1_row7_col2\" class=\"data row7 col2\" >24.015090</td>\n",
       "      <td id=\"T_7cbd1_row7_col3\" class=\"data row7 col3\" >0.206111</td>\n",
       "      <td id=\"T_7cbd1_row7_col4\" class=\"data row7 col4\" >0.004933</td>\n",
       "      <td id=\"T_7cbd1_row7_col5\" class=\"data row7 col5\" >4.949777</td>\n",
       "      <td id=\"T_7cbd1_row7_col6\" class=\"data row7 col6\" >0.000294</td>\n",
       "    </tr>\n",
       "  </tbody>\n",
       "</table>\n"
      ],
      "text/plain": [
       "<pandas.io.formats.style.Styler at 0x7f13b4f1f7c0>"
      ]
     },
     "metadata": {},
     "output_type": "display_data"
    },
    {
     "data": {
      "image/png": "[encoded data removed]",
      "text/plain": [
       "<Figure size 1600x800 with 5 Axes>"
      ]
     },
     "metadata": {},
     "output_type": "display_data"
    }
   ],
   "source": [
    "#key data_cell\n",
    "from notebook import *\n",
    "df = render_csv(\"lock_demo.csv\")\n",
    "df[\"assignmentel\"] = df[\"threads\"].apply(lambda x: f\"{x} threads;\" ) + \" \" + df[\"arg2\"].apply(lambda x: \"locks\" if x else \"no locks\")\n",
    "df[\"Total IC\"] = df[\"IC\"] * df[\"threads\"]\n",
    "df[\"IC per increment\"] = df[\"IC\"]/(df[\"arg1\"]/df[\"threads\"])\n",
    "df[\"Cycles per increment\"] = df[\"Cycles\"]/(df[\"arg1\"]/df[\"threads\"])\n",
    "df[\"L1 Misses Per Increment\"] = df[\"L1_dcache_misses\"]/(df[\"arg1\"]/df[\"threads\"])\n",
    "df[\"locks\"] = df[\"arg2\"]\n",
    "display_mono(df[[\"threads\", \"locks\", \"IC per increment\", \"CPI\", \"ET\", \"Cycles per increment\", \"L1 Misses Per Increment\"]])\n",
    "plotPEBar(df=df, what=[(\"assignmentel\", \"IC per increment\"), (\"assignmentel\", \"CPI\"), (\"assignmentel\", \"ET\"),  (\"assignmentel\", \"Cycles per increment\"), (\"assignmentel\", \"L1 Misses Per Increment\")])"
   ]
  },
  {
   "cell_type": "markdown",
   "metadata": {
    "cs203.is_response": true,
    "cs203.points": 3,
    "cs203.question_type": "correctness",
    "deletable": false,
    "editable": false,
    "tags": []
   },
   "source": [
    "<div class=\"alert alert-block alert-success\"><div class=\"question correctness\"> \n",
    "\n",
    "### Question 4 (Correctness)\n",
    "\n",
    "<div class=\"question-text\">\n",
    "\n",
    "Answer the questions below:\n",
    "    \n",
    "* How much does adding locks slow down the single thread case in terms of cycles per increment? \n",
    "    \n",
    "* How much does adding a second thread slow down each increment in terms of cycles per increment? \n",
    "    \n",
    "* How many cycles does it take to take and release a lock? \n",
    "    \n",
    "</div>\n",
    "</div>\n",
    "</div>"
   ]
  },
  {
   "cell_type": "markdown",
   "metadata": {
    "cs203.is_response": true,
    "cs203.points": 3,
    "cs203.question_type": "correctness",
    "deletable": false,
    "editable": true,
    "tags": []
   },
   "source": [
    "<div class=\"alert alert-block alert-success\">\n",
    "<div class=\"answer\">\n",
    "\n",
    "* How much does adding locks slow down the single thread case in terms of cycles per increment? \n",
    "    \n",
    "* How much does adding a second thread slow down each increment in terms of cycles per increment? \n",
    "    \n",
    "* How many cycles does it take to take and release a lock? \n",
    "\n",
    "</div>\n",
    "    \n",
    "</div>\n",
    "</div>"
   ]
  },
  {
   "cell_type": "markdown",
   "metadata": {
    "deletable": false,
    "editable": false,
    "tags": []
   },
   "source": [
    "There are two main things to take away from this data:\n",
    "\n",
    "1.  Just taking and releasing locks is expensive -- even if there's only one thread.  This overhead comes mostly from increased instruction count.  In addition, fences are expensive: could take hundreds of cycles on our machine.\n",
    "2.  When there is more than one thread competing for the lock, things get even worse.  This overhead comes from increase cache misses.\n",
    "\n",
    "Both of these are noteworthy.  The extra instructions in the locks are an example of the overhead involved in improving performance.  We saw this before with loop tiling:  Splitting and renesting loops can improve performance but it also increases instruction count, so some of the improved performance goes to paying for that overhead.  It the same thing here:  Taking and releasing a lock is code we didn't have to run before and that doesn't contribute to the useful work our program is doing.  There is no free lunch.\n",
    "\n",
    "The cache misses are a bigger problem and, interestingly, they are due to kind of cache miss we have not seen before in this class."
   ]
  },
  {
   "cell_type": "markdown",
   "metadata": {
    "deletable": false,
    "editable": false,
    "tags": []
   },
   "source": [
    "## Cache Coherence and the 4th C\n",
    "\n",
    "In assignment 2 we've seen the Capacity, Conflict, and Compulsory misses, but there is a 4th kind of miss that only occurs in multi-processing systems:  Coherence Misses.\n",
    "\n",
    "As you learned in CS203, cache coherence is how the processor keeps multiple caches synchronized, so that the processors all see the same value for a given address.\n",
    "\n",
    "To refresh your memory, the key point of coherence are:\n",
    "\n",
    "1.  Coherence operates on cache lines, like all things in the memory hierarchy.\n",
    "2.  Multiple processors can have a copy of the a cache line in their cache if they are _only_ reading from it.\n",
    "3.  Only a single processor may have a copy of the cache line if it is writing to it.\n",
    "\n",
    "Enforcing #2 and #3 is expensive:  When a processor wants to update a cache line, it has to tell all the processors that have a copy of it to _invalidate_ their copy.  This means removing it from the cache.\n"
   ]
  },
  {
   "cell_type": "markdown",
   "metadata": {
    "deletable": false,
    "editable": false,
    "tags": []
   },
   "source": [
    "When a memory access would have been a hit, but it is a miss because the cache was invalidated, we call that a _coherence miss_.\n",
    "\n",
    "Satisfying cache misses is multiprocessors is also more complicated due to coherence:  If a load misses in the cache it has to check the other caches to see if they have a copy.  If they do, then that copy is more up-to-date than what is in main memory, so that is where the cache line needs to be loaded from.  This is called a _cache-to-cache_ transfer.\n",
    "\n",
    "The invalidations and cache-to-cache transfers are implemented by sending message between the caches over an on-chip network. \n",
    "\n",
    "Sending messages across such a network can be pretty expensive and take quite a long time.\n",
    " "
   ]
  },
  {
   "cell_type": "markdown",
   "metadata": {
    "deletable": false,
    "editable": false,
    "tags": []
   },
   "source": [
    "### Coherence Performance\n",
    "\n",
    "Here's a simple program to measure the cost of communicating between cores.  We are going to run two threads either on the same core or on two different cores.  The only trick is that we control which thread runs where.  You can look at `threads.hpp` to see how `bind_to_core()` works.\n",
    "\n",
    "One thing to keep in mind:  When the two threads are running on the same core, they will have to take turns, so that single core will be doing twice as much work than each core in the two-core case.\n",
    "\n",
    "So, in an ideal world, the two-core case would be twice as fast as the one-core case.\n"
   ]
  },
  {
   "cell_type": "code",
   "execution_count": null,
   "metadata": {
    "deletable": false,
    "editable": false,
    "tags": []
   },
   "outputs": [],
   "source": [
    "t = fiddle(\"coherence.cpp\", function=\"coherence\", opt=\"-O3\",\n",
    "code=r\"\"\"\n",
    "#include\"function_map.hpp\"\n",
    "#include<cstdint>\n",
    "#include<thread>\n",
    "#include<mutex>\n",
    "#include \"threads.hpp\"\n",
    "#include \"pthread.h\"\n",
    "\n",
    "std::mutex lock;\n",
    "volatile int shared = 0;\n",
    "void go(uint64_t id,int count) {\n",
    "    for(int i= 0; i < count; i++){\n",
    "        lock.lock();\n",
    "        shared++;\n",
    "        lock.unlock();\n",
    "    }\n",
    "}\n",
    "\n",
    "extern \"C\"\n",
    "uint64_t* coherence(uint64_t thread_count, uint64_t * data, uint64_t size, uint64_t arg1, uint64_t arg2, uint64_t arg3) {\n",
    "    shared = 0;\n",
    "    std::thread other (go, 1, arg1);\n",
    "    bind_to_core(other, arg2);\n",
    "\n",
    "    bind_to_core(pthread_self(), arg3);\n",
    "    go(0, arg1);\n",
    "    other.join();\n",
    "    return data;\n",
    "}\n",
    "FUNCTION(one_array_2arg, coherence);\n",
    "\"\"\")\n",
    "\n",
    "! cs203 job run \"make fiddle.exe; make C_OPTS=\"-O3\" build/coherence.so\"\n",
    "! cs203 job run \"./fiddle.exe -lib ./build/coherence.so -M 3300 --detail -f coherence --arg1 10000000 --arg2 0 1   --arg3 0 -o coherence.csv\""
   ]
  },
  {
   "cell_type": "code",
   "execution_count": null,
   "metadata": {
    "deletable": false,
    "editable": false,
    "tags": []
   },
   "outputs": [],
   "source": [
    "df = render_csv(\"coherence.csv\")\n",
    "df[\"other_core\"] = df[\"arg2\"]\n",
    "df[\"this_core\"] = df[\"arg3\"]\n",
    "df[\"assignmentel\"] = df[\"arg2\"].astype(str) + \" to \" + df[\"arg3\"].astype(str) \n",
    "df[\"IC per increment\"] = df[\"IC\"]/df[\"arg1\"]\n",
    "df[\"Cycles per increment\"] = df[\"Cycles\"]/df[\"arg1\"]\n",
    "display_mono(df[[\"threads\", \"size\", \"arg1\", \"this_core\", \"other_core\", \"arg3\", \"IC\", \"CPI\", \"CT\", \"ET\", \"L1_dcache_miss_rate\"]])\n",
    "plotPEBar(df=df,  what=[(\"assignmentel\", \"CPI\"), (\"assignmentel\", \"ET\"), (\"assignmentel\", \"L1_dcache_misses\")])"
   ]
  },
  {
   "cell_type": "markdown",
   "metadata": {
    "deletable": false,
    "editable": false,
    "tags": []
   },
   "source": [
    "In this case, two cores is not better than one:  Even with two processors to do the work, execution slows down by a wide margin!\n",
    "\n",
    "The underlying problem is all the coherence misses necessary as `shared`'s cache line \"ping pongs\" between the two cores."
   ]
  },
  {
   "cell_type": "code",
   "execution_count": null,
   "metadata": {
    "deletable": false,
    "editable": false,
    "tags": []
   },
   "outputs": [],
   "source": [
    "t = fiddle(\"false_sharing.cpp\", function=\"false_sharing\", opt=\"-O3\",\n",
    "code=r\"\"\"\n",
    "#include\"function_map.hpp\"\n",
    "#include<cstdint>\n",
    "#include<thread>\n",
    "#include<mutex>\n",
    "#include\"threads.hpp\"\n",
    "#include\"pthread.h\"\n",
    "\n",
    "volatile int shared = 0;\n",
    "volatile int not_shared_0 = 0;\n",
    "volatile int not_shared_1 = 0;\n",
    "\n",
    "void go_0(uint64_t id,int count) {\n",
    "    for(int i= 0; i < count; i++){\n",
    "        not_shared_0++;\n",
    "    }\n",
    "}\n",
    "\n",
    "void go_1(uint64_t id,int count) {\n",
    "    for(int i= 0; i < count; i++){\n",
    "        not_shared_1++;\n",
    "    }\n",
    "}\n",
    "\n",
    "extern \"C\"\n",
    "uint64_t* false_sharing(uint64_t thread_count, uint64_t * data, uint64_t size, uint64_t arg1, uint64_t arg2, uint64_t arg3) {\n",
    "    shared = 0;\n",
    "    std::thread other (go_0, 1, arg1);\n",
    "    bind_to_core(other, arg2);\n",
    "\n",
    "    bind_to_core(pthread_self(), arg3);\n",
    "    go_1(0, arg1);\n",
    "    other.join();\n",
    "    shared = not_shared_0 + not_shared_1;\n",
    "    return data;\n",
    "}\n",
    "FUNCTION(one_array_2arg, false_sharing);\n",
    "\"\"\")\n",
    "\n",
    "\n",
    "! cs203 job run \"make fiddle.exe; make C_OPTS=\"-O3\" build/false_sharing.so\"\n",
    "! cs203 job run \"./fiddle.exe -lib ./build/false_sharing.so -M 3300 --detail -f false_sharing --arg1 10000000 --arg2 0 1   --arg3 0 -o false_sharing.csv\"\n"
   ]
  },
  {
   "cell_type": "markdown",
   "metadata": {
    "cs203.is_response": true,
    "cs203.points": 1,
    "cs203.question_type": "completeness",
    "editable": true,
    "tags": []
   },
   "source": [
    "<div class=\"alert alert-block alert-success\">\n",
    "\n",
    "\n",
    "\n",
    "<div class=\"question completeness\">\n",
    "\n",
    "### Question 5 (Completeness)    \n",
    "\n",
    "<div class=\"question-text\">\n",
    "\n",
    "How much difference in performance do you expect to see between running both threads on one core vs. running them on two cores?\n",
    "    \n",
    "</div>\n",
    "</div>\n",
    "</div>"
   ]
  },
  {
   "cell_type": "markdown",
   "metadata": {
    "cs203.is_response": true,
    "cs203.points": 1,
    "cs203.question_type": "completeness",
    "editable": true,
    "tags": []
   },
   "source": [
    "<div class=\"alert alert-block alert-success\">   \n",
    "<div class=\"answer\">\n",
    "    \n",
    "Answer:\n",
    "    \n",
    "</div>\n",
    "\n",
    "</div>"
   ]
  },
  {
   "cell_type": "code",
   "execution_count": null,
   "metadata": {
    "cs203.is_response": true,
    "deletable": false,
    "tags": []
   },
   "outputs": [],
   "source": [
    "df = render_csv(\"false_sharing.csv\")\n",
    "df[\"other_core\"] = df[\"arg2\"]\n",
    "df[\"this_core\"] = df[\"arg3\"]\n",
    "df[\"assignmentel\"] = df[\"arg2\"].astype(str) + \" to \" + df[\"arg3\"].astype(str) \n",
    "df[\"IC per increment\"] = df[\"IC\"]/df[\"arg1\"]\n",
    "df[\"Cycles per increment\"] = df[\"Cycles\"]/df[\"arg1\"]\n",
    "display_mono(df[[\"threads\", \"size\", \"arg1\", \"other_core\", \"arg3\", \"IC\", \"CPI\", \"CT\", \"ET\", \"L1_dcache_miss_rate\"]])\n",
    "plotPEBar(df=df,  what=[(\"assignmentel\", \"CPI\"), (\"assignmentel\", \"ET\"), (\"assignmentel\", \"L1_dcache_misses\")])"
   ]
  },
  {
   "cell_type": "markdown",
   "metadata": {
    "deletable": false,
    "editable": false,
    "tags": []
   },
   "source": [
    "Interesting.  That helped some, but not as much we'd like:  Ideally, we'd get 2x speedup with 2 cores, but instead we only get about 1.4x."
   ]
  },
  {
   "cell_type": "markdown",
   "metadata": {
    "cs203.is_response": true,
    "cs203.points": 1,
    "cs203.question_type": "completeness",
    "deletable": false,
    "editable": false,
    "tags": []
   },
   "source": [
    "<div class=\"alert alert-block alert-success\">\n",
    "\n",
    "<div class=\"question completeness\">\n",
    "\n",
    "### Question 6 (Completeness)    \n",
    "\n",
    "<div class=\"question-text\">\n",
    "\n",
    "Add a single line to the code above to get the 2x performance improvement we seek. (Hint:  The memory system thinks in cache lines and so should you).\n",
    "    \n",
    "</div>\n",
    "</div>\n",
    "</div>"
   ]
  },
  {
   "cell_type": "markdown",
   "metadata": {
    "cs203.is_response": true,
    "cs203.points": 1,
    "cs203.question_type": "completeness",
    "deletable": false,
    "editable": true,
    "tags": []
   },
   "source": [
    "<div class=\"alert alert-block alert-success\">       \n",
    "<div class=\"answer\">\n",
    "Answer:\n",
    "</div>\n",
    "</div>"
   ]
  },
  {
   "cell_type": "markdown",
   "metadata": {
    "editable": false,
    "solution2": "hidden"
   },
   "source": [
    "<div class=\"solution\">\n",
    "    \n",
    "The program above has no sharing in it, but it's written in terms of variables.  The memory hierarchy doesn't share variables, though, it shares cache lines.\n",
    "\n",
    "The problem here is that `not_shared_0` and `not_shared_1` reside in the same cache line, and that cache line is shared between the two processors, so there's still a lot of (now totally useless) communication going on between the two caches.\n",
    "    \n",
    "The solution is to add some padding between the those two variables.  An array of 8 `uint64_t`s should do it.  That will push them into two different cache lines.  Give it a try.\n",
    "   \n",
    "This phenomenon is called \"false sharing\" and it's quite common.  A great way to avoid false sharing among small objects is to make them cache line-aligned.  If only we had a way to control the alignment of memory objects we allocate...\n",
    "</div>"
   ]
  },
  {
   "cell_type": "markdown",
   "metadata": {
    "deletable": false,
    "editable": false,
    "tags": []
   },
   "source": [
    "### Non-Uniform Memory Access\n",
    "\n",
    "Multiple processors complicates the notion of memory latency as well. \n",
    "\n",
    "If you look closely at the on-chip network above, you can notice that there are two memory controllers -- one on each of the side of the on-chip network.  This mean that, depending on where a core is in relation to the DRAM it's trying to access, the memory latency will be different.  Similarly, depending on which part of the L3 cache a cache line landed, the latency of an L2 cache might vary.\n",
    "\n",
    "This effect is called non-uniform memory access (NUMA).  NUMA effects are even greater if a computer has multiple sockets -- some memory requests will have to go between chips while others are \"local\".\n",
    "\n",
    "It'd be great to measure NUMA effects on our machine, but our machine only has 6 cores, 1 socket, and one (active) memory controller, so there's not enough non-uniformity to measure reliably.\n"
   ]
  },
  {
   "cell_type": "markdown",
   "metadata": {
    "deletable": false,
    "editable": false,
    "tags": []
   },
   "source": [
    "# Example: Histogram\n",
    "\n",
    "Let's apply what we have learned so far to implement a fast histogram.  A histogram counts the number of occurrences of data values in a sample of data.  In our case, we are going to count how often each of the 256 possible 1-byte values appears in an array of 64-bit values.  So our histogram will have 256 \"buckets\".  Our task is to compute the histogram as fast as possible.\n",
    "\n",
    "\n",
    "## Serial Histogram\n",
    "\n",
    "Here's a simple serial version."
   ]
  },
  {
   "cell_type": "code",
   "execution_count": null,
   "metadata": {
    "deletable": false,
    "editable": false,
    "init_cell": true,
    "tags": []
   },
   "outputs": [],
   "source": [
    "render_code(\"histogram.cpp\", show=\"unthreaded_histogram\")"
   ]
  },
  {
   "cell_type": "markdown",
   "metadata": {
    "deletable": false,
    "editable": false,
    "tags": []
   },
   "source": [
    "Run the cell below to see the assembly:"
   ]
  },
  {
   "cell_type": "code",
   "execution_count": null,
   "metadata": {
    "deletable": false,
    "editable": false,
    "tags": []
   },
   "outputs": [],
   "source": [
    "! g++ -S -O3 histogram.cpp\n",
    "render_code(\"histogram.s\", show=[\"unthreaded_histogram\",\"LFE3778:\"])"
   ]
  },
  {
   "cell_type": "markdown",
   "metadata": {
    "deletable": false,
    "editable": false,
    "tags": []
   },
   "source": [
    "The compiler has completely unrolled the inner loop and performs one increment for each byte in the 64-byte value.  Let's see how fast it goes:"
   ]
  },
  {
   "cell_type": "code",
   "execution_count": null,
   "metadata": {
    "deletable": false,
    "editable": false,
    "tags": []
   },
   "outputs": [],
   "source": [
    "hist_size=10000000\n",
    "! cs203 job run \"make fiddle.exe; make C_OPTS=\"-O3\" build/histogram.so\"\n",
    "! cs203 job run \"./fiddle.exe -lib ./build/histogram.so -M 3300 --detail -f run_unthreaded_histogram --size {hist_size} --thread 0 -o histogram_unthreaded.csv\""
   ]
  },
  {
   "cell_type": "code",
   "execution_count": null,
   "metadata": {
    "deletable": false,
    "editable": false,
    "tags": []
   },
   "outputs": [],
   "source": [
    "hist_data = render_csv([\"histogram_unthreaded.csv\"], columns=hist_columns)\n",
    "hist_data[\"speedup\"] = hist_data.iloc[0][\"ET\"]/hist_data[\"ET\"]\n",
    "display_mono(hist_data)"
   ]
  },
  {
   "cell_type": "markdown",
   "metadata": {
    "cs203.is_response": true,
    "cs203.points": 1,
    "cs203.question_type": "correctness",
    "deletable": false,
    "editable": false,
    "tags": []
   },
   "source": [
    "<div class=\"alert alert-block alert-success\">\n",
    "\n",
    "<div class=\"question correctness\">\n",
    "\n",
    "### Question 7 (Correctness)    \n",
    "\n",
    "<div class=\"question-text\">\n",
    "\n",
    "Would this code benefit from tiling as a locality optimization?  Why or why not?\n",
    "\n",
    "</div>\n",
    "</div>\n",
    "</div>"
   ]
  },
  {
   "cell_type": "markdown",
   "metadata": {
    "cs203.is_response": true,
    "cs203.points": 1,
    "cs203.question_type": "correctness",
    "deletable": false,
    "editable": true,
    "tags": []
   },
   "source": [
    "<div class=\"alert alert-block alert-success\">    \n",
    "<div class=\"answer\">\n",
    "Answer:\n",
    "        \n",
    "</div>\n",
    "</div>"
   ]
  },
  {
   "cell_type": "markdown",
   "metadata": {
    "deletable": false,
    "editable": false,
    "tags": []
   },
   "source": [
    "## Parallel Histogram\n",
    "\n",
    "Here's a simple threaded version.  It divides the input array into chunks and processes them in parallel.  We use a single lock to protect a shared set of buckets.\n",
    "\n",
    "This is very similar to what we did with tiling for cache locality, but here our focus is on dividing up the work across threads."
   ]
  },
  {
   "cell_type": "code",
   "execution_count": null,
   "metadata": {
    "deletable": false,
    "editable": false,
    "init_cell": true,
    "tags": []
   },
   "outputs": [],
   "source": [
    "render_code(\"histogram.cpp\", show=(\"//START_THREADED\", \"//END_THREADED\"))"
   ]
  },
  {
   "cell_type": "markdown",
   "metadata": {
    "cs203.is_response": true,
    "cs203.points": 1,
    "cs203.question_type": "completeness",
    "deletable": false,
    "editable": false,
    "tags": []
   },
   "source": [
    "<div class=\"alert alert-block alert-success\">\n",
    "\n",
    "<div class=\"question completeness\">\n",
    "    \n",
    "### Question 8 (Completeness)\n",
    "\n",
    "<div class=\"question-text\">\n",
    "\n",
    "How much speedup do you expect with 4 threads? Why?\n",
    "\n",
    "</div>\n",
    "</div>\n",
    "</div>"
   ]
  },
  {
   "cell_type": "markdown",
   "metadata": {
    "cs203.is_response": true,
    "cs203.points": 1,
    "cs203.question_type": "completeness",
    "deletable": false,
    "editable": true,
    "tags": []
   },
   "source": [
    "<div class=\"alert alert-block alert-success\">    \n",
    "<div class=\"answer\">\n",
    "\n",
    "**Speedup:**\n",
    "\n",
    "**Why:**\n",
    "    \n",
    "        \n",
    "</div>\n",
    "</div>"
   ]
  },
  {
   "cell_type": "markdown",
   "metadata": {
    "deletable": false,
    "editable": false,
    "tags": []
   },
   "source": [
    "Run the two cells below to see how it performs.  Spoiler:  this takes a while..."
   ]
  },
  {
   "cell_type": "code",
   "execution_count": null,
   "metadata": {
    "deletable": false,
    "editable": false,
    "tags": []
   },
   "outputs": [],
   "source": [
    "! cs203 job run \"make fiddle.exe; make C_OPTS=\"-O3\" build/histogram.so\"\n",
    "! cs203 job run \"./fiddle.exe -lib ./build/histogram.so -M 3300 --detail -f run_threaded_histogram --size {hist_size} --threads 1 2 3 4 -o histogram_threaded.csv\""
   ]
  },
  {
   "cell_type": "code",
   "execution_count": null,
   "metadata": {
    "deletable": false,
    "editable": false,
    "tags": []
   },
   "outputs": [],
   "source": [
    "hist_data = render_csv([\"histogram_unthreaded.csv\", \"histogram_threaded.csv\"], columns=hist_columns)\n",
    "hist_data[\"speedup\"] = hist_data.iloc[0][\"ET\"]/hist_data[\"ET\"]\n",
    "hist_data[\"Total IC\"] = hist_data[\"IC\"]*hist_data[\"threads\"]\n",
    "hist_data[\"Total cache misses\"] = hist_data[\"L1_dcache_misses\"]*hist_data[\"threads\"]\n",
    "display(hist_data)\n",
    "plotPE(df=hist_data, lines=True, what=[(\"threads\", \"speedup\")])"
   ]
  },
  {
   "cell_type": "markdown",
   "metadata": {
    "deletable": false,
    "editable": false,
    "tags": []
   },
   "source": [
    "The 0 threads data point is the baseline serial version.\n",
    "\n",
    "We have certainly not improved things:  The 1-threaded threaded version is about 40x slower than the unthreaded version.  With 4 threads, it's about 200x slower.\n"
   ]
  },
  {
   "cell_type": "markdown",
   "metadata": {
    "deletable": false,
    "editable": false,
    "tags": []
   },
   "source": [
    "## Finer-Grain Locks\n",
    "\n",
    "One problem is that we only have one lock even though we have 256 different buckets.  This means that each thread has to lock _all_ the buckets for each increment.  That's a lot of overhead and a lot of contention.  Let's fix by making our locks more \"fine grained\":  Each of them will cover just one bucket.\n",
    "\n",
    "Here's the code:"
   ]
  },
  {
   "cell_type": "code",
   "execution_count": null,
   "metadata": {
    "deletable": false,
    "editable": false,
    "init_cell": true,
    "tags": []
   },
   "outputs": [],
   "source": [
    "render_code(\"histogram.cpp\", show=(\"//START_FINE\", \"//END_FINE\"))"
   ]
  },
  {
   "cell_type": "markdown",
   "metadata": {
    "deletable": false,
    "editable": false,
    "tags": []
   },
   "source": [
    "Run these two cells to see performance."
   ]
  },
  {
   "cell_type": "code",
   "execution_count": null,
   "metadata": {
    "deletable": false,
    "editable": false,
    "tags": []
   },
   "outputs": [],
   "source": [
    "! cs203 job run \"./fiddle.exe -lib ./build/histogram.so -M 3300 --detail -f run_fine_locks_histogram --size {hist_size} --threads 1 2 3 4 -o histogram_fine_locks.csv\""
   ]
  },
  {
   "cell_type": "code",
   "execution_count": null,
   "metadata": {
    "deletable": false,
    "editable": false,
    "tags": []
   },
   "outputs": [],
   "source": [
    "hist_data = render_csv([\"histogram_unthreaded.csv\", \"histogram_fine_locks.csv\"], columns=hist_columns)\n",
    "hist_data[\"speedup\"] = hist_data.iloc[0][\"ET\"]/hist_data[\"ET\"]\n",
    "hist_data[\"Total IC\"] = hist_data[\"IC\"]*hist_data[\"threads\"]\n",
    "hist_data[\"Total cache misses\"] = hist_data[\"L1_dcache_misses\"]*hist_data[\"threads\"]\n",
    "display(hist_data)\n",
    "plotPE(df=hist_data, lines=True, what=[(\"threads\", \"speedup\"), ])\n"
   ]
  },
  {
   "cell_type": "markdown",
   "metadata": {
    "deletable": false,
    "editable": false,
    "tags": []
   },
   "source": [
    "On the plus side, performance goes up after 2 threads, and 4 threads is slightly faster than 2 threads.   On the down side, 4 threads is still 33x slower than the unthreaded case."
   ]
  },
  {
   "cell_type": "markdown",
   "metadata": {
    "deletable": false,
    "editable": false,
    "tags": []
   },
   "source": [
    "## Private Histograms\n",
    "\n",
    "We still have a lot of sharing.  Let's get rid of it by giving each thread its own set of buckets.  We'll allocate an array of `thread_count * 256` buckets and compute the index based on the thread's number and the byte's value.  We can also get rid of locks because there's no more sharing."
   ]
  },
  {
   "cell_type": "code",
   "execution_count": null,
   "metadata": {
    "deletable": false,
    "editable": false,
    "tags": []
   },
   "outputs": [],
   "source": [
    "render_code(\"histogram.cpp\", show=(\"//START_PRIVATE\", \"//END_PRIVATE\"))"
   ]
  },
  {
   "cell_type": "markdown",
   "metadata": {
    "deletable": false,
    "editable": false,
    "tags": []
   },
   "source": [
    "Run these two:"
   ]
  },
  {
   "cell_type": "code",
   "execution_count": null,
   "metadata": {
    "deletable": false,
    "tags": []
   },
   "outputs": [],
   "source": [
    "! cs203 job run \"./fiddle.exe -lib ./build/histogram.so -M 3300 --detail -f run_private_histogram -s {hist_size} --threads 1 2 3 4 -o histogram_private_locks.csv\""
   ]
  },
  {
   "cell_type": "code",
   "execution_count": null,
   "metadata": {
    "deletable": false,
    "editable": false,
    "tags": []
   },
   "outputs": [],
   "source": [
    "hist_data = render_csv([\"histogram_unthreaded.csv\", \"histogram_private_locks.csv\"], columns=hist_columns)\n",
    "hist_data[\"speedup\"] = hist_data.iloc[0][\"ET\"]/hist_data[\"ET\"]\n",
    "hist_data[\"Total IC\"] = hist_data[\"IC\"]*hist_data[\"threads\"]\n",
    "hist_data[\"Total cache misses\"] = hist_data[\"L1_dcache_misses\"]*hist_data[\"threads\"]\n",
    "display(hist_data)\n",
    "plotPE(df=hist_data, lines=True, what=[(\"threads\", \"speedup\"), ])"
   ]
  },
  {
   "cell_type": "markdown",
   "metadata": {
    "deletable": false,
    "editable": false,
    "tags": []
   },
   "source": [
    "Things are better still.\n",
    "\n",
    "* 1 thread is only a little slower than the unthreaded version (because we have no locks).\n",
    "* 4 threads is 1.8x faster than 2 threads, which is pretty good since the best we could do is 2x.\n",
    "\n",
    "The drop at 2 threads is a problem, though because we never recover from it.\n",
    "\n",
    "## Private Histograms, Take 2"
   ]
  },
  {
   "cell_type": "markdown",
   "metadata": {
    "cs203.is_response": true,
    "cs203.points": 1,
    "cs203.question_type": "completeness",
    "tags": []
   },
   "source": [
    "<div class=\"alert alert-block alert-success\">\n",
    "\n",
    "<div class=\"question completeness\">\n",
    "\n",
    "### Question 9 (Completeness)    \n",
    "\n",
    "<div class=\"question-text\">\n",
    "\n",
    "What causes the drop in performance from 1 thread to 2?  How can we fix it?\n",
    "    \n",
    "</div>\n",
    "    \n",
    "<div class=\"answer\">\n",
    "\n",
    "    \n",
    "</div>\n",
    "        \n",
    "</div>\n",
    "</div>"
   ]
  },
  {
   "cell_type": "markdown",
   "metadata": {
    "editable": false,
    "solution2": "hidden"
   },
   "source": [
    "<div class=\"solution\">\n",
    "\n",
    "It's false sharing due to this calculation:  `b*thread_count + id`\n",
    "    \n",
    "Computing the bucket to use this way arranges the buckets like this:\n",
    "    \n",
    "| 0 | 1 | 2 |3 |\n",
    "|--|--|--|--|\n",
    "|thread 0; byte == 0| thread 1; byte == 0| thread 2; byte == 0|...|--|--|\n",
    "\n",
    "Which puts buckets for multiple threads into the same cache line.\n",
    "\n",
    "We'd rather have this\n",
    "    \n",
    "| 0 | 1 | 2 |3 |\n",
    "|--|--|--|--|\n",
    "|thread 0; byte == 1| thread 0; byte == 1| thread 0; byte == 2|...|--|--|\n",
    "\n",
    "Which we can achieve with `id*256 + thread_count`.\n",
    "    \n",
    "</div>"
   ]
  },
  {
   "cell_type": "code",
   "execution_count": null,
   "metadata": {
    "deletable": false,
    "editable": false,
    "tags": []
   },
   "outputs": [],
   "source": [
    "render_code(\"histogram.cpp\", show=(\"//START_PRIVATE2\", \"//END_PRIVATE2\"))"
   ]
  },
  {
   "cell_type": "markdown",
   "metadata": {
    "deletable": false,
    "editable": false,
    "tags": []
   },
   "source": [
    "Let's see how that does:"
   ]
  },
  {
   "cell_type": "code",
   "execution_count": null,
   "metadata": {
    "deletable": false,
    "editable": false,
    "tags": []
   },
   "outputs": [],
   "source": [
    "! cs203 job run \"./fiddle.exe -lib ./build/histogram.so -M 3300 --detail -f run_private2_histogram -s {hist_size} --threads 1 2 3 4 -o histogram_private2_locks.csv\""
   ]
  },
  {
   "cell_type": "code",
   "execution_count": null,
   "metadata": {
    "deletable": false,
    "editable": false,
    "tags": []
   },
   "outputs": [],
   "source": [
    "hist_data = render_csv([\"histogram_unthreaded.csv\", \"histogram_private2_locks.csv\"], columns=hist_columns+[\"Cycles\"])\n",
    "#hist_data[\"ET\"] = hist_data[\"ET\"]/hist_data[\"thread\"].apply(lambda x: 1 if x == 0 else x)\n",
    "hist_data[\"speedup\"] = hist_data.iloc[0][\"ET\"]/hist_data[\"ET\"]\n",
    "hist_data[\"Total IC\"] = hist_data[\"IC\"]*hist_data[\"threads\"]\n",
    "hist_data[\"Total cache misses\"] = hist_data[\"L1_dcache_misses\"]*hist_data[\"threads\"]\n",
    "display(hist_data)\n",
    "plotPE(df=hist_data, lines=True, what=[(\"threads\", \"speedup\"), ])\n"
   ]
  },
  {
   "cell_type": "markdown",
   "metadata": {
    "deletable": false,
    "editable": false,
    "tags": []
   },
   "source": [
    "Finally!  That's speedup! We've got almost 1.58x speedup with 4 threads!"
   ]
  },
  {
   "cell_type": "markdown",
   "metadata": {
    "deletable": false,
    "editable": false,
    "tags": []
   },
   "source": [
    "# Amdahl's Law and Imperfect Speedup"
   ]
  },
  {
   "cell_type": "markdown",
   "metadata": {
    "deletable": false,
    "editable": false,
    "tags": []
   },
   "source": [
    "In our histogram example, we finally got some speedup with threads.  Speeding up a program by $p$ with $p$ processors is called _linear speedup_ and it's always the goal of multi-threaded.  It's hard to achieve, however, because of Amdahl's Law.\n",
    "\n",
    "So far, in this class we've talked about Amdahl's Law as it applies optimizations:  The more widely applicable an optimization, the larger it's benefit.  Originally, however, Amdahl's Law was just about parallel computation.  In particular, if we have $p$ processors, Amdahl's Law bounds the maximum speedup, $S$, we can achieve:\n",
    "$$S \\leq \\frac{1}{x/p + (1-x)}$$\n",
    "\n",
    "Where $x$ is the fraction of the program that can parallelized across all $p$ processors.  For the histogram example, $x = 1$, so $S \\leq p$, and our implementation achieved this upper bound.\n",
    "\n",
    "Usually, however, $x < 1$, so $S < p$.\n",
    "\n",
    "To see this, let's parallelize merge sort.  The implementation below divides the array in half and recursively calls merge sort on each sub array.  To parallelize it, we will spawn a thread to sort each sub-array.  As the sub arrays get smaller and smaller, two things will happen:\n",
    "\n",
    "1.  We will spawn an enormous number of threads.\n",
    "2.  Each of them will do very little work.\n",
    "\n",
    "Neither of these is good, so we'll use `threshold` to control the minimum size for which we will spawn a thread.  If the sub-array is smaller than `threshold`, we'll just do all the work in the current thread.\n",
    "\n",
    "This means that if the array is of size `threshold` $ \\times 2^k$, we'll use a maximum of $2^k$ threads.\n",
    "\n",
    "You'll notice that there are no locks.  This is because there's not actually any sharing:  Only one thread is ever working on any one part of the array at a time.  (The attentive reader will recall that I said that sharing is necessary to coordinate threads.  Here, the sharing and coordination happen before the threads are created and after we `join()` them). "
   ]
  },
  {
   "cell_type": "code",
   "execution_count": null,
   "metadata": {
    "deletable": false,
    "editable": false,
    "tags": []
   },
   "outputs": [],
   "source": [
    "\n",
    "t = fiddle(\"merge_sort.cpp\", function=\"merge_sort\", opt=\"-Og\",\n",
    "code=r\"\"\"\n",
    "//  From https://codereview.stackexchange.com/questions/87085/simple-comparison-of-sorting-algorithms-in-c\n",
    "#include\"function_map.hpp\"\n",
    "#include<cstdint>\n",
    "#include<thread>\n",
    "#include<math.h>\n",
    "#include<mutex>\n",
    "#include\"threads.hpp\"\n",
    "#include\"pthread.h\"\n",
    "\n",
    "void merge(uint64_t *list, int64_t p, int64_t q, int64_t r)\n",
    "{\n",
    "//n1 and n2 are the lengths of the pre-sorted sublists, list[p..q] and list[q+1..r]\n",
    "\tint64_t n1=q-p+1;\n",
    "\tint64_t n2=r-q;\n",
    "//copy these pre-sorted lists to L and R\n",
    "\tuint64_t * L = new uint64_t[n1+1];\n",
    "\tuint64_t * R = new uint64_t[n2+1];\n",
    "\tfor(int64_t i=0;i<n1; i++)\n",
    "\t{\n",
    "\t\tL[i]=list[p+i];\n",
    "\t}\n",
    "\tfor(int64_t j=0;j<n2; j++)\n",
    "\t{\n",
    "\t\tR[j]=list[q+1+j];\n",
    "\t}\n",
    "\n",
    "\n",
    "//Create a sentinal value for L and R that is larger than the largest\n",
    "//element of list\n",
    "\tuint64_t largest;\n",
    "\tif(L[n1-1]<R[n2-1]) largest=R[n2-1]; else largest=L[n1-1];\n",
    "\tL[n1]=largest+1;\n",
    "\tR[n2]=largest+1;\n",
    "\n",
    "//Merge the L and R lists\n",
    "\tint64_t i=0;\n",
    "\tint64_t j=0;\n",
    "\tfor(int64_t k=p; k<=r; k++)\n",
    "\t{\n",
    "\t\tif (L[i]<=R[j])\n",
    "\t\t{\n",
    "\t\t\tlist[k]=L[i];\n",
    "\t\t\ti++;\n",
    "\t\t} else\n",
    "\t\t{\n",
    "\t\t\tlist[k]=R[j];\n",
    "\t\t\tj++;\n",
    "\t\t}\n",
    "\t}\n",
    "    delete L;\n",
    "    delete R;\n",
    "}\n",
    "\n",
    "void merge_sort_aux(uint64_t *list, int64_t p, int64_t r, int64_t threshold)\n",
    "{\n",
    "\tif(p<r)\n",
    "\t{\n",
    "        int64_t q=floor((p+r)/2);\n",
    "        if (r - p > threshold) {\n",
    "            std::thread left(merge_sort_aux, list,p,q, threshold);\n",
    "            std::thread right(merge_sort_aux, list,q+1,r, threshold);\n",
    "            left.join();\n",
    "            right.join();\n",
    "        } else {\n",
    "            merge_sort_aux(list,p,q, threshold);\n",
    "            merge_sort_aux(list,q+1,r, threshold);\n",
    "        }\n",
    "\t\tmerge(list,p,q,r);\n",
    "\t}\n",
    "\n",
    "}\n",
    "\n",
    "extern \"C\"\n",
    "uint64_t* merge_sort(uint64_t thread_count, uint64_t *list, uint64_t size, uint64_t arg1, uint64_t arg2, uint64_t arg3) {\n",
    "\tmerge_sort_aux(list, 0, size - 1, arg1);\n",
    "\treturn list;\n",
    "}\n",
    "FUNCTION(one_array_2arg, merge_sort);\n",
    "\n",
    "\"\"\")"
   ]
  },
  {
   "cell_type": "markdown",
   "metadata": {
    "cs203.is_response": true,
    "cs203.question_type": "optional",
    "tags": []
   },
   "source": [
    "<div class=\"alert alert-block alert-success\">\n",
    "\n",
    "<div class=\"question completeness\">\n",
    "\n",
    "### Question 10 (Completeness) \n",
    "\n",
    "<div class=\"question-text\">\n",
    "\n",
    "What is $x$ for parallel merge sort?  Can you bound speedup for 4 processors, a threshold of 1024, and a total array size of 4096?  If you can't get a precise answer try to estimate or provide an upper bound the value of $x$.\n",
    "    \n",
    "</div>\n",
    "    \n",
    "<div class=\"answer\">\n",
    "\n",
    "    \n",
    "</div>\n",
    "        \n",
    "</div>\n",
    "</div>"
   ]
  },
  {
   "cell_type": "markdown",
   "metadata": {
    "editable": false,
    "solution2": "hidden"
   },
   "source": [
    "<div class=\"solution\">\n",
    "\n",
    "It's pretty tricky to calculate $x$ precisely, but we can do it big-O style.  The key observation is that merge sort in $O(n \\lg n)$ and the final merge operation is completely serialized.  That final merge takes $O(n)$ comparisons and assignments, so it takes $$\\frac{n}{n\\log n}$$ of the the total execution time.\n",
    "  \n",
    "So $x$ is something like:\n",
    "\n",
    "$$ x = 1 - \\frac{n}{n\\lg n} =  1 - \\frac{1}{\\lg n}$$\n",
    "    \n",
    "This tells that as $n$ get's really big, merge sort slowly approach being perfectly parallelizable (i.e., $x = 1$).  It won't ever get there, though.\n",
    "\n",
    "Let's plug it into Amdahl's law:\n",
    "    \n",
    "\n",
    "$$S \\leq \\frac{1}{\\frac{1 - \\frac{1}{\\lg n}}{p} + (1-(1 - \\frac{1}{\\lg n}))}$$\n",
    "\n",
    "And we have, $p = 4$, $n = 4$, so:\n",
    "\n",
    "$$S \\leq \\frac{1}{\\frac{1 - \\frac{1}{\\lg 4096}}{4} + (1-(1 - \\frac{1}{\\lg 4096}))}$$\n",
    "$$S \\leq \\frac{1}{\\frac{0.92}{4} + (1-(0.92))}$$\n",
    "$$S \\leq 3.2$$\n",
    "\n",
    "\n",
    "</div>"
   ]
  },
  {
   "cell_type": "markdown",
   "metadata": {
    "deletable": false,
    "editable": false,
    "tags": []
   },
   "source": [
    "Given our implementation, we can't directly control the number of threads we are using, but by setting `threshold` to smaller values, we'll use more threads.  In particular, if we have `size == threshold * 2^k`, we will use a peak of `size/threshold` threads, that's what `approx threads` measures.\n",
    "\n",
    "Let's run it:"
   ]
  },
  {
   "cell_type": "code",
   "execution_count": null,
   "metadata": {
    "deletable": false,
    "editable": false,
    "tags": []
   },
   "outputs": [],
   "source": [
    "! cs203 job run \"make fiddle.exe; make C_OPTS=\"-O3\" build/merge_sort.so\"\n",
    "! cs203 job run \"./fiddle.exe -lib ./build/merge_sort.so -M 3300 --detail -f merge_sort -s {8*1024*1024} --arg1 {8*1024*1024} {4*1024*1024} {2*1024*1024} {1024*1024} -o merge_sort.csv \""
   ]
  },
  {
   "cell_type": "code",
   "execution_count": null,
   "metadata": {
    "deletable": false,
    "editable": false,
    "tags": []
   },
   "outputs": [],
   "source": [
    "df = render_csv(\"merge_sort.csv\")\n",
    "df[\"i\"] = df.index\n",
    "df[\"threshold\"] = df[\"arg1\"]\n",
    "df[\"approx threads\"] = df[\"size\"]/df['threshold']\n",
    "df[\"speedup\"] = df.iloc[0][\"ET\"]/df[\"ET\"]\n",
    "display_mono(df[[\"size\", \"threshold\", \"approx threads\", \"ET\", \"speedup\"]])\n",
    "plotPE(df=df, lines=True, what=[(\"approx threads\", \"speedup\")])"
   ]
  },
  {
   "cell_type": "markdown",
   "metadata": {
    "deletable": false,
    "editable": false,
    "tags": []
   },
   "source": [
    "Speedup looks ok, but it's not  \"linear speedup\".  From 1 thread to 2, we get 1.9x, but from 2 to 4, we only get 1.7x.  From 4 to 8, we get 1.25x (although, in fairness, we only have 4 cores).\n",
    "\n",
    "Unfortunately, this how it usually goes:  Linear speedup is very hard to achieve in practice, because it requires reducing communication and serialized computation to nearly zero.  We were able to do that with the histogram, but sorting (and most other things) are more complex.\n",
    "\n",
    "And it's not just that $x$ is less than 1.  There is also usually some overhead from locks (which was absent in our histogram) which further degrades performance."
   ]
  },
  {
   "cell_type": "markdown",
   "metadata": {
    "deletable": false,
    "editable": false,
    "tags": []
   },
   "source": [
    "# Hyperthreading\n",
    "\n",
    "Earlier in the assignment, we saw that our CPU _says_ it has 8 processors even though it really only has 4.  The 4 extra, logical processors are due to hyperthreading, a clever trick that allows two threads to run _at exactly the same time_ on the same processor.\n",
    "\n",
    "The catch is that the two threads running on the same core compete with each other for resources.  This works fine if the two threads need different resources, but if they need the same resources, performance will suffer.\n",
    "\n",
    "Let's see how it does for our two parallel programs.  Here's the histogram with threads turned up to 8:"
   ]
  },
  {
   "cell_type": "code",
   "execution_count": null,
   "metadata": {
    "deletable": false,
    "editable": false,
    "tags": []
   },
   "outputs": [],
   "source": [
    "! cs203 job run \"./fiddle.exe -lib ./build/histogram.so -M 3300 --detail -f run_private2_histogram --size 10000000 --threads 1 2 3 4 5 6 7 8 -o histogram_hyper.csv\""
   ]
  },
  {
   "cell_type": "code",
   "execution_count": null,
   "metadata": {
    "deletable": false,
    "editable": false,
    "tags": []
   },
   "outputs": [],
   "source": [
    "hist_data = render_csv([\"histogram_unthreaded.csv\", \"histogram_hyper.csv\"], columns=hist_columns+[\"Cycles\"])\n",
    "#hist_data[\"ET\"] = hist_data[\"ET\"]/hist_data[\"thread\"].apply(lambda x: 1 if x == 0 else x)\n",
    "hist_data[\"speedup\"] = hist_data.iloc[0][\"ET\"]/hist_data[\"ET\"]\n",
    "hist_data[\"Total IC\"] = hist_data[\"IC\"]*hist_data[\"threads\"]\n",
    "hist_data[\"Total cache misses\"] = hist_data[\"L1_dcache_misses\"]*hist_data[\"threads\"]\n",
    "display(hist_data[hist_columns])\n",
    "plotPE(df=hist_data, lines=True, what=[(\"threads\", \"speedup\")])\n"
   ]
  },
  {
   "cell_type": "markdown",
   "metadata": {
    "deletable": false,
    "editable": false,
    "tags": []
   },
   "source": [
    "For thread counts 5-8 some of the threads are sharing a core.  As you can see, there's a hit to performance when we go to 5 cores.  This because the execution time of the whole program is the execution time of the _slowest_ thread.  In this case, that is either thread 1 or thread 5, since they share a core.\n",
    "\n",
    "Adding more hyperthreads improves performance but not as much as adding more full processors.  For instance, doubling the number of logical processors from 4 to 8 does not give us speedup, while going from 2 to 4 gave us 2x.\n",
    "\n",
    "And here's merge sort:"
   ]
  },
  {
   "cell_type": "code",
   "execution_count": null,
   "metadata": {
    "deletable": false,
    "editable": false,
    "tags": []
   },
   "outputs": [],
   "source": [
    "! cs203 job run \"make fiddle.exe; make C_OPTS=\"-O3\" build/merge_sort.so\"\n",
    "! cs203 job run \"./fiddle.exe -lib ./build/merge_sort.so -M 3300 --detail -f merge_sort --size {8*1024*1024} --arg1 {8*1024*1024} {4*1024*1024} {2*1024*1024} {1024*1024} {512*1024} -o merge_sort.csv \""
   ]
  },
  {
   "cell_type": "code",
   "execution_count": null,
   "metadata": {
    "deletable": false,
    "editable": false,
    "tags": []
   },
   "outputs": [],
   "source": [
    "df = render_csv(\"merge_sort.csv\")\n",
    "df[\"i\"] = df.index\n",
    "df[\"threshold\"] = df[\"arg1\"]\n",
    "df[\"approx threads\"] = df[\"size\"]/df['threshold']\n",
    "df[\"speedup\"] = df.iloc[0][\"ET\"]/df[\"ET\"]\n",
    "display_mono(df[[\"size\", \"threshold\", \"approx threads\", \"ET\", \"speedup\"]])\n",
    "plotPE(df=df, lines=True, what=[(\"approx threads\", \"speedup\")])"
   ]
  },
  {
   "cell_type": "markdown",
   "metadata": {
    "deletable": false,
    "editable": false,
    "tags": []
   },
   "source": [
    "The story is pretty similar:  From 2 to 4 threads gives 1.7x, while going from 4 to 8 only gives us 1.24."
   ]
  },
  {
   "cell_type": "markdown",
   "metadata": {
    "deletable": false,
    "editable": false,
    "tags": []
   },
   "source": [
    "# OpenMP\n",
    "\n",
    "Using locks and  threads to parallelize code is notoriously tricky.  I chose the histogram and merge sort examples intentionally because they are pretty simple.  Fortunately, the compiler can help us a great deal for certain kinds of code.\n",
    "\n",
    "Compilers have had good success automatically parallelizing code for well-behaved loops.  \"Well-behaved\" means loops with loop bounds that don't change and that increment their index variables by fixed amounts.  Many programs fall into this category, including matrix multiplication and our histogram code.  Merge sort, by contrast, does not.\n",
    "\n",
    "OpenMP (Open Multi-Processing) is a widely-used and widely-supported set of extensions for C/C++ (and Fortran, if you're into that) that let the programmer guide the compiler to parallelize loops.\n",
    "\n",
    "The extensions take the form of `#pragma`s.  OpenMP has many of them, but we will use three:\n",
    "\n",
    "* `#pragma omp parallel for`\n",
    "* `#pragma omp critical`\n",
    "* `#pragma omp simd`\n",
    "\n",
    "`omp parallel for` tells the compiler to parallelize the following loop.\n",
    "\n",
    "`omp critical` tells the compiler that the next block of code should be treated as a critical section.\n",
    "\n",
    "`omp simd` tell the compiler to try to vectorize the loop.\n",
    "\n",
    "## Thread Parallelism in OpenMP\n",
    "\n",
    "Let's take a look at threads first.  Here's the multi-threaded OpenMP version of our histogram code."
   ]
  },
  {
   "cell_type": "code",
   "execution_count": null,
   "metadata": {
    "deletable": false,
    "editable": false,
    "tags": []
   },
   "outputs": [],
   "source": [
    "render_code(\"histogram.cpp\", show=(\"//START_OPENMP\", \"//START_OPENMP\"))"
   ]
  },
  {
   "cell_type": "code",
   "execution_count": null,
   "metadata": {
    "deletable": false,
    "editable": false,
    "tags": []
   },
   "outputs": [],
   "source": [
    "hist_size = 10000000\n",
    "! cs203 job run \"./fiddle.exe -lib ./build/histogram.so -M 3300 --detail -f run_openmp_histogram --size {hist_size} --threads 1 2 3 4 -o histogram_openmp.csv\""
   ]
  },
  {
   "cell_type": "code",
   "execution_count": null,
   "metadata": {
    "deletable": false,
    "editable": false,
    "tags": []
   },
   "outputs": [],
   "source": [
    "hist_data = render_csv([\"histogram_unthreaded.csv\", \"histogram_openmp.csv\"], columns=hist_columns+[\"Cycles\"])\n",
    "#hist_data[\"ET\"] = hist_data[\"ET\"]/hist_data[\"thread\"].apply(lambda x: 1 if x == 0 else x)\n",
    "hist_data[\"speedup\"] = hist_data.iloc[0][\"ET\"]/hist_data[\"ET\"]\n",
    "hist_data[\"Total IC\"] = hist_data[\"IC\"]*hist_data[\"threads\"]\n",
    "hist_data[\"Total cache misses\"] = hist_data[\"L1_dcache_misses\"]*hist_data[\"threads\"]\n",
    "display(hist_data)\n",
    "plotPE(df=hist_data, lines=True, what=[(\"threads\", \"speedup\"), ])"
   ]
  },
  {
   "cell_type": "markdown",
   "metadata": {
    "deletable": false,
    "editable": false,
    "tags": []
   },
   "source": [
    "That's awful!  But not unexpected.  One lock means no concurrency and a shared histogram array means lots of sharing.  We should have known better!\n",
    "\n",
    "Here's a better OpenMP version:"
   ]
  },
  {
   "cell_type": "code",
   "execution_count": null,
   "metadata": {
    "deletable": false,
    "editable": false,
    "tags": []
   },
   "outputs": [],
   "source": [
    "render_code(\"histogram.cpp\", show=(\"//START_OPENMP_PRIVATE\", \"//START_OPENMP_PRIVATE\"))"
   ]
  },
  {
   "cell_type": "markdown",
   "metadata": {
    "deletable": false,
    "editable": false,
    "tags": []
   },
   "source": [
    "Note that  we did the blocking ourselves this time.  OpenMP breaks the execution of the outer loop into tiles, but the local set of histogram counters, `my_histogram`, is local _to the loop iteration_ it is in.  If we didn't tile the outer loop ourselves, the lock in the `omp critical` would get taken/released on _every iteration_.  By tiling the loop ourselves, we collect a bunch of updates in `my_histogram` and then apply them all at once.   In this case, the tiling doesn't provide a locality benefit (because `data` is never reused), but it does reduce locking overhead!  \n",
    "\n",
    "In particular, by setting `arg1` to 1000, we should reduce locking overhead by about 1000 times.\n",
    "\n",
    "Let's see how this version does:"
   ]
  },
  {
   "cell_type": "code",
   "execution_count": null,
   "metadata": {
    "deletable": false,
    "editable": false,
    "tags": []
   },
   "outputs": [],
   "source": [
    "! cs203 job run \"rm -f build/histogram.so; make fiddle.exe; make C_OPTS='-O3 -fopenmp-simd' build/histogram.so\"\n",
    "! cs203 job run \"./fiddle.exe -lib ./build/histogram.so -M 3300 --detail -f run_openmp_private_histogram --size {hist_size} --threads 1 2 3 4 --arg1 1000 -o histogram_openmp_private.csv\""
   ]
  },
  {
   "cell_type": "code",
   "execution_count": null,
   "metadata": {
    "deletable": false,
    "editable": false,
    "tags": []
   },
   "outputs": [],
   "source": [
    "hist_data = render_csv([\"histogram_unthreaded.csv\", \"histogram_openmp_private.csv\"], columns=hist_columns+[\"Cycles\"])\n",
    "#hist_data[\"ET\"] = hist_data[\"ET\"]/hist_data[\"thread\"].apply(lambda x: 1 if x == 0 else x)\n",
    "hist_data[\"speedup\"] = hist_data.iloc[0][\"ET\"]/hist_data[\"ET\"]\n",
    "hist_data[\"Total IC\"] = hist_data[\"IC\"]*hist_data[\"threads\"]\n",
    "hist_data[\"Total cache misses\"] = hist_data[\"L1_dcache_misses\"]*hist_data[\"threads\"]\n",
    "display(hist_data[hist_columns])\n",
    "plotPE(df=hist_data, lines=True, what=[(\"threads\", \"speedup\"), ])\n"
   ]
  },
  {
   "cell_type": "markdown",
   "metadata": {
    "deletable": false,
    "editable": false,
    "tags": []
   },
   "source": [
    "Pretty good:  almost 4x speedup with 4 threads (there's some variation from run to run.).  And the code is much simpler with OpenMP!  Sounds good to me.  \n",
    "\n",
    "Especially, if I had to do PA."
   ]
  },
  {
   "cell_type": "markdown",
   "metadata": {
    "deletable": false,
    "editable": false,
    "tags": []
   },
   "source": [
    "## SIMD Parallelism in OpenMP\n",
    "\n",
    "OpenMP also support SIMD parallelism, which uses vector instructions to improve performance.  We discussed SIMD during the 142L lecture last week.  Review the podcast, if you missed it.\n",
    "\n",
    "Applying SIMD with OpenMP is pretty easy:  You just put `#pragma omp simd` before the loop body.  The loop needs to very regular (e.g., constant stride and no branches), and there's no guarantee that the compiler will be able to vectorize it.  Indeed, `omp simd` doesn't speedup our histogram code, so we'll look at a simpler example.\n",
    "\n",
    "Here's an example of using SIMD parallelism for dot product."
   ]
  },
  {
   "cell_type": "code",
   "execution_count": null,
   "metadata": {
    "deletable": false,
    "editable": false,
    "tags": []
   },
   "outputs": [],
   "source": [
    "\n",
    "t = fiddle(\"dp.cpp\", function=\"dp\", analyze=False, opt=\"-O3\",\n",
    "code=r\"\"\"\n",
    "#include\"function_map.hpp\"\n",
    "#include<cstdint>\n",
    "\n",
    "extern \"C\"\n",
    "uint64_t vsum(uint64_t *a, uint64_t* b, uint64_t * c, uint64_t len)\n",
    "{\n",
    "    uint64_t s = 0;\n",
    "    for(unsigned int i = 0; i < len; i++) {\n",
    "        c[i]=a[i]+b[i];\n",
    "    }\n",
    "    return s;\n",
    "}\n",
    "\n",
    "extern \"C\"\n",
    "uint64_t vsum_simd(uint64_t *a, uint64_t* b, uint64_t * c, uint64_t len)\n",
    "{\n",
    "    uint64_t s = 0;\n",
    "#pragma omp simd\n",
    "    for(unsigned int i = 0; i < len; i++) {\n",
    "        c[i]=a[i]+b[i];\n",
    "    }\n",
    "    return s;\n",
    "}\n",
    "\n",
    "\n",
    "extern \"C\"\n",
    "uint64_t* dp(uint64_t threads, uint64_t * list, uint64_t size, uint64_t arg1, uint64_t arg2, uint64_t arg3) {\n",
    "    if(arg1 == 0) {\n",
    "        list[0] = vsum(list, &list[size/3], &list[size*2/3], size/3);\n",
    "    } else if(arg1 == 1){\n",
    "        list[0] = vsum_simd(list, &list[size/3], &list[size*2/3], size/3);\n",
    "    }\n",
    "\treturn list;\n",
    "}\n",
    "FUNCTION(one_array_2arg, dp);\n",
    "\n",
    "\n",
    "\"\"\")\n",
    "\n",
    "! cs203 job run \"rm -f build/dp.so; make fiddle.exe; make MICROBENCH_OPTIMIZE='-O3 -fopenmp-simd -fopenmp' build/dp.so\"\n",
    "! cs203 job run \"./fiddle.exe -lib ./build/dp.so -M 3300 --detail -f dp --size 10000000 --threads 1 --arg1 0 1 -o dp.csv\""
   ]
  },
  {
   "cell_type": "code",
   "execution_count": null,
   "metadata": {
    "deletable": false,
    "editable": false,
    "tags": []
   },
   "outputs": [],
   "source": [
    "df = render_csv(\"dp.csv\")\n",
    "df[\"opt\"] = df[\"arg1\"].apply(lambda x: [\"no SIMD\", \"SIMD\"][x])\n",
    "\n",
    "display_mono(df[[\"opt\", \"IC\", \"CPI\", \"CT\", \"ET\"]])"
   ]
  },
  {
   "cell_type": "markdown",
   "metadata": {
    "deletable": false,
    "editable": false,
    "tags": []
   },
   "source": [
    "1.06x speedup for one line of code is pretty good!\n",
    "\n",
    "Note IC dropped significantly!\n",
    "\n",
    "Here's the assembly:"
   ]
  },
  {
   "cell_type": "code",
   "execution_count": null,
   "metadata": {
    "deletable": false,
    "editable": false,
    "tags": []
   },
   "outputs": [],
   "source": [
    "! g++ -fopenmp -fopenmp-simd -S -O3 build/dp.cpp\n",
    "\n",
    "compare([do_render_code(\"dp.s\", show=[\"vsum\",\"LFE2984\"]),do_render_code(\"dp.s\", show=[\"vsum_simd\",\"LFE2985\"])])"
   ]
  },
  {
   "cell_type": "markdown",
   "metadata": {
    "deletable": false,
    "editable": false,
    "tags": []
   },
   "source": [
    "Now it's using `xmm` registers, with are 256 bits.\n",
    "\n",
    "All-in-all, SIMD is a mixed bag on our machine but it doesn't seem to hurt much and can improve performance a bit."
   ]
  },
  {
   "cell_type": "markdown",
   "metadata": {
    "solution2": "hidden",
    "tags": []
   },
   "source": [
    "<div class=\"solution\"> \n",
    "\n",
    "All the `addq` instructions in the body read and write `rbx`, so each is dependent on the one prior to it, and there is a cross-loop dependence on `rbx` as well.\n",
    "    \n",
    "Further, the `cmpq` is dependent on the last `addq` as well, and the `jnb` is dependent on the `cmpq`. However, they don't add to the critical path for two reasons:\n",
    "    \n",
    "1. Nothing is dependent on the `jnb`\n",
    "2. The `jnb` is a very predictable branch, so it and the `cmpq` will not affect execution very much.  Likewise, we can ignore the `jmp` as well.\n",
    "    \n",
    "So, the critical for $n$ iteration is $6n$.\n",
    "\n",
    "The nominal latency for an `addq` is 1 cycle, so the latency of $n$ iterations is about $6n$ cycles.    There are 9 instructions per iteration, so `CPI` should be 6/9 = 0.67.\n",
    "\n",
    "</div>"
   ]
  },
  {
   "cell_type": "markdown",
   "metadata": {
    "deletable": false,
    "editable": false,
    "tags": []
   },
   "source": [
    "# Programming Assignment"
   ]
  },
  {
   "cell_type": "markdown",
   "metadata": {
    "deletable": false,
    "tags": []
   },
   "source": [
    "Your programming assignment in this assignment is an extension of your work on the assignment 5.  This time, you'll be parallelizing your implementation of matrix exponentiation.  You can use C++ threads, pthreads, or OpenMP.  The assignment assume you'll use OpenMP.  If you use one of the others, the course staff will be less able to help you out.\n",
    "\n",
    "You are free to use your (and only your) solution to the previous assignment as a starting point for this assignment.\n",
    "\n",
    "Most of this section is a verbatim copy of the PA for assignment 3.  The sections with new content have \"(New for Assignment 5)\" at the end of their names.\n",
    "\n",
    "Obviously, the performance targets have been increased.  Roughly speaking, the targets have increased by about 5x, to 40x!!!  There are six cores on our machine, and from what we have learned, it's reasonable to expect that speedup!"
   ]
  },
  {
   "cell_type": "markdown",
   "metadata": {
    "cs203.is_response": true,
    "cs203.points": 3,
    "cs203.question_type": "completeness",
    "deletable": false,
    "tags": []
   },
   "source": [
    "<div class=\"alert alert-block alert-success\">\n",
    "<div class=\"question correctness points-3\">\n",
    "\n",
    "### Question 11 (Correctness)     \n",
    "\n",
    "    \n",
    "<div class=\"question-text\">\n",
    "\n",
    "If you must achieve a total speedup of 4x using 4 processors, what fraction of the program must you parallelize (assuming perfect 8-thread parallelism on those parts)? \n",
    "\n",
    "</div>\n",
    "</div>\n",
    "</div>    "
   ]
  },
  {
   "cell_type": "markdown",
   "metadata": {
    "cs203.is_response": true,
    "cs203.points": 3,
    "cs203.question_type": "completeness",
    "deletable": false,
    "editable": true,
    "tags": []
   },
   "source": [
    "<div class=\"alert alert-block alert-success\">  \n",
    "<div class= \"answer\">\n",
    "Answer:\n",
    "\n",
    "\n",
    "    \n",
    "</div>\n",
    "</div>"
   ]
  },
  {
   "cell_type": "markdown",
   "metadata": {
    "deletable": false,
    "tags": []
   },
   "source": [
    "## Performance Variability (New for Assignment 5)\n",
    "\n",
    "<div class=\"alert alert-block alert-danger\">\n",
    "\n",
    "**Multithreaded Performance is Variable**:  Multithreading introduces variability in performance.  You will only get credit for performance numbers recorded on gradescope, you may need to run your gradescope job more than once to get meaningful measurements.\n",
    "    \n",
    "</div>\n",
    "\n",
    "Running code on multiple processors introduce performance variability -- some times up to 20% or more.  In the real world, you'd either tolerate this or spend a lot of time trying to fix it.  Neither of those works well in a assignment, because we have limited time and you need a grade that reflects the quality of your work rather than whether a run was lucky or unlucky.\n",
    "\n",
    "To address this problem, the assignment includes does two things:\n",
    "1.  It runs your code 10 times and takes the average.  This is implemented in the `Makefile`.\n",
    "2.  It includes a \"canary\" program with known performance.  \n",
    "\n",
    "The canary runs before your code and if the performance of the canary is too low, the autograder will reject the run.  This means that it is much more likely that your gradescope submissions will fail and you may need to submit several times to get a good measurement. \n",
    "\n",
    "With the canary filtering out slow runs, performance variation is less this 5%.  So there is some marginal value in submitting multiple times in the hopes of getting a slightly good score.\n",
    "\n",
    "<div class=\"alert alert-block alert-danger\">\n",
    "\n",
    "**Budget time for multiple submissions**:  Having to resubmit to gradscope due to canary failure is totally predictable, and you have been warned.  Plan to submit (and resubmit as necessary) well-ahead of the deadline. \n",
    "    \n",
    "</div>\n",
    "\n",
    "\n",
    "## Reference Code (New for Assignment 5)\n",
    "\n",
    "The reference implementation is in `conv2d_reference.hpp`.  It's basically the same as for Assignment 2, but it demonstrates `wall_time()` (see below) and it makes the tensor copy explicit:"
   ]
  },
  {
   "cell_type": "code",
   "execution_count": 17,
   "metadata": {
    "deletable": false,
    "editable": false,
    "tags": []
   },
   "outputs": [
    {
     "data": {
      "text/html": [
       "<style>pre { line-height: 125%; }\n",
       "td.linenos .normal { color: inherit; background-color: transparent; padding-left: 5px; padding-right: 5px; }\n",
       "span.linenos { color: inherit; background-color: transparent; padding-left: 5px; padding-right: 5px; }\n",
       "td.linenos .special { color: #000000; background-color: #ffffc0; padding-left: 5px; padding-right: 5px; }\n",
       "span.linenos.special { color: #000000; background-color: #ffffc0; padding-left: 5px; padding-right: 5px; }\n",
       ".output_html .hll { background-color: #ffffcc }\n",
       ".output_html { background: #f8f8f8; }\n",
       ".output_html .c { color: #3D7B7B; font-style: italic } /* Comment */\n",
       ".output_html .err { border: 1px solid #FF0000 } /* Error */\n",
       ".output_html .k { color: #008000; font-weight: bold } /* Keyword */\n",
       ".output_html .o { color: #666666 } /* Operator */\n",
       ".output_html .ch { color: #3D7B7B; font-style: italic } /* Comment.Hashbang */\n",
       ".output_html .cm { color: #3D7B7B; font-style: italic } /* Comment.Multiline */\n",
       ".output_html .cp { color: #9C6500 } /* Comment.Preproc */\n",
       ".output_html .cpf { color: #3D7B7B; font-style: italic } /* Comment.PreprocFile */\n",
       ".output_html .c1 { color: #3D7B7B; font-style: italic } /* Comment.Single */\n",
       ".output_html .cs { color: #3D7B7B; font-style: italic } /* Comment.Special */\n",
       ".output_html .gd { color: #A00000 } /* Generic.Deleted */\n",
       ".output_html .ge { font-style: italic } /* Generic.Emph */\n",
       ".output_html .gr { color: #E40000 } /* Generic.Error */\n",
       ".output_html .gh { color: #000080; font-weight: bold } /* Generic.Heading */\n",
       ".output_html .gi { color: #008400 } /* Generic.Inserted */\n",
       ".output_html .go { color: #717171 } /* Generic.Output */\n",
       ".output_html .gp { color: #000080; font-weight: bold } /* Generic.Prompt */\n",
       ".output_html .gs { font-weight: bold } /* Generic.Strong */\n",
       ".output_html .gu { color: #800080; font-weight: bold } /* Generic.Subheading */\n",
       ".output_html .gt { color: #0044DD } /* Generic.Traceback */\n",
       ".output_html .kc { color: #008000; font-weight: bold } /* Keyword.Constant */\n",
       ".output_html .kd { color: #008000; font-weight: bold } /* Keyword.Declaration */\n",
       ".output_html .kn { color: #008000; font-weight: bold } /* Keyword.Namespace */\n",
       ".output_html .kp { color: #008000 } /* Keyword.Pseudo */\n",
       ".output_html .kr { color: #008000; font-weight: bold } /* Keyword.Reserved */\n",
       ".output_html .kt { color: #B00040 } /* Keyword.Type */\n",
       ".output_html .m { color: #666666 } /* Literal.Number */\n",
       ".output_html .s { color: #BA2121 } /* Literal.String */\n",
       ".output_html .na { color: #687822 } /* Name.Attribute */\n",
       ".output_html .nb { color: #008000 } /* Name.Builtin */\n",
       ".output_html .nc { color: #0000FF; font-weight: bold } /* Name.Class */\n",
       ".output_html .no { color: #880000 } /* Name.Constant */\n",
       ".output_html .nd { color: #AA22FF } /* Name.Decorator */\n",
       ".output_html .ni { color: #717171; font-weight: bold } /* Name.Entity */\n",
       ".output_html .ne { color: #CB3F38; font-weight: bold } /* Name.Exception */\n",
       ".output_html .nf { color: #0000FF } /* Name.Function */\n",
       ".output_html .nl { color: #767600 } /* Name.Label */\n",
       ".output_html .nn { color: #0000FF; font-weight: bold } /* Name.Namespace */\n",
       ".output_html .nt { color: #008000; font-weight: bold } /* Name.Tag */\n",
       ".output_html .nv { color: #19177C } /* Name.Variable */\n",
       ".output_html .ow { color: #AA22FF; font-weight: bold } /* Operator.Word */\n",
       ".output_html .w { color: #bbbbbb } /* Text.Whitespace */\n",
       ".output_html .mb { color: #666666 } /* Literal.Number.Bin */\n",
       ".output_html .mf { color: #666666 } /* Literal.Number.Float */\n",
       ".output_html .mh { color: #666666 } /* Literal.Number.Hex */\n",
       ".output_html .mi { color: #666666 } /* Literal.Number.Integer */\n",
       ".output_html .mo { color: #666666 } /* Literal.Number.Oct */\n",
       ".output_html .sa { color: #BA2121 } /* Literal.String.Affix */\n",
       ".output_html .sb { color: #BA2121 } /* Literal.String.Backtick */\n",
       ".output_html .sc { color: #BA2121 } /* Literal.String.Char */\n",
       ".output_html .dl { color: #BA2121 } /* Literal.String.Delimiter */\n",
       ".output_html .sd { color: #BA2121; font-style: italic } /* Literal.String.Doc */\n",
       ".output_html .s2 { color: #BA2121 } /* Literal.String.Double */\n",
       ".output_html .se { color: #AA5D1F; font-weight: bold } /* Literal.String.Escape */\n",
       ".output_html .sh { color: #BA2121 } /* Literal.String.Heredoc */\n",
       ".output_html .si { color: #A45A77; font-weight: bold } /* Literal.String.Interpol */\n",
       ".output_html .sx { color: #008000 } /* Literal.String.Other */\n",
       ".output_html .sr { color: #A45A77 } /* Literal.String.Regex */\n",
       ".output_html .s1 { color: #BA2121 } /* Literal.String.Single */\n",
       ".output_html .ss { color: #19177C } /* Literal.String.Symbol */\n",
       ".output_html .bp { color: #008000 } /* Name.Builtin.Pseudo */\n",
       ".output_html .fm { color: #0000FF } /* Name.Function.Magic */\n",
       ".output_html .vc { color: #19177C } /* Name.Variable.Class */\n",
       ".output_html .vg { color: #19177C } /* Name.Variable.Global */\n",
       ".output_html .vi { color: #19177C } /* Name.Variable.Instance */\n",
       ".output_html .vm { color: #19177C } /* Name.Variable.Magic */\n",
       ".output_html .il { color: #666666 } /* Literal.Number.Integer.Long */</style><div class=\"highlight\"><pre><span></span><span class=\"c1\">// conv2d_reference.hpp:1-30 (30 lines)</span>\n",
       "<span class=\"cp\">#ifndef conv2d_REFERENCE_INCLUDED</span>\n",
       "<span class=\"cp\">#define conv2d_REFERENCE_INCLUDED</span>\n",
       "<span class=\"cp\">#include</span><span class=\"w\"> </span><span class=\"cpf\">&lt;cstdlib&gt;</span>\n",
       "<span class=\"cp\">#include</span><span class=\"w\"> </span><span class=\"cpf\">&quot;archassignment.h&quot;</span>\n",
       "<span class=\"cp\">#include</span><span class=\"w\"> </span><span class=\"cpf\">&lt;unistd.h&gt;</span>\n",
       "<span class=\"cp\">#include</span><span class=\"cpf\">&lt;cstdint&gt;</span>\n",
       "<span class=\"cp\">#include</span><span class=\"cpf\">&quot;function_map.hpp&quot;</span>\n",
       "\n",
       "\n",
       "<span class=\"c1\">//template&lt;typename T&gt;</span>\n",
       "<span class=\"kt\">void</span><span class=\"w\"> </span><span class=\"nf\">__attribute__</span><span class=\"p\">((</span><span class=\"n\">noinline</span><span class=\"p\">))</span><span class=\"w\"> </span><span class=\"n\">conv2d_reference</span><span class=\"p\">(</span><span class=\"kt\">int64_t</span><span class=\"w\"> </span><span class=\"o\">**</span><span class=\"n\">M</span><span class=\"p\">,</span><span class=\"w\"> </span><span class=\"kt\">int64_t</span><span class=\"w\"> </span><span class=\"o\">**</span><span class=\"n\">K</span><span class=\"p\">,</span><span class=\"w\"> </span><span class=\"kt\">uint32_t</span><span class=\"w\"> </span><span class=\"n\">m_size</span><span class=\"p\">,</span><span class=\"w\"> </span><span class=\"kt\">uint32_t</span><span class=\"w\"> </span><span class=\"n\">k_size</span><span class=\"p\">,</span><span class=\"w\"> </span><span class=\"kt\">int64_t</span><span class=\"w\"> </span><span class=\"o\">**</span><span class=\"n\">R</span><span class=\"p\">)</span><span class=\"w\"> </span><span class=\"p\">{</span>\n",
       "<span class=\"w\">\t\t      </span><span class=\"c1\">// parameters you can use for whatever purpose you want (e.g., tile sizes)</span>\n",
       "\n",
       "<span class=\"w\">\t</span><span class=\"k\">for</span><span class=\"p\">(</span><span class=\"kt\">int32_t</span><span class=\"w\"> </span><span class=\"n\">i</span><span class=\"w\"> </span><span class=\"o\">=</span><span class=\"w\"> </span><span class=\"mi\">0</span><span class=\"p\">;</span><span class=\"w\"> </span><span class=\"n\">i</span><span class=\"w\"> </span><span class=\"o\">&lt;</span><span class=\"w\"> </span><span class=\"n\">m_size</span><span class=\"o\">-</span><span class=\"n\">k_size</span><span class=\"p\">;</span><span class=\"w\"> </span><span class=\"n\">i</span><span class=\"o\">++</span><span class=\"p\">)</span><span class=\"w\"> </span><span class=\"p\">{</span>\n",
       "<span class=\"w\">\t\t</span><span class=\"k\">for</span><span class=\"p\">(</span><span class=\"kt\">int32_t</span><span class=\"w\"> </span><span class=\"n\">j</span><span class=\"w\"> </span><span class=\"o\">=</span><span class=\"w\"> </span><span class=\"mi\">0</span><span class=\"p\">;</span><span class=\"w\"> </span><span class=\"n\">j</span><span class=\"w\"> </span><span class=\"o\">&lt;</span><span class=\"w\"> </span><span class=\"n\">m_size</span><span class=\"o\">-</span><span class=\"n\">k_size</span><span class=\"p\">;</span><span class=\"w\"> </span><span class=\"n\">j</span><span class=\"o\">++</span><span class=\"p\">)</span><span class=\"w\"> </span><span class=\"p\">{</span>\n",
       "<span class=\"w\">            </span><span class=\"kt\">int64_t</span><span class=\"w\"> </span><span class=\"n\">sum</span><span class=\"o\">=</span><span class=\"mi\">0</span><span class=\"p\">;</span>\n",
       "<span class=\"w\">            </span><span class=\"k\">for</span><span class=\"p\">(</span><span class=\"kt\">int32_t</span><span class=\"w\"> </span><span class=\"n\">x</span><span class=\"w\"> </span><span class=\"o\">=</span><span class=\"w\"> </span><span class=\"mi\">0</span><span class=\"p\">;</span><span class=\"w\"> </span><span class=\"n\">x</span><span class=\"w\"> </span><span class=\"o\">&lt;</span><span class=\"w\"> </span><span class=\"n\">k_size</span><span class=\"p\">;</span><span class=\"w\"> </span><span class=\"n\">x</span><span class=\"o\">++</span><span class=\"p\">)</span><span class=\"w\"> </span><span class=\"p\">{</span>\n",
       "<span class=\"w\">                </span><span class=\"k\">for</span><span class=\"p\">(</span><span class=\"kt\">int32_t</span><span class=\"w\"> </span><span class=\"n\">y</span><span class=\"w\"> </span><span class=\"o\">=</span><span class=\"w\"> </span><span class=\"mi\">0</span><span class=\"p\">;</span><span class=\"w\"> </span><span class=\"n\">y</span><span class=\"w\"> </span><span class=\"o\">&lt;</span><span class=\"w\"> </span><span class=\"n\">k_size</span><span class=\"p\">;</span><span class=\"w\"> </span><span class=\"n\">y</span><span class=\"o\">++</span><span class=\"p\">)</span><span class=\"w\"> </span><span class=\"p\">{</span>\n",
       "<span class=\"w\">                    </span><span class=\"n\">sum</span><span class=\"w\"> </span><span class=\"o\">+=</span><span class=\"w\"> </span><span class=\"n\">M</span><span class=\"p\">[</span><span class=\"n\">i</span><span class=\"o\">+</span><span class=\"n\">x</span><span class=\"p\">][</span><span class=\"n\">j</span><span class=\"o\">+</span><span class=\"n\">y</span><span class=\"p\">]</span><span class=\"w\"> </span><span class=\"o\">*</span><span class=\"w\"> </span><span class=\"n\">K</span><span class=\"p\">[</span><span class=\"n\">x</span><span class=\"p\">][</span><span class=\"n\">y</span><span class=\"p\">];</span>\n",
       "<span class=\"w\">                </span><span class=\"p\">}</span>\n",
       "<span class=\"w\">            </span><span class=\"p\">}</span>\n",
       "<span class=\"w\">            </span><span class=\"n\">R</span><span class=\"p\">[</span><span class=\"n\">i</span><span class=\"p\">][</span><span class=\"n\">j</span><span class=\"p\">]</span><span class=\"w\"> </span><span class=\"o\">=</span><span class=\"w\"> </span><span class=\"n\">sum</span><span class=\"p\">;</span>\n",
       "<span class=\"w\">        </span><span class=\"p\">}</span>\n",
       "<span class=\"w\">\t</span><span class=\"p\">}</span>\n",
       "<span class=\"w\">    </span><span class=\"k\">return</span><span class=\"p\">;</span>\n",
       "\n",
       "<span class=\"p\">}</span>\n",
       "\n",
       "<span class=\"cp\">#endif</span>\n",
       "</pre></div>\n"
      ],
      "text/latex": [
       "\\begin{Verbatim}[commandchars=\\\\\\{\\}]\n",
       "\\PY{c+c1}{// conv2d\\PYZus{}reference.hpp:1\\PYZhy{}30 (30 lines)}\n",
       "\\PY{c+cp}{\\PYZsh{}}\\PY{c+cp}{ifndef conv2d\\PYZus{}REFERENCE\\PYZus{}INCLUDED}\n",
       "\\PY{c+cp}{\\PYZsh{}}\\PY{c+cp}{define conv2d\\PYZus{}REFERENCE\\PYZus{}INCLUDED}\n",
       "\\PY{c+cp}{\\PYZsh{}}\\PY{c+cp}{include}\\PY{+w}{ }\\PY{c+cpf}{\\PYZlt{}cstdlib\\PYZgt{}}\n",
       "\\PY{c+cp}{\\PYZsh{}}\\PY{c+cp}{include}\\PY{+w}{ }\\PY{c+cpf}{\\PYZdq{}archassignment.h\\PYZdq{}}\n",
       "\\PY{c+cp}{\\PYZsh{}}\\PY{c+cp}{include}\\PY{+w}{ }\\PY{c+cpf}{\\PYZlt{}unistd.h\\PYZgt{}}\n",
       "\\PY{c+cp}{\\PYZsh{}}\\PY{c+cp}{include}\\PY{c+cpf}{\\PYZlt{}cstdint\\PYZgt{}}\n",
       "\\PY{c+cp}{\\PYZsh{}}\\PY{c+cp}{include}\\PY{c+cpf}{\\PYZdq{}function\\PYZus{}map.hpp\\PYZdq{}}\n",
       "\n",
       "\n",
       "\\PY{c+c1}{//template\\PYZlt{}typename T\\PYZgt{}}\n",
       "\\PY{k+kt}{void}\\PY{+w}{ }\\PY{n+nf}{\\PYZus{}\\PYZus{}attribute\\PYZus{}\\PYZus{}}\\PY{p}{(}\\PY{p}{(}\\PY{n}{noinline}\\PY{p}{)}\\PY{p}{)}\\PY{+w}{ }\\PY{n}{conv2d\\PYZus{}reference}\\PY{p}{(}\\PY{k+kt}{int64\\PYZus{}t}\\PY{+w}{ }\\PY{o}{*}\\PY{o}{*}\\PY{n}{M}\\PY{p}{,}\\PY{+w}{ }\\PY{k+kt}{int64\\PYZus{}t}\\PY{+w}{ }\\PY{o}{*}\\PY{o}{*}\\PY{n}{K}\\PY{p}{,}\\PY{+w}{ }\\PY{k+kt}{uint32\\PYZus{}t}\\PY{+w}{ }\\PY{n}{m\\PYZus{}size}\\PY{p}{,}\\PY{+w}{ }\\PY{k+kt}{uint32\\PYZus{}t}\\PY{+w}{ }\\PY{n}{k\\PYZus{}size}\\PY{p}{,}\\PY{+w}{ }\\PY{k+kt}{int64\\PYZus{}t}\\PY{+w}{ }\\PY{o}{*}\\PY{o}{*}\\PY{n}{R}\\PY{p}{)}\\PY{+w}{ }\\PY{p}{\\PYZob{}}\n",
       "\\PY{+w}{\t\t      }\\PY{c+c1}{// parameters you can use for whatever purpose you want (e.g., tile sizes)}\n",
       "\n",
       "\\PY{+w}{\t}\\PY{k}{for}\\PY{p}{(}\\PY{k+kt}{int32\\PYZus{}t}\\PY{+w}{ }\\PY{n}{i}\\PY{+w}{ }\\PY{o}{=}\\PY{+w}{ }\\PY{l+m+mi}{0}\\PY{p}{;}\\PY{+w}{ }\\PY{n}{i}\\PY{+w}{ }\\PY{o}{\\PYZlt{}}\\PY{+w}{ }\\PY{n}{m\\PYZus{}size}\\PY{o}{\\PYZhy{}}\\PY{n}{k\\PYZus{}size}\\PY{p}{;}\\PY{+w}{ }\\PY{n}{i}\\PY{o}{+}\\PY{o}{+}\\PY{p}{)}\\PY{+w}{ }\\PY{p}{\\PYZob{}}\n",
       "\\PY{+w}{\t\t}\\PY{k}{for}\\PY{p}{(}\\PY{k+kt}{int32\\PYZus{}t}\\PY{+w}{ }\\PY{n}{j}\\PY{+w}{ }\\PY{o}{=}\\PY{+w}{ }\\PY{l+m+mi}{0}\\PY{p}{;}\\PY{+w}{ }\\PY{n}{j}\\PY{+w}{ }\\PY{o}{\\PYZlt{}}\\PY{+w}{ }\\PY{n}{m\\PYZus{}size}\\PY{o}{\\PYZhy{}}\\PY{n}{k\\PYZus{}size}\\PY{p}{;}\\PY{+w}{ }\\PY{n}{j}\\PY{o}{+}\\PY{o}{+}\\PY{p}{)}\\PY{+w}{ }\\PY{p}{\\PYZob{}}\n",
       "\\PY{+w}{            }\\PY{k+kt}{int64\\PYZus{}t}\\PY{+w}{ }\\PY{n}{sum}\\PY{o}{=}\\PY{l+m+mi}{0}\\PY{p}{;}\n",
       "\\PY{+w}{            }\\PY{k}{for}\\PY{p}{(}\\PY{k+kt}{int32\\PYZus{}t}\\PY{+w}{ }\\PY{n}{x}\\PY{+w}{ }\\PY{o}{=}\\PY{+w}{ }\\PY{l+m+mi}{0}\\PY{p}{;}\\PY{+w}{ }\\PY{n}{x}\\PY{+w}{ }\\PY{o}{\\PYZlt{}}\\PY{+w}{ }\\PY{n}{k\\PYZus{}size}\\PY{p}{;}\\PY{+w}{ }\\PY{n}{x}\\PY{o}{+}\\PY{o}{+}\\PY{p}{)}\\PY{+w}{ }\\PY{p}{\\PYZob{}}\n",
       "\\PY{+w}{                }\\PY{k}{for}\\PY{p}{(}\\PY{k+kt}{int32\\PYZus{}t}\\PY{+w}{ }\\PY{n}{y}\\PY{+w}{ }\\PY{o}{=}\\PY{+w}{ }\\PY{l+m+mi}{0}\\PY{p}{;}\\PY{+w}{ }\\PY{n}{y}\\PY{+w}{ }\\PY{o}{\\PYZlt{}}\\PY{+w}{ }\\PY{n}{k\\PYZus{}size}\\PY{p}{;}\\PY{+w}{ }\\PY{n}{y}\\PY{o}{+}\\PY{o}{+}\\PY{p}{)}\\PY{+w}{ }\\PY{p}{\\PYZob{}}\n",
       "\\PY{+w}{                    }\\PY{n}{sum}\\PY{+w}{ }\\PY{o}{+}\\PY{o}{=}\\PY{+w}{ }\\PY{n}{M}\\PY{p}{[}\\PY{n}{i}\\PY{o}{+}\\PY{n}{x}\\PY{p}{]}\\PY{p}{[}\\PY{n}{j}\\PY{o}{+}\\PY{n}{y}\\PY{p}{]}\\PY{+w}{ }\\PY{o}{*}\\PY{+w}{ }\\PY{n}{K}\\PY{p}{[}\\PY{n}{x}\\PY{p}{]}\\PY{p}{[}\\PY{n}{y}\\PY{p}{]}\\PY{p}{;}\n",
       "\\PY{+w}{                }\\PY{p}{\\PYZcb{}}\n",
       "\\PY{+w}{            }\\PY{p}{\\PYZcb{}}\n",
       "\\PY{+w}{            }\\PY{n}{R}\\PY{p}{[}\\PY{n}{i}\\PY{p}{]}\\PY{p}{[}\\PY{n}{j}\\PY{p}{]}\\PY{+w}{ }\\PY{o}{=}\\PY{+w}{ }\\PY{n}{sum}\\PY{p}{;}\n",
       "\\PY{+w}{        }\\PY{p}{\\PYZcb{}}\n",
       "\\PY{+w}{\t}\\PY{p}{\\PYZcb{}}\n",
       "\\PY{+w}{    }\\PY{k}{return}\\PY{p}{;}\n",
       "\n",
       "\\PY{p}{\\PYZcb{}}\n",
       "\n",
       "\\PY{c+cp}{\\PYZsh{}}\\PY{c+cp}{endif}\n",
       "\\end{Verbatim}\n"
      ],
      "text/plain": [
       "// conv2d_reference.hpp:1-30 (30 lines)\n",
       "#ifndef conv2d_REFERENCE_INCLUDED\n",
       "#define conv2d_REFERENCE_INCLUDED\n",
       "#include <cstdlib>\n",
       "#include \"archassignment.h\"\n",
       "#include <unistd.h>\n",
       "#include<cstdint>\n",
       "#include\"function_map.hpp\"\n",
       "\n",
       "\n",
       "//template<typename T>\n",
       "void __attribute__((noinline)) conv2d_reference(int64_t **M, int64_t **K, uint32_t m_size, uint32_t k_size, int64_t **R) {\n",
       "\t\t      // parameters you can use for whatever purpose you want (e.g., tile sizes)\n",
       "\n",
       "\tfor(int32_t i = 0; i < m_size-k_size; i++) {\n",
       "\t\tfor(int32_t j = 0; j < m_size-k_size; j++) {\n",
       "            int64_t sum=0;\n",
       "            for(int32_t x = 0; x < k_size; x++) {\n",
       "                for(int32_t y = 0; y < k_size; y++) {\n",
       "                    sum += M[i+x][j+y] * K[x][y];\n",
       "                }\n",
       "            }\n",
       "            R[i][j] = sum;\n",
       "        }\n",
       "\t}\n",
       "    return;\n",
       "\n",
       "}\n",
       "\n",
       "#endif"
      ]
     },
     "metadata": {},
     "output_type": "display_data"
    }
   ],
   "source": [
    "render_code(\"conv2d_reference.hpp\")"
   ]
  },
  {
   "cell_type": "markdown",
   "metadata": {
    "deletable": false,
    "editable": false,
    "tags": []
   },
   "source": [
    "Read through the code and comments to make sure you understand what the code is doing. \n",
    "\n",
    "## Detailed Requirements\n",
    "\n",
    "The requirements for the assignment are pretty simple:\n",
    "\n",
    "1. $M$ will be square and it's width/height will be less than 4096.\n",
    "2. $K$ will be less than or equal to 1023.\n",
    "3. Values in $M$ and $K$ can be any `int64_t` value.\n",
    "4. Your output must match the output of the code in `conv2d_reference.hpp`.\n",
    "5. Your implementation should go in `conv2d_solution.hpp`.  The starter version is just a copy of `conv2d_reference.hpp`.\n"
   ]
  },
  {
   "cell_type": "markdown",
   "metadata": {
    "deletable": false,
    "editable": false,
    "tags": []
   },
   "source": [
    "## Running the Code\n",
    "\n",
    "The driver code for the assignment is in `conv2d_main.cpp` and `conv2d.cpp`.  `conv2d_main.cpp` is mostly command line processing (take a look if you want).  `conv2d.cpp` is what actually calls your code:"
   ]
  },
  {
   "cell_type": "code",
   "execution_count": null,
   "metadata": {
    "deletable": false,
    "editable": false,
    "init_cell": true,
    "tags": []
   },
   "outputs": [],
   "source": [
    "render_code(\"conv2d.cpp\")"
   ]
  },
  {
   "cell_type": "markdown",
   "metadata": {
    "deletable": false,
    "editable": false,
    "tags": []
   },
   "source": [
    "It defines four functions:\n",
    "\n",
    "* `conv2d_reference_c` Calls the starter code with `size`x`size` matrix and `power`.\n",
    "* `conv2d_solution_c` Calls your code with `size`x`size` matrix and `power`.\n",
    "* `bench_reference` Runs benchmarks we will use for grading for the starter code.\n",
    "* `bench_solution` Runs benchmarks we will use for grading for your code.\n",
    "\n",
    "It runs everything 8 times to get a more reliable measurement.\n",
    "\n",
    "To invoke these, you can build and run `conv2d.exe`:"
   ]
  },
  {
   "cell_type": "code",
   "execution_count": 42,
   "metadata": {
    "deletable": false,
    "tags": []
   },
   "outputs": [
    {
     "name": "stdout",
     "output_type": "stream",
     "text": [
      "mkdir -p build/ \n",
      "cp  conv2d_main.cpp build/conv2d_main.cpp\n",
      "g++-9  -DHAVE_LINUX_PERF_EVENT_H  -pthread -DHAVE_LINUX_PERF_EVENT_H -I/datahub/htseng/2023fa-cs203-parallelism-starter -g  -fopenmp -lm -pthread -lboost_program_options -L/usr/lib/ -lboost_system -ldl  -o build/conv2d_main.o -c build/conv2d_main.cpp\n",
      "\u001b[01m\u001b[Kbuild/conv2d_main.cpp:\u001b[m\u001b[K In function ‘\u001b[01m\u001b[Kint main(int, char**)\u001b[m\u001b[K’:\n",
      "\u001b[01m\u001b[Kbuild/conv2d_main.cpp:186:50:\u001b[m\u001b[K \u001b[01;35m\u001b[Kwarning: \u001b[m\u001b[Kformat ‘\u001b[01m\u001b[K%ld\u001b[m\u001b[K’ expects argument of type ‘\u001b[01m\u001b[Klong int\u001b[m\u001b[K’, but argument 4 has type ‘\u001b[01m\u001b[Kint\u001b[m\u001b[K’ [\u001b[01;35m\u001b[K-Wformat=\u001b[m\u001b[K]\n",
      "  186 |                         sprintf(preamble, \"%lu,\u001b[01;35m\u001b[K%ld\u001b[m\u001b[K,%ld,%s,\",size,\u001b[32m\u001b[Kk_size\u001b[m\u001b[K,thread,function.c_str());\n",
      "      |                                                \u001b[01;35m\u001b[K~~^\u001b[m\u001b[K               \u001b[32m\u001b[K~~~~~~\u001b[m\u001b[K\n",
      "      |                                                  \u001b[01;35m\u001b[K|\u001b[m\u001b[K               \u001b[32m\u001b[K|\u001b[m\u001b[K\n",
      "      |                                                  \u001b[01;35m\u001b[Klong int\u001b[m\u001b[K        \u001b[32m\u001b[Kint\u001b[m\u001b[K\n",
      "      |                                                \u001b[32m\u001b[K%d\u001b[m\u001b[K\n",
      "mkdir -p build/ \n",
      "cp  conv2d.cpp build/conv2d.cpp\n",
      "g++-9  -DHAVE_LINUX_PERF_EVENT_H  -pthread -DHAVE_LINUX_PERF_EVENT_H -I/datahub/htseng/2023fa-cs203-parallelism-starter -g  -fopenmp -lm -pthread -lboost_program_options -L/usr/lib/ -lboost_system -ldl  -o build/conv2d.o -c build/conv2d.cpp\n",
      "g++-9 -pthread -DHAVE_LINUX_PERF_EVENT_H -I/datahub/htseng/2023fa-cs203-parallelism-starter -g  -fopenmp  build/conv2d_main.o  build/perfstats.o build/conv2d.o -o conv2d.exe\n",
      "registering function: conv2d_reference_c\n",
      "registering function: conv2d_solution_c\n"
     ]
    }
   ],
   "source": [
    "!rm conv2d.exe; rm -f build/conv2d*; make conv2d.exe\n",
    "!cs203 job run './conv2d.exe'"
   ]
  },
  {
   "cell_type": "markdown",
   "metadata": {
    "deletable": false,
    "tags": []
   },
   "source": [
    "`conv2d.exe` takes several command line parameters:\n",
    "\n",
    "The notable ones are:\n",
    "\n",
    "1. `-s` -- set the size of the input matrix.\n",
    "2. `-k` -- set the size of the input kernel.\n",
    "3. `-f` what functions to run.\n",
    "4. `-t` set the number of parallel threads.\n",
    "5. `-o` sets where statistics should go.\n",
    "6. `-i` sets the number of iterations.\n",
    "7. `-v` compares the result with the reference solution.\n",
    "\n",
    "The first five of these can take multiple values and `conv2d.exe` will run all combinations and they will end up in `stats.csv`:"
   ]
  },
  {
   "cell_type": "code",
   "execution_count": 43,
   "metadata": {
    "deletable": false,
    "tags": []
   },
   "outputs": [],
   "source": [
    "!cs203 job run \"./conv2d.exe -M 3300 -o stats.csv -t 1 2 4 -s 1024 -k 63 -i 1 -f conv2d_reference_c conv2d_solution_c\"\n",
    "df =render_csv(\"stats.csv\")\n",
    "display_mono(df)"
   ]
  },
  {
   "cell_type": "markdown",
   "metadata": {
    "deletable": false,
    "jp-MarkdownHeadingCollapsed": true,
    "tags": []
   },
   "source": [
    "## OpenMP (New For Assignment 5)\n",
    "\n",
    "OpenMP is automatically turned for your code in this assignment, so the `#pragma` command we used for the histogram should work fine.\n",
    "\n",
    "If you want to compile at the command line, you'll need to either do \n",
    "\n",
    "```\n",
    "export OPENMP=yes\n",
    "```\n",
    "\n",
    "once each time you log in or invoke `make` like so:\n",
    "\n",
    "```\n",
    "make conv2d.exe OPENMP=yes\n",
    "```\n",
    "each time you build.\n",
    "\n",
    "### Key Commands\n",
    "\n",
    "The three `#pragma`s you'll need for this assignment are \n",
    "\n",
    "1. `#pragma omp parallel for` for parallelizing loops.\n",
    "2. `#pragma omp critical` for parallelizing loops.\n",
    "3. `#pragma omp simd` for vectorizing loops\n",
    "\n",
    "These are the only three used in the solution used to set the performance targets.\n",
    "\n",
    "These three blog posts provide a good introduction to these commands:\n",
    "\n",
    "* http://jakascorner.com/blog/2016/04/omp-introduction.html  \n",
    "* http://jakascorner.com/blog/2016/05/omp-for.html\n",
    "* http://jakascorner.com/blog/2016/07/omp-critical.html\n",
    "\n",
    "They are required reading.\n",
    "\n",
    "These articles provide some more advanced topics that might be useful:\n",
    "\n",
    "* http://jakascorner.com/blog/2016/06/omp-for-scheduling.html\n",
    "* http://jakascorner.com/blog/2016/06/omp-data-sharing-attributes.html\n",
    "* http://jakascorner.com/blog/2016/07/omp-default-none-and-const.html\n",
    "\n",
    "There's an enormous amount of bad information online about OpenMP.\n",
    "\n",
    "### Looking at OpenMP Assembly\n",
    "\n",
    "If you look at the assembly for OpenMP programs, you'll find that your loop body has been replaced with a function call.  OpenMP does this so it can tell it's worker threads to call the function to perform one iteration of your loop.\n",
    "\n",
    "### Caveats for our Tools\n",
    "\n",
    "First, `gprof` doesn't work on with multi-threaded programs.  You can use it for single-threaded runs, though.\n",
    "\n",
    "Second, Moneta's cache model is not multithread-aware, so the cache hit/miss numbers for multithreaded programs are not meaningful.\n",
    "\n",
    "Moneta may also show more threads that you might be expecting.  OpenMP threads seem to be Thread 0 and 13 and above.  If you see some threads that don't seem to be doing anything, that's not surprising or concerning.\n",
    "\n",
    "Finally, our performance counting code only collects data for one thread.  For OpenMP code this is ok:  all the threads do basically the same thing.  But you'll notice, for instance, that if a loop runs in 4 threads, the measure instruction count will go down by ~1/4 (assuming multi-threading didn't add a lot of overhead).\n",
    " \n",
    " \n",
    "### Controlling the Number of Threads\n",
    "\n",
    "By default the autograder will run your code with 12 threads.  If you want to use a different number in your final run, you can call \n",
    "\n",
    "```\t\t\t\n",
    "omp_set_num_threads(thread_count);\n",
    "```\n",
    "\n",
    "in your function. You should call it before the first OpenMP `#pragma`.\n",
    "\n",
    "I can control thread count during development with `-t`.  \n"
   ]
  },
  {
   "cell_type": "markdown",
   "metadata": {
    "deletable": false,
    "tags": []
   },
   "source": [
    "## Things To Try\n",
    "\n",
    "The main challenge I see in this assignment is to make matrix convolution fast, primarily by improving it's memory behavior. The benchmarks are structured to evaluate your solution's success on the main challenge.\n",
    "\n",
    "The obvious approach to improving cache performance is tiling and renesting.  You saw an example of matrix multiplications in CS203, and the principle is the same, but the problem is a bit different because the size of the input matrix and the kernel matrix may not match.\n",
    "\n",
    "There are two ways to approach this task and you should try to apply both at once:\n",
    "\n",
    "1.  You should think about the data access pattern of convolution in terms of temporal and spatial locality.  \n",
    "    1.  How can you maximize spatial locality?\n",
    "    2.  Don't forget to consider all three matrices.\n",
    "    3.  How large can the tile size be while still fitting in the cache?\n",
    "2.  You should try different tiling schemes:\n",
    "    1.  Different ways to split and renest the three loops.\n",
    "    2.  Different tile sizes\n",
    "3.  Debugging tiling\n",
    "    1.  Debugging tiling can be tricky.\n",
    "    2.  Start with small matrices and small tile sizes.\n",
    "    3.  Try multiple small tile sizes\n",
    "3.  Don't forget about loop overhead.\n",
    "\n",
    "### Non-Deterministic Tests (New for Assignment 5)\n",
    "\n",
    "With threading, comes non-deterministic bugs.  This means that the tests may fail only occasionally for your code.  If this seems to be happening, a good strategy is to just run them repeatedly and confirm that it's the case.\n",
    "\n",
    "It's not a bug in the benchmark, you have a thread synchronization error.\n",
    "\n",
    "\n",
    "### General Tips (New for Assignment 5)\n",
    "\n",
    "In the examples we saw that loop tiling and OpenMP pragmas can work well together.  This carries through to how you should figure out what to parallelize.  It's worth your time to try parallelizing different loops and changing how your loops are nested to accommodate that.\n",
    "\n",
    "A few tips:\n",
    "\n",
    "1.  Use `ET` to guide your optimizations.\n",
    "1.  At this points you have many tools avaiassignmentle to you -- `omp parallel for`, `omp simd`, compiler optimizations, tiling.  The number of combinations is enormous.   I suggest applying them in this order (from largest impact-per-effort to smallest):\n",
    "    1.  Get last assignment into good shape (see notes above and slides from class)\n",
    "    2.  `omp parallel for`\n",
    "    3.  `omp simd`\n",
    "    4.  Fiddling with other compiler options/per-function compiler options.\n",
    "    5.  Crazy stuff like intrinsics for better SIMD performance.\n",
    "1.  While tiling only applied to loops with reuse (because temporal locality requires reuse), `parallel for` can apply to loops without reuse.  Same for `omp simd`.\n",
    "2.  `omp parallel for` implicitly does tiling, since it divides the iterations of the parallel loop across several cores.\n",
    "1.  Nesting parallel for loops with OpenMP is not usually a good idea (although it should work).  Start by picking one loop to parallelize.\n",
    "2.  You want to parallelize an outer loop, so that the threads are working on large pieces of computation and need to synchronize less.\n",
    "3.  Pay close attention to whether iterations of your parallel loop are writing to the same locations.  If so, you'll need a `omp critical` to ensure correct updates.\n",
    "\n",
    "This last point can be tricky.  If I have this code:\n",
    "\n",
    "```\n",
    "#pragma omp parallel for\n",
    "for(int i = 0; i < 10; i++) {\n",
    "    for(int j = 0; j < 10; j++) {\n",
    "        for(int k = 0; k < 10; k++) {\n",
    "            X(i,j) += Y(k,j);\n",
    "```\n",
    "\n",
    "The only store is the assignment to `X(i, j)`.  Since `i` is the index of the parallel loop, I know that no other thread will be updating `X(i,j)`, since no other thread will have the same value of `i`.\n",
    "\n",
    "However, in this code:\n",
    "\n",
    "```\n",
    "#pragma omp parallel for\n",
    "for(int i = 0; i < 10; i++) {\n",
    "    for(int j = 0; j < 10; j++) {\n",
    "        for(int k = 0; k < 10; k++) {\n",
    "            X(k,j) += Y(i,j);\n",
    "```\n",
    "\n",
    "I don't have the same guarantee.  Since `i` does is not used to select an element in `X`, every other thread will write to that location as well.  In that case, I could do\n",
    "\n",
    "```\n",
    "#pragma omp parallel for\n",
    "for(int i = 0; i < 10; i++) {\n",
    "    for(int j = 0; j < 10; j++) {\n",
    "        for(int k = 0; k < 10; k++) {\n",
    "#pragma omp critical\n",
    "            X(k,j) += Y(i,j);\n",
    "```\n",
    "Which will probably be really slow, or I could create a private tensor, do my updates there, and then merge them into `X`.\n",
    "\n",
    "5.  Pay close attention to write sharing when you are deciding how to parallelize.  Can the iterations of your parallel loop iterations write to the same place?\n",
    "4.  `omp simd` only works on inner loops.\n",
    "5.  `omp parallel for` works best on outer loops.\n",
    "7.  `gprof` doesn't work for multithreading, so use `ET` to measure how long things take.\n"
   ]
  },
  {
   "cell_type": "markdown",
   "metadata": {
    "deletable": false,
    "tags": []
   },
   "source": [
    "### Useful C++ ( Partly New For Assignment 5) \n",
    "\n",
    "#### `wall_time()` (New for Assignment 5)\n",
    "\n",
    "We've provide `wall_time()` which returns the current time as a `double`.  It has microsecond accuracy.  You can call it before and after part of your program, subtract the resulting values, and get a pretty good measure of execution time.  There's an example in `conv2d_reference.hpp`.\n",
    "\n",
    "#### Controlling Compiler Optimizations\n",
    "\n",
    "First, you can prevent inlining of a particular function by declaring it like so:\n",
    "\n",
    "```\n",
    "void __attribute__((noinline)) conv2d_solution(...)\n",
    "```\n",
    "\n",
    "This can make it easier to debug, because you can set a breakpoint on the function and it'll work like you expect.\n",
    "\n",
    "Second, you can turn on arbitrary optimizations for particular functions like so:\n",
    "\n",
    "```\n",
    "#pragma GCC push_options\n",
    "#pragma GCC optimize (\"unroll-loops\")\n",
    "\n",
    "void your_function() {\n",
    "}\n",
    "\n",
    "#pragma GCC pop_options\n",
    "```\n",
    "\n",
    "\n",
    "#### Assertions\n",
    "\n",
    "The `assert()` macro is useful tool for debugging and to avoid silly errors.\n",
    "\n",
    "If you say\n",
    "\n",
    "```\n",
    "assert(a > b);\n",
    "```\n",
    "\n",
    "And the expression is not true at run time, the assert with \"fail\" your program will crash with a somewhat useful error message.\n",
    "\n",
    "This is a useful way to document and enforce assumptions you make in your code.  For instance, I used an assert in `convolution_tiled_split()` to ensure that the tile size was > 8.\n",
    "\n",
    "You can get access to  `assert()` with \n",
    "\n",
    "```\n",
    "#include<cassert>\n",
    "```\n",
    "\n",
    "The overhead of asserts is low, but not zero.  I would not put any in one of your performance-critical loops.\n",
    "\n",
    "If you want to include asserts in performance-critical areas, you can add `-DNDEBUG` to the optimizations in `config.make`.  It'll disable all the `assert()`s.\n",
    "\n"
   ]
  },
  {
   "cell_type": "markdown",
   "metadata": {
    "deletable": false,
    "editable": false,
    "tags": []
   },
   "source": [
    "## Do Your Work Here\n",
    "\n",
    "Below are the key commands you'll need to make progress on the assignment.\n",
    "\n",
    "### Setting Optimization Flags\n",
    "\n",
    "As in your last assignment, you can set optimization flags in `config.make`:"
   ]
  },
  {
   "cell_type": "code",
   "execution_count": null,
   "metadata": {
    "tags": []
   },
   "outputs": [],
   "source": [
    "render_code(\"config.make\")"
   ]
  },
  {
   "cell_type": "markdown",
   "metadata": {
    "deletable": false,
    "editable": false,
    "tags": []
   },
   "source": [
    "### Compiling and Running\n",
    "\n",
    "You can compile and the benchmarks locally using this command.  This is only useful for debugging.  Performance running locally is not very meaningful:"
   ]
  },
  {
   "cell_type": "code",
   "execution_count": null,
   "metadata": {
    "tags": []
   },
   "outputs": [],
   "source": [
    "!make conv2d.exe"
   ]
  },
  {
   "cell_type": "markdown",
   "metadata": {},
   "source": [
    "Run the benchmark in the cloud and compare your performance with the reference."
   ]
  },
  {
   "cell_type": "code",
   "execution_count": 49,
   "metadata": {
    "tags": []
   },
   "outputs": [
    {
     "name": "stdout",
     "output_type": "stream",
     "text": [
      "rm -f *.exe build/*\n",
      "mkdir -p build/ \n",
      "cp  conv2d_main.cpp build/conv2d_main.cpp\n",
      "g++-9  -DHAVE_LINUX_PERF_EVENT_H  -pthread -DHAVE_LINUX_PERF_EVENT_H -I/datahub/htseng/2023fa-cs203-parallelism-starter -g  -fopenmp -lm -pthread -lboost_program_options -L/usr/lib/ -lboost_system -ldl  -o build/conv2d_main.o -c build/conv2d_main.cpp\n",
      "mkdir -p build/ \n",
      "cp  conv2d.cpp build/conv2d.cpp\n",
      "g++-9  -DHAVE_LINUX_PERF_EVENT_H  -pthread -DHAVE_LINUX_PERF_EVENT_H -I/datahub/htseng/2023fa-cs203-parallelism-starter -g  -fopenmp -lm -pthread -lboost_program_options -L/usr/lib/ -lboost_system -ldl  -o build/conv2d.o -c build/conv2d.cpp\n",
      "mkdir -p build/ \n",
      "cp  perfstats.c build/perfstats.c\n",
      "g++-9 -DHAVE_LINUX_PERF_EVENT_H -O3 -I/datahub/htseng/2023fa-cs203-parallelism-starter -lm -pthread -lboost_program_options -L/usr/lib/ -lboost_system -ldl  -o build/perfstats.o -c build/perfstats.c\n",
      "g++-9 -pthread -DHAVE_LINUX_PERF_EVENT_H -I/datahub/htseng/2023fa-cs203-parallelism-starter -g  -fopenmp  build/conv2d_main.o  build/perfstats.o build/conv2d.o -o conv2d.exe\n",
      "registering function: conv2d_reference_c\n",
      "registering function: conv2d_solution_c\n",
      "Gonna run conv2d_solution_c\n",
      "Gonna run conv2d_reference_c\n",
      "Running: conv2d_solution_c\n",
      "Done execution: conv2d_solution_c\n",
      "Running: conv2d_reference_c\n",
      "Done execution: conv2d_reference_c\n",
      "Running: conv2d_solution_c\n",
      "Done execution: conv2d_solution_c\n",
      "Running: conv2d_reference_c\n",
      "Done execution: conv2d_reference_c\n",
      "Running: conv2d_solution_c\n",
      "Done execution: conv2d_solution_c\n",
      "Running: conv2d_reference_c\n",
      "Done execution: conv2d_reference_c\n",
      "Running: conv2d_solution_c\n",
      "Done execution: conv2d_solution_c\n",
      "Running: conv2d_reference_c\n",
      "Done execution: conv2d_reference_c\n",
      "Running: conv2d_solution_c\n",
      "Done execution: conv2d_solution_c\n",
      "Running: conv2d_reference_c\n",
      "Done execution: conv2d_reference_c\n",
      "Running: conv2d_solution_c\n",
      "Done execution: conv2d_solution_c\n",
      "Running: conv2d_reference_c\n",
      "Done execution: conv2d_reference_c\n"
     ]
    }
   ],
   "source": [
    "!make clean;make conv2d.exe\n",
    "!cs203 job run \"./conv2d.exe -MHz 3300 -i 10 -size 256 -k 63 127 -t 1 4 8 -f conv2d_solution_c conv2d_reference_c\""
   ]
  },
  {
   "cell_type": "code",
   "execution_count": 4,
   "metadata": {
    "tags": []
   },
   "outputs": [
    {
     "data": {
      "text/html": [
       "<style type=\"text/css\">\n",
       "#T_2ec4e_row0_col0, #T_2ec4e_row0_col1, #T_2ec4e_row0_col2, #T_2ec4e_row0_col3, #T_2ec4e_row0_col4, #T_2ec4e_row0_col5, #T_2ec4e_row0_col6, #T_2ec4e_row0_col7, #T_2ec4e_row0_col8, #T_2ec4e_row0_col9, #T_2ec4e_row0_col10, #T_2ec4e_row0_col11, #T_2ec4e_row0_col12, #T_2ec4e_row0_col13, #T_2ec4e_row1_col0, #T_2ec4e_row1_col1, #T_2ec4e_row1_col2, #T_2ec4e_row1_col3, #T_2ec4e_row1_col4, #T_2ec4e_row1_col5, #T_2ec4e_row1_col6, #T_2ec4e_row1_col7, #T_2ec4e_row1_col8, #T_2ec4e_row1_col9, #T_2ec4e_row1_col10, #T_2ec4e_row1_col11, #T_2ec4e_row1_col12, #T_2ec4e_row1_col13, #T_2ec4e_row2_col0, #T_2ec4e_row2_col1, #T_2ec4e_row2_col2, #T_2ec4e_row2_col3, #T_2ec4e_row2_col4, #T_2ec4e_row2_col5, #T_2ec4e_row2_col6, #T_2ec4e_row2_col7, #T_2ec4e_row2_col8, #T_2ec4e_row2_col9, #T_2ec4e_row2_col10, #T_2ec4e_row2_col11, #T_2ec4e_row2_col12, #T_2ec4e_row2_col13, #T_2ec4e_row3_col0, #T_2ec4e_row3_col1, #T_2ec4e_row3_col2, #T_2ec4e_row3_col3, #T_2ec4e_row3_col4, #T_2ec4e_row3_col5, #T_2ec4e_row3_col6, #T_2ec4e_row3_col7, #T_2ec4e_row3_col8, #T_2ec4e_row3_col9, #T_2ec4e_row3_col10, #T_2ec4e_row3_col11, #T_2ec4e_row3_col12, #T_2ec4e_row3_col13, #T_2ec4e_row4_col0, #T_2ec4e_row4_col1, #T_2ec4e_row4_col2, #T_2ec4e_row4_col3, #T_2ec4e_row4_col4, #T_2ec4e_row4_col5, #T_2ec4e_row4_col6, #T_2ec4e_row4_col7, #T_2ec4e_row4_col8, #T_2ec4e_row4_col9, #T_2ec4e_row4_col10, #T_2ec4e_row4_col11, #T_2ec4e_row4_col12, #T_2ec4e_row4_col13, #T_2ec4e_row5_col0, #T_2ec4e_row5_col1, #T_2ec4e_row5_col2, #T_2ec4e_row5_col3, #T_2ec4e_row5_col4, #T_2ec4e_row5_col5, #T_2ec4e_row5_col6, #T_2ec4e_row5_col7, #T_2ec4e_row5_col8, #T_2ec4e_row5_col9, #T_2ec4e_row5_col10, #T_2ec4e_row5_col11, #T_2ec4e_row5_col12, #T_2ec4e_row5_col13, #T_2ec4e_row6_col0, #T_2ec4e_row6_col1, #T_2ec4e_row6_col2, #T_2ec4e_row6_col3, #T_2ec4e_row6_col4, #T_2ec4e_row6_col5, #T_2ec4e_row6_col6, #T_2ec4e_row6_col7, #T_2ec4e_row6_col8, #T_2ec4e_row6_col9, #T_2ec4e_row6_col10, #T_2ec4e_row6_col11, #T_2ec4e_row6_col12, #T_2ec4e_row6_col13, #T_2ec4e_row7_col0, #T_2ec4e_row7_col1, #T_2ec4e_row7_col2, #T_2ec4e_row7_col3, #T_2ec4e_row7_col4, #T_2ec4e_row7_col5, #T_2ec4e_row7_col6, #T_2ec4e_row7_col7, #T_2ec4e_row7_col8, #T_2ec4e_row7_col9, #T_2ec4e_row7_col10, #T_2ec4e_row7_col11, #T_2ec4e_row7_col12, #T_2ec4e_row7_col13, #T_2ec4e_row8_col0, #T_2ec4e_row8_col1, #T_2ec4e_row8_col2, #T_2ec4e_row8_col3, #T_2ec4e_row8_col4, #T_2ec4e_row8_col5, #T_2ec4e_row8_col6, #T_2ec4e_row8_col7, #T_2ec4e_row8_col8, #T_2ec4e_row8_col9, #T_2ec4e_row8_col10, #T_2ec4e_row8_col11, #T_2ec4e_row8_col12, #T_2ec4e_row8_col13, #T_2ec4e_row9_col0, #T_2ec4e_row9_col1, #T_2ec4e_row9_col2, #T_2ec4e_row9_col3, #T_2ec4e_row9_col4, #T_2ec4e_row9_col5, #T_2ec4e_row9_col6, #T_2ec4e_row9_col7, #T_2ec4e_row9_col8, #T_2ec4e_row9_col9, #T_2ec4e_row9_col10, #T_2ec4e_row9_col11, #T_2ec4e_row9_col12, #T_2ec4e_row9_col13, #T_2ec4e_row10_col0, #T_2ec4e_row10_col1, #T_2ec4e_row10_col2, #T_2ec4e_row10_col3, #T_2ec4e_row10_col4, #T_2ec4e_row10_col5, #T_2ec4e_row10_col6, #T_2ec4e_row10_col7, #T_2ec4e_row10_col8, #T_2ec4e_row10_col9, #T_2ec4e_row10_col10, #T_2ec4e_row10_col11, #T_2ec4e_row10_col12, #T_2ec4e_row10_col13, #T_2ec4e_row11_col0, #T_2ec4e_row11_col1, #T_2ec4e_row11_col2, #T_2ec4e_row11_col3, #T_2ec4e_row11_col4, #T_2ec4e_row11_col5, #T_2ec4e_row11_col6, #T_2ec4e_row11_col7, #T_2ec4e_row11_col8, #T_2ec4e_row11_col9, #T_2ec4e_row11_col10, #T_2ec4e_row11_col11, #T_2ec4e_row11_col12, #T_2ec4e_row11_col13 {\n",
       "  font-family: monospace;\n",
       "}\n",
       "</style>\n",
       "<table id=\"T_2ec4e\">\n",
       "  <thead>\n",
       "    <tr>\n",
       "      <th class=\"blank level0\" >&nbsp;</th>\n",
       "      <th id=\"T_2ec4e_level0_col0\" class=\"col_heading level0 col0\" >size</th>\n",
       "      <th id=\"T_2ec4e_level0_col1\" class=\"col_heading level0 col1\" >k_size</th>\n",
       "      <th id=\"T_2ec4e_level0_col2\" class=\"col_heading level0 col2\" >threads</th>\n",
       "      <th id=\"T_2ec4e_level0_col3\" class=\"col_heading level0 col3\" >function</th>\n",
       "      <th id=\"T_2ec4e_level0_col4\" class=\"col_heading level0 col4\" >IC</th>\n",
       "      <th id=\"T_2ec4e_level0_col5\" class=\"col_heading level0 col5\" >Cycles</th>\n",
       "      <th id=\"T_2ec4e_level0_col6\" class=\"col_heading level0 col6\" >CPI</th>\n",
       "      <th id=\"T_2ec4e_level0_col7\" class=\"col_heading level0 col7\" >CT</th>\n",
       "      <th id=\"T_2ec4e_level0_col8\" class=\"col_heading level0 col8\" >ET</th>\n",
       "      <th id=\"T_2ec4e_level0_col9\" class=\"col_heading level0 col9\" >L1_dcache_miss_rate</th>\n",
       "      <th id=\"T_2ec4e_level0_col10\" class=\"col_heading level0 col10\" >L1_dcache_misses</th>\n",
       "      <th id=\"T_2ec4e_level0_col11\" class=\"col_heading level0 col11\" >L1_dcache_accesses</th>\n",
       "      <th id=\"T_2ec4e_level0_col12\" class=\"col_heading level0 col12\" >branch_mispred</th>\n",
       "      <th id=\"T_2ec4e_level0_col13\" class=\"col_heading level0 col13\" >branches</th>\n",
       "    </tr>\n",
       "  </thead>\n",
       "  <tbody>\n",
       "    <tr>\n",
       "      <th id=\"T_2ec4e_level0_row0\" class=\"row_heading level0 row0\" >0</th>\n",
       "      <td id=\"T_2ec4e_row0_col0\" class=\"data row0 col0\" >256</td>\n",
       "      <td id=\"T_2ec4e_row0_col1\" class=\"data row0 col1\" >63</td>\n",
       "      <td id=\"T_2ec4e_row0_col2\" class=\"data row0 col2\" >1</td>\n",
       "      <td id=\"T_2ec4e_row0_col3\" class=\"data row0 col3\" >conv2d_solution_c</td>\n",
       "      <td id=\"T_2ec4e_row0_col4\" class=\"data row0 col4\" >4901429059</td>\n",
       "      <td id=\"T_2ec4e_row0_col5\" class=\"data row0 col5\" >991213056</td>\n",
       "      <td id=\"T_2ec4e_row0_col6\" class=\"data row0 col6\" >0.202229</td>\n",
       "      <td id=\"T_2ec4e_row0_col7\" class=\"data row0 col7\" >0.235081</td>\n",
       "      <td id=\"T_2ec4e_row0_col8\" class=\"data row0 col8\" >0.233015</td>\n",
       "      <td id=\"T_2ec4e_row0_col9\" class=\"data row0 col9\" >0.001353</td>\n",
       "      <td id=\"T_2ec4e_row0_col10\" class=\"data row0 col10\" >3622927</td>\n",
       "      <td id=\"T_2ec4e_row0_col11\" class=\"data row0 col11\" >2678413044</td>\n",
       "      <td id=\"T_2ec4e_row0_col12\" class=\"data row0 col12\" >2385402</td>\n",
       "      <td id=\"T_2ec4e_row0_col13\" class=\"data row0 col13\" >302945631</td>\n",
       "    </tr>\n",
       "    <tr>\n",
       "      <th id=\"T_2ec4e_level0_row1\" class=\"row_heading level0 row1\" >1</th>\n",
       "      <td id=\"T_2ec4e_row1_col0\" class=\"data row1 col0\" >256</td>\n",
       "      <td id=\"T_2ec4e_row1_col1\" class=\"data row1 col1\" >63</td>\n",
       "      <td id=\"T_2ec4e_row1_col2\" class=\"data row1 col2\" >1</td>\n",
       "      <td id=\"T_2ec4e_row1_col3\" class=\"data row1 col3\" >conv2d_reference_c</td>\n",
       "      <td id=\"T_2ec4e_row1_col4\" class=\"data row1 col4\" >4901447599</td>\n",
       "      <td id=\"T_2ec4e_row1_col5\" class=\"data row1 col5\" >1002071731</td>\n",
       "      <td id=\"T_2ec4e_row1_col6\" class=\"data row1 col6\" >0.204444</td>\n",
       "      <td id=\"T_2ec4e_row1_col7\" class=\"data row1 col7\" >0.233297</td>\n",
       "      <td id=\"T_2ec4e_row1_col8\" class=\"data row1 col8\" >0.233780</td>\n",
       "      <td id=\"T_2ec4e_row1_col9\" class=\"data row1 col9\" >0.001280</td>\n",
       "      <td id=\"T_2ec4e_row1_col10\" class=\"data row1 col10\" >3428873</td>\n",
       "      <td id=\"T_2ec4e_row1_col11\" class=\"data row1 col11\" >2678426158</td>\n",
       "      <td id=\"T_2ec4e_row1_col12\" class=\"data row1 col12\" >2385490</td>\n",
       "      <td id=\"T_2ec4e_row1_col13\" class=\"data row1 col13\" >302949034</td>\n",
       "    </tr>\n",
       "    <tr>\n",
       "      <th id=\"T_2ec4e_level0_row2\" class=\"row_heading level0 row2\" >2</th>\n",
       "      <td id=\"T_2ec4e_row2_col0\" class=\"data row2 col0\" >256</td>\n",
       "      <td id=\"T_2ec4e_row2_col1\" class=\"data row2 col1\" >63</td>\n",
       "      <td id=\"T_2ec4e_row2_col2\" class=\"data row2 col2\" >4</td>\n",
       "      <td id=\"T_2ec4e_row2_col3\" class=\"data row2 col3\" >conv2d_solution_c</td>\n",
       "      <td id=\"T_2ec4e_row2_col4\" class=\"data row2 col4\" >4901430735</td>\n",
       "      <td id=\"T_2ec4e_row2_col5\" class=\"data row2 col5\" >987405981</td>\n",
       "      <td id=\"T_2ec4e_row2_col6\" class=\"data row2 col6\" >0.201453</td>\n",
       "      <td id=\"T_2ec4e_row2_col7\" class=\"data row2 col7\" >0.233228</td>\n",
       "      <td id=\"T_2ec4e_row2_col8\" class=\"data row2 col8\" >0.230291</td>\n",
       "      <td id=\"T_2ec4e_row2_col9\" class=\"data row2 col9\" >0.001468</td>\n",
       "      <td id=\"T_2ec4e_row2_col10\" class=\"data row2 col10\" >3933044</td>\n",
       "      <td id=\"T_2ec4e_row2_col11\" class=\"data row2 col11\" >2678417981</td>\n",
       "      <td id=\"T_2ec4e_row2_col12\" class=\"data row2 col12\" >2385373</td>\n",
       "      <td id=\"T_2ec4e_row2_col13\" class=\"data row2 col13\" >302945793</td>\n",
       "    </tr>\n",
       "    <tr>\n",
       "      <th id=\"T_2ec4e_level0_row3\" class=\"row_heading level0 row3\" >3</th>\n",
       "      <td id=\"T_2ec4e_row3_col0\" class=\"data row3 col0\" >256</td>\n",
       "      <td id=\"T_2ec4e_row3_col1\" class=\"data row3 col1\" >63</td>\n",
       "      <td id=\"T_2ec4e_row3_col2\" class=\"data row3 col2\" >4</td>\n",
       "      <td id=\"T_2ec4e_row3_col3\" class=\"data row3 col3\" >conv2d_reference_c</td>\n",
       "      <td id=\"T_2ec4e_row3_col4\" class=\"data row3 col4\" >4901442288</td>\n",
       "      <td id=\"T_2ec4e_row3_col5\" class=\"data row3 col5\" >990220399</td>\n",
       "      <td id=\"T_2ec4e_row3_col6\" class=\"data row3 col6\" >0.202026</td>\n",
       "      <td id=\"T_2ec4e_row3_col7\" class=\"data row3 col7\" >0.233162</td>\n",
       "      <td id=\"T_2ec4e_row3_col8\" class=\"data row3 col8\" >0.230882</td>\n",
       "      <td id=\"T_2ec4e_row3_col9\" class=\"data row3 col9\" >0.001341</td>\n",
       "      <td id=\"T_2ec4e_row3_col10\" class=\"data row3 col10\" >3592911</td>\n",
       "      <td id=\"T_2ec4e_row3_col11\" class=\"data row3 col11\" >2678422967</td>\n",
       "      <td id=\"T_2ec4e_row3_col12\" class=\"data row3 col12\" >2385264</td>\n",
       "      <td id=\"T_2ec4e_row3_col13\" class=\"data row3 col13\" >302947955</td>\n",
       "    </tr>\n",
       "    <tr>\n",
       "      <th id=\"T_2ec4e_level0_row4\" class=\"row_heading level0 row4\" >4</th>\n",
       "      <td id=\"T_2ec4e_row4_col0\" class=\"data row4 col0\" >256</td>\n",
       "      <td id=\"T_2ec4e_row4_col1\" class=\"data row4 col1\" >63</td>\n",
       "      <td id=\"T_2ec4e_row4_col2\" class=\"data row4 col2\" >8</td>\n",
       "      <td id=\"T_2ec4e_row4_col3\" class=\"data row4 col3\" >conv2d_solution_c</td>\n",
       "      <td id=\"T_2ec4e_row4_col4\" class=\"data row4 col4\" >4901437258</td>\n",
       "      <td id=\"T_2ec4e_row4_col5\" class=\"data row4 col5\" >986885813</td>\n",
       "      <td id=\"T_2ec4e_row4_col6\" class=\"data row4 col6\" >0.201346</td>\n",
       "      <td id=\"T_2ec4e_row4_col7\" class=\"data row4 col7\" >0.233276</td>\n",
       "      <td id=\"T_2ec4e_row4_col8\" class=\"data row4 col8\" >0.230217</td>\n",
       "      <td id=\"T_2ec4e_row4_col9\" class=\"data row4 col9\" >0.001302</td>\n",
       "      <td id=\"T_2ec4e_row4_col10\" class=\"data row4 col10\" >3486068</td>\n",
       "      <td id=\"T_2ec4e_row4_col11\" class=\"data row4 col11\" >2678419889</td>\n",
       "      <td id=\"T_2ec4e_row4_col12\" class=\"data row4 col12\" >2385591</td>\n",
       "      <td id=\"T_2ec4e_row4_col13\" class=\"data row4 col13\" >302947083</td>\n",
       "    </tr>\n",
       "    <tr>\n",
       "      <th id=\"T_2ec4e_level0_row5\" class=\"row_heading level0 row5\" >5</th>\n",
       "      <td id=\"T_2ec4e_row5_col0\" class=\"data row5 col0\" >256</td>\n",
       "      <td id=\"T_2ec4e_row5_col1\" class=\"data row5 col1\" >63</td>\n",
       "      <td id=\"T_2ec4e_row5_col2\" class=\"data row5 col2\" >8</td>\n",
       "      <td id=\"T_2ec4e_row5_col3\" class=\"data row5 col3\" >conv2d_reference_c</td>\n",
       "      <td id=\"T_2ec4e_row5_col4\" class=\"data row5 col4\" >4901428275</td>\n",
       "      <td id=\"T_2ec4e_row5_col5\" class=\"data row5 col5\" >998544361</td>\n",
       "      <td id=\"T_2ec4e_row5_col6\" class=\"data row5 col6\" >0.203725</td>\n",
       "      <td id=\"T_2ec4e_row5_col7\" class=\"data row5 col7\" >0.233178</td>\n",
       "      <td id=\"T_2ec4e_row5_col8\" class=\"data row5 col8\" >0.232839</td>\n",
       "      <td id=\"T_2ec4e_row5_col9\" class=\"data row5 col9\" >0.005206</td>\n",
       "      <td id=\"T_2ec4e_row5_col10\" class=\"data row5 col10\" >13944718</td>\n",
       "      <td id=\"T_2ec4e_row5_col11\" class=\"data row5 col11\" >2678415795</td>\n",
       "      <td id=\"T_2ec4e_row5_col12\" class=\"data row5 col12\" >2385359</td>\n",
       "      <td id=\"T_2ec4e_row5_col13\" class=\"data row5 col13\" >302945539</td>\n",
       "    </tr>\n",
       "    <tr>\n",
       "      <th id=\"T_2ec4e_level0_row6\" class=\"row_heading level0 row6\" >6</th>\n",
       "      <td id=\"T_2ec4e_row6_col0\" class=\"data row6 col0\" >256</td>\n",
       "      <td id=\"T_2ec4e_row6_col1\" class=\"data row6 col1\" >127</td>\n",
       "      <td id=\"T_2ec4e_row6_col2\" class=\"data row6 col2\" >1</td>\n",
       "      <td id=\"T_2ec4e_row6_col3\" class=\"data row6 col3\" >conv2d_solution_c</td>\n",
       "      <td id=\"T_2ec4e_row6_col4\" class=\"data row6 col4\" >8877500331</td>\n",
       "      <td id=\"T_2ec4e_row6_col5\" class=\"data row6 col5\" >1723246972</td>\n",
       "      <td id=\"T_2ec4e_row6_col6\" class=\"data row6 col6\" >0.194114</td>\n",
       "      <td id=\"T_2ec4e_row6_col7\" class=\"data row6 col7\" >0.233160</td>\n",
       "      <td id=\"T_2ec4e_row6_col8\" class=\"data row6 col8\" >0.401792</td>\n",
       "      <td id=\"T_2ec4e_row6_col9\" class=\"data row6 col9\" >0.001528</td>\n",
       "      <td id=\"T_2ec4e_row6_col10\" class=\"data row6 col10\" >7406757</td>\n",
       "      <td id=\"T_2ec4e_row6_col11\" class=\"data row6 col11\" >4846657603</td>\n",
       "      <td id=\"T_2ec4e_row6_col12\" class=\"data row6 col12\" >2131567</td>\n",
       "      <td id=\"T_2ec4e_row6_col13\" class=\"data row6 col13\" >543334100</td>\n",
       "    </tr>\n",
       "    <tr>\n",
       "      <th id=\"T_2ec4e_level0_row7\" class=\"row_heading level0 row7\" >7</th>\n",
       "      <td id=\"T_2ec4e_row7_col0\" class=\"data row7 col0\" >256</td>\n",
       "      <td id=\"T_2ec4e_row7_col1\" class=\"data row7 col1\" >127</td>\n",
       "      <td id=\"T_2ec4e_row7_col2\" class=\"data row7 col2\" >1</td>\n",
       "      <td id=\"T_2ec4e_row7_col3\" class=\"data row7 col3\" >conv2d_reference_c</td>\n",
       "      <td id=\"T_2ec4e_row7_col4\" class=\"data row7 col4\" >8877491775</td>\n",
       "      <td id=\"T_2ec4e_row7_col5\" class=\"data row7 col5\" >1732194620</td>\n",
       "      <td id=\"T_2ec4e_row7_col6\" class=\"data row7 col6\" >0.195122</td>\n",
       "      <td id=\"T_2ec4e_row7_col7\" class=\"data row7 col7\" >0.233133</td>\n",
       "      <td id=\"T_2ec4e_row7_col8\" class=\"data row7 col8\" >0.403832</td>\n",
       "      <td id=\"T_2ec4e_row7_col9\" class=\"data row7 col9\" >0.002039</td>\n",
       "      <td id=\"T_2ec4e_row7_col10\" class=\"data row7 col10\" >9882177</td>\n",
       "      <td id=\"T_2ec4e_row7_col11\" class=\"data row7 col11\" >4846653826</td>\n",
       "      <td id=\"T_2ec4e_row7_col12\" class=\"data row7 col12\" >2131510</td>\n",
       "      <td id=\"T_2ec4e_row7_col13\" class=\"data row7 col13\" >543332463</td>\n",
       "    </tr>\n",
       "    <tr>\n",
       "      <th id=\"T_2ec4e_level0_row8\" class=\"row_heading level0 row8\" >8</th>\n",
       "      <td id=\"T_2ec4e_row8_col0\" class=\"data row8 col0\" >256</td>\n",
       "      <td id=\"T_2ec4e_row8_col1\" class=\"data row8 col1\" >127</td>\n",
       "      <td id=\"T_2ec4e_row8_col2\" class=\"data row8 col2\" >4</td>\n",
       "      <td id=\"T_2ec4e_row8_col3\" class=\"data row8 col3\" >conv2d_solution_c</td>\n",
       "      <td id=\"T_2ec4e_row8_col4\" class=\"data row8 col4\" >8877493886</td>\n",
       "      <td id=\"T_2ec4e_row8_col5\" class=\"data row8 col5\" >1732988084</td>\n",
       "      <td id=\"T_2ec4e_row8_col6\" class=\"data row8 col6\" >0.195211</td>\n",
       "      <td id=\"T_2ec4e_row8_col7\" class=\"data row8 col7\" >0.233130</td>\n",
       "      <td id=\"T_2ec4e_row8_col8\" class=\"data row8 col8\" >0.404011</td>\n",
       "      <td id=\"T_2ec4e_row8_col9\" class=\"data row8 col9\" >0.002697</td>\n",
       "      <td id=\"T_2ec4e_row8_col10\" class=\"data row8 col10\" >13071081</td>\n",
       "      <td id=\"T_2ec4e_row8_col11\" class=\"data row8 col11\" >4846654734</td>\n",
       "      <td id=\"T_2ec4e_row8_col12\" class=\"data row8 col12\" >2131460</td>\n",
       "      <td id=\"T_2ec4e_row8_col13\" class=\"data row8 col13\" >543332912</td>\n",
       "    </tr>\n",
       "    <tr>\n",
       "      <th id=\"T_2ec4e_level0_row9\" class=\"row_heading level0 row9\" >9</th>\n",
       "      <td id=\"T_2ec4e_row9_col0\" class=\"data row9 col0\" >256</td>\n",
       "      <td id=\"T_2ec4e_row9_col1\" class=\"data row9 col1\" >127</td>\n",
       "      <td id=\"T_2ec4e_row9_col2\" class=\"data row9 col2\" >4</td>\n",
       "      <td id=\"T_2ec4e_row9_col3\" class=\"data row9 col3\" >conv2d_reference_c</td>\n",
       "      <td id=\"T_2ec4e_row9_col4\" class=\"data row9 col4\" >8877476268</td>\n",
       "      <td id=\"T_2ec4e_row9_col5\" class=\"data row9 col5\" >1736567333</td>\n",
       "      <td id=\"T_2ec4e_row9_col6\" class=\"data row9 col6\" >0.195615</td>\n",
       "      <td id=\"T_2ec4e_row9_col7\" class=\"data row9 col7\" >0.233129</td>\n",
       "      <td id=\"T_2ec4e_row9_col8\" class=\"data row9 col8\" >0.404845</td>\n",
       "      <td id=\"T_2ec4e_row9_col9\" class=\"data row9 col9\" >0.003337</td>\n",
       "      <td id=\"T_2ec4e_row9_col10\" class=\"data row9 col10\" >16174208</td>\n",
       "      <td id=\"T_2ec4e_row9_col11\" class=\"data row9 col11\" >4846646069</td>\n",
       "      <td id=\"T_2ec4e_row9_col12\" class=\"data row9 col12\" >2131622</td>\n",
       "      <td id=\"T_2ec4e_row9_col13\" class=\"data row9 col13\" >543329778</td>\n",
       "    </tr>\n",
       "    <tr>\n",
       "      <th id=\"T_2ec4e_level0_row10\" class=\"row_heading level0 row10\" >10</th>\n",
       "      <td id=\"T_2ec4e_row10_col0\" class=\"data row10 col0\" >256</td>\n",
       "      <td id=\"T_2ec4e_row10_col1\" class=\"data row10 col1\" >127</td>\n",
       "      <td id=\"T_2ec4e_row10_col2\" class=\"data row10 col2\" >8</td>\n",
       "      <td id=\"T_2ec4e_row10_col3\" class=\"data row10 col3\" >conv2d_solution_c</td>\n",
       "      <td id=\"T_2ec4e_row10_col4\" class=\"data row10 col4\" >8877504894</td>\n",
       "      <td id=\"T_2ec4e_row10_col5\" class=\"data row10 col5\" >1733546207</td>\n",
       "      <td id=\"T_2ec4e_row10_col6\" class=\"data row10 col6\" >0.195274</td>\n",
       "      <td id=\"T_2ec4e_row10_col7\" class=\"data row10 col7\" >0.233210</td>\n",
       "      <td id=\"T_2ec4e_row10_col8\" class=\"data row10 col8\" >0.404280</td>\n",
       "      <td id=\"T_2ec4e_row10_col9\" class=\"data row10 col9\" >0.001086</td>\n",
       "      <td id=\"T_2ec4e_row10_col10\" class=\"data row10 col10\" >5265547</td>\n",
       "      <td id=\"T_2ec4e_row10_col11\" class=\"data row10 col11\" >4846658061</td>\n",
       "      <td id=\"T_2ec4e_row10_col12\" class=\"data row10 col12\" >2132218</td>\n",
       "      <td id=\"T_2ec4e_row10_col13\" class=\"data row10 col13\" >543335267</td>\n",
       "    </tr>\n",
       "    <tr>\n",
       "      <th id=\"T_2ec4e_level0_row11\" class=\"row_heading level0 row11\" >11</th>\n",
       "      <td id=\"T_2ec4e_row11_col0\" class=\"data row11 col0\" >256</td>\n",
       "      <td id=\"T_2ec4e_row11_col1\" class=\"data row11 col1\" >127</td>\n",
       "      <td id=\"T_2ec4e_row11_col2\" class=\"data row11 col2\" >8</td>\n",
       "      <td id=\"T_2ec4e_row11_col3\" class=\"data row11 col3\" >conv2d_reference_c</td>\n",
       "      <td id=\"T_2ec4e_row11_col4\" class=\"data row11 col4\" >8877500903</td>\n",
       "      <td id=\"T_2ec4e_row11_col5\" class=\"data row11 col5\" >1745250952</td>\n",
       "      <td id=\"T_2ec4e_row11_col6\" class=\"data row11 col6\" >0.196593</td>\n",
       "      <td id=\"T_2ec4e_row11_col7\" class=\"data row11 col7\" >0.233129</td>\n",
       "      <td id=\"T_2ec4e_row11_col8\" class=\"data row11 col8\" >0.406869</td>\n",
       "      <td id=\"T_2ec4e_row11_col9\" class=\"data row11 col9\" >0.003068</td>\n",
       "      <td id=\"T_2ec4e_row11_col10\" class=\"data row11 col10\" >14868725</td>\n",
       "      <td id=\"T_2ec4e_row11_col11\" class=\"data row11 col11\" >4846656773</td>\n",
       "      <td id=\"T_2ec4e_row11_col12\" class=\"data row11 col12\" >2131518</td>\n",
       "      <td id=\"T_2ec4e_row11_col13\" class=\"data row11 col13\" >543333976</td>\n",
       "    </tr>\n",
       "  </tbody>\n",
       "</table>\n"
      ],
      "text/plain": [
       "<pandas.io.formats.style.Styler at 0x7fb61037a2b0>"
      ]
     },
     "metadata": {},
     "output_type": "display_data"
    }
   ],
   "source": [
    "df =render_csv(\"stats.csv\")\n",
    "display_mono(df)"
   ]
  },
  {
   "cell_type": "markdown",
   "metadata": {
    "deletable": false,
    "editable": false,
    "tags": []
   },
   "source": [
    "## Final Measurement"
   ]
  },
  {
   "cell_type": "markdown",
   "metadata": {
    "deletable": false,
    "editable": false,
    "tags": []
   },
   "source": [
    "Running the cell does just what the Gradescope autograder does.  And the cell below shows the name and target speedups for each benchmark.  This takes 1-2 minutes to run.\n",
    "\n",
    "\n",
    "<div class=\"alert alert-block alert-danger\">\n",
    "\n",
    "**Only Gradescope Counts** The scores produced here **do not** count.  Only gradescope counts.  The results here should match what Gradescope does, but I would test your solution on Gradescope well-ahead of the deadline to ensure your code is working like you expect.\n",
    "    \n",
    "</div>\n",
    "\n",
    "<div class=\"alert alert-block alert-danger\">\n",
    "\n",
    "**The autograder doesn't pass additional parameters**. You'll need to set up the optimal configurations your code in the best way possible.\n",
    "    \n",
    "</div>\n"
   ]
  },
  {
   "cell_type": "code",
   "execution_count": 9,
   "metadata": {
    "deletable": false,
    "editable": false,
    "tags": []
   },
   "outputs": [
    {
     "name": "stdout",
     "output_type": "stream",
     "text": [
      "mkdir -p build/ \n",
      "cp  conv2d_main.cpp build/conv2d_main.cpp\n",
      "g++-9  -DHAVE_LINUX_PERF_EVENT_H  -pthread -DHAVE_LINUX_PERF_EVENT_H -I/datahub/htseng/2023fa-cs203-parallelism-starter -g  -fopenmp -lm -pthread -lboost_program_options -L/usr/lib/ -lboost_system -ldl  -o build/conv2d_main.o -c build/conv2d_main.cpp\n",
      "mkdir -p build/ \n",
      "cp  conv2d.cpp build/conv2d.cpp\n",
      "g++-9  -DHAVE_LINUX_PERF_EVENT_H  -pthread -DHAVE_LINUX_PERF_EVENT_H -I/datahub/htseng/2023fa-cs203-parallelism-starter -g  -fopenmp -lm -pthread -lboost_program_options -L/usr/lib/ -lboost_system -ldl  -o build/conv2d.o -c build/conv2d.cpp\n",
      "g++-9 -pthread -DHAVE_LINUX_PERF_EVENT_H -I/datahub/htseng/2023fa-cs203-parallelism-starter -g  -fopenmp  build/conv2d_main.o  build/perfstats.o build/conv2d.o -o conv2d.exe\n",
      "./conv2d.exe -M 3300 -o bench.csv -t 4 -s 1024 -k 127 -i 1 -f conv2d_reference_c conv2d_solution_c\n",
      "registering function: conv2d_reference_c\n",
      "registering function: conv2d_solution_c\n",
      "Gonna run conv2d_reference_c\n",
      "Gonna run conv2d_solution_c\n",
      "Running: conv2d_reference_c\n",
      "Done execution: conv2d_reference_c\n",
      "Running: conv2d_solution_c\n",
      "Done execution: conv2d_solution_c\n",
      "./conv2d.exe -M 3300 -o correctness.csv -v -t 4 -s 1024 2048 -k 31 63 -i 1 -f conv2d_reference_c conv2d_solution_c\n",
      "registering function: conv2d_reference_c\n",
      "registering function: conv2d_solution_c\n",
      "Gonna run conv2d_reference_c\n",
      "Gonna run conv2d_solution_c\n",
      "Running: conv2d_reference_c\n",
      "Done execution: conv2d_reference_c\n",
      "Running: conv2d_solution_c\n",
      "Passed!!\n",
      "Done execution: conv2d_solution_c\n",
      "Running: conv2d_reference_c\n",
      "Done execution: conv2d_reference_c\n",
      "Running: conv2d_solution_c\n",
      "Passed!!\n",
      "Done execution: conv2d_solution_c\n",
      "Running: conv2d_reference_c\n",
      "Done execution: conv2d_reference_c\n",
      "Running: conv2d_solution_c\n",
      "Passed!!\n",
      "Done execution: conv2d_solution_c\n",
      "Running: conv2d_reference_c\n",
      "Done execution: conv2d_reference_c\n",
      "Running: conv2d_solution_c\n",
      "Passed!!\n",
      "Done execution: conv2d_solution_c\n"
     ]
    }
   ],
   "source": [
    "!rm -f build/conv2d*\n",
    "!cs203 job run \"make autograde\""
   ]
  },
  {
   "cell_type": "markdown",
   "metadata": {
    "deletable": false,
    "editable": false,
    "tags": []
   },
   "source": [
    "And run the autograder"
   ]
  },
  {
   "cell_type": "code",
   "execution_count": 11,
   "metadata": {
    "deletable": false,
    "tags": []
   },
   "outputs": [
    {
     "data": {
      "text/html": [
       "<style type=\"text/css\">\n",
       "#T_5d537_row0_col0, #T_5d537_row0_col1, #T_5d537_row0_col2, #T_5d537_row0_col3, #T_5d537_row0_col4, #T_5d537_row0_col5, #T_5d537_row0_col6, #T_5d537_row0_col7, #T_5d537_row0_col8, #T_5d537_row0_col9 {\n",
       "  font-family: monospace;\n",
       "}\n",
       "</style>\n",
       "<table id=\"T_5d537\">\n",
       "  <thead>\n",
       "    <tr>\n",
       "      <th class=\"blank level0\" >&nbsp;</th>\n",
       "      <th id=\"T_5d537_level0_col0\" class=\"col_heading level0 col0\" >label</th>\n",
       "      <th id=\"T_5d537_level0_col1\" class=\"col_heading level0 col1\" >size</th>\n",
       "      <th id=\"T_5d537_level0_col2\" class=\"col_heading level0 col2\" >k_size</th>\n",
       "      <th id=\"T_5d537_level0_col3\" class=\"col_heading level0 col3\" >target_speedup</th>\n",
       "      <th id=\"T_5d537_level0_col4\" class=\"col_heading level0 col4\" >reference_ET</th>\n",
       "      <th id=\"T_5d537_level0_col5\" class=\"col_heading level0 col5\" >ET</th>\n",
       "      <th id=\"T_5d537_level0_col6\" class=\"col_heading level0 col6\" >speedup</th>\n",
       "      <th id=\"T_5d537_level0_col7\" class=\"col_heading level0 col7\" >bench_score</th>\n",
       "      <th id=\"T_5d537_level0_col8\" class=\"col_heading level0 col8\" >score</th>\n",
       "      <th id=\"T_5d537_level0_col9\" class=\"col_heading level0 col9\" >capped_score</th>\n",
       "    </tr>\n",
       "  </thead>\n",
       "  <tbody>\n",
       "    <tr>\n",
       "      <th id=\"T_5d537_level0_row0\" class=\"row_heading level0 row0\" >0</th>\n",
       "      <td id=\"T_5d537_row0_col0\" class=\"data row0 col0\" >conv2d_solution_c 1024 127</td>\n",
       "      <td id=\"T_5d537_row0_col1\" class=\"data row0 col1\" >1024</td>\n",
       "      <td id=\"T_5d537_row0_col2\" class=\"data row0 col2\" >127</td>\n",
       "      <td id=\"T_5d537_row0_col3\" class=\"data row0 col3\" >45</td>\n",
       "      <td id=\"T_5d537_row0_col4\" class=\"data row0 col4\" >29.700000</td>\n",
       "      <td id=\"T_5d537_row0_col5\" class=\"data row0 col5\" >20.154425</td>\n",
       "      <td id=\"T_5d537_row0_col6\" class=\"data row0 col6\" >1.473622</td>\n",
       "      <td id=\"T_5d537_row0_col7\" class=\"data row0 col7\" >3.274715</td>\n",
       "      <td id=\"T_5d537_row0_col8\" class=\"data row0 col8\" >3.270000</td>\n",
       "      <td id=\"T_5d537_row0_col9\" class=\"data row0 col9\" >3.270000</td>\n",
       "    </tr>\n",
       "  </tbody>\n",
       "</table>\n"
      ],
      "text/plain": [
       "<pandas.io.formats.style.Styler at 0x7fb5d5ecdbb0>"
      ]
     },
     "metadata": {},
     "output_type": "display_data"
    },
    {
     "name": "stdout",
     "output_type": "stream",
     "text": [
      "total points (performance): 3.27\n"
     ]
    },
    {
     "data": {
      "text/html": [
       "<style type=\"text/css\">\n",
       "#T_d5086_row0_col0, #T_d5086_row0_col1, #T_d5086_row0_col2, #T_d5086_row0_col3, #T_d5086_row0_col4, #T_d5086_row0_col5, #T_d5086_row0_col6, #T_d5086_row0_col7, #T_d5086_row0_col8, #T_d5086_row0_col9, #T_d5086_row0_col10, #T_d5086_row0_col11, #T_d5086_row0_col12, #T_d5086_row0_col13, #T_d5086_row0_col14, #T_d5086_row1_col0, #T_d5086_row1_col1, #T_d5086_row1_col2, #T_d5086_row1_col3, #T_d5086_row1_col4, #T_d5086_row1_col5, #T_d5086_row1_col6, #T_d5086_row1_col7, #T_d5086_row1_col8, #T_d5086_row1_col9, #T_d5086_row1_col10, #T_d5086_row1_col11, #T_d5086_row1_col12, #T_d5086_row1_col13, #T_d5086_row1_col14, #T_d5086_row2_col0, #T_d5086_row2_col1, #T_d5086_row2_col2, #T_d5086_row2_col3, #T_d5086_row2_col4, #T_d5086_row2_col5, #T_d5086_row2_col6, #T_d5086_row2_col7, #T_d5086_row2_col8, #T_d5086_row2_col9, #T_d5086_row2_col10, #T_d5086_row2_col11, #T_d5086_row2_col12, #T_d5086_row2_col13, #T_d5086_row2_col14, #T_d5086_row3_col0, #T_d5086_row3_col1, #T_d5086_row3_col2, #T_d5086_row3_col3, #T_d5086_row3_col4, #T_d5086_row3_col5, #T_d5086_row3_col6, #T_d5086_row3_col7, #T_d5086_row3_col8, #T_d5086_row3_col9, #T_d5086_row3_col10, #T_d5086_row3_col11, #T_d5086_row3_col12, #T_d5086_row3_col13, #T_d5086_row3_col14, #T_d5086_row4_col0, #T_d5086_row4_col1, #T_d5086_row4_col2, #T_d5086_row4_col3, #T_d5086_row4_col4, #T_d5086_row4_col5, #T_d5086_row4_col6, #T_d5086_row4_col7, #T_d5086_row4_col8, #T_d5086_row4_col9, #T_d5086_row4_col10, #T_d5086_row4_col11, #T_d5086_row4_col12, #T_d5086_row4_col13, #T_d5086_row4_col14, #T_d5086_row5_col0, #T_d5086_row5_col1, #T_d5086_row5_col2, #T_d5086_row5_col3, #T_d5086_row5_col4, #T_d5086_row5_col5, #T_d5086_row5_col6, #T_d5086_row5_col7, #T_d5086_row5_col8, #T_d5086_row5_col9, #T_d5086_row5_col10, #T_d5086_row5_col11, #T_d5086_row5_col12, #T_d5086_row5_col13, #T_d5086_row5_col14, #T_d5086_row6_col0, #T_d5086_row6_col1, #T_d5086_row6_col2, #T_d5086_row6_col3, #T_d5086_row6_col4, #T_d5086_row6_col5, #T_d5086_row6_col6, #T_d5086_row6_col7, #T_d5086_row6_col8, #T_d5086_row6_col9, #T_d5086_row6_col10, #T_d5086_row6_col11, #T_d5086_row6_col12, #T_d5086_row6_col13, #T_d5086_row6_col14, #T_d5086_row7_col0, #T_d5086_row7_col1, #T_d5086_row7_col2, #T_d5086_row7_col3, #T_d5086_row7_col4, #T_d5086_row7_col5, #T_d5086_row7_col6, #T_d5086_row7_col7, #T_d5086_row7_col8, #T_d5086_row7_col9, #T_d5086_row7_col10, #T_d5086_row7_col11, #T_d5086_row7_col12, #T_d5086_row7_col13, #T_d5086_row7_col14 {\n",
       "  font-family: monospace;\n",
       "}\n",
       "</style>\n",
       "<table id=\"T_d5086\">\n",
       "  <thead>\n",
       "    <tr>\n",
       "      <th class=\"blank level0\" >&nbsp;</th>\n",
       "      <th id=\"T_d5086_level0_col0\" class=\"col_heading level0 col0\" >size</th>\n",
       "      <th id=\"T_d5086_level0_col1\" class=\"col_heading level0 col1\" >k_size</th>\n",
       "      <th id=\"T_d5086_level0_col2\" class=\"col_heading level0 col2\" >threads</th>\n",
       "      <th id=\"T_d5086_level0_col3\" class=\"col_heading level0 col3\" >function</th>\n",
       "      <th id=\"T_d5086_level0_col4\" class=\"col_heading level0 col4\" >IC</th>\n",
       "      <th id=\"T_d5086_level0_col5\" class=\"col_heading level0 col5\" >Cycles</th>\n",
       "      <th id=\"T_d5086_level0_col6\" class=\"col_heading level0 col6\" >CPI</th>\n",
       "      <th id=\"T_d5086_level0_col7\" class=\"col_heading level0 col7\" >CT</th>\n",
       "      <th id=\"T_d5086_level0_col8\" class=\"col_heading level0 col8\" >ET</th>\n",
       "      <th id=\"T_d5086_level0_col9\" class=\"col_heading level0 col9\" >L1_dcache_miss_rate</th>\n",
       "      <th id=\"T_d5086_level0_col10\" class=\"col_heading level0 col10\" >L1_dcache_misses</th>\n",
       "      <th id=\"T_d5086_level0_col11\" class=\"col_heading level0 col11\" >L1_dcache_accesses</th>\n",
       "      <th id=\"T_d5086_level0_col12\" class=\"col_heading level0 col12\" >branch_mispred</th>\n",
       "      <th id=\"T_d5086_level0_col13\" class=\"col_heading level0 col13\" >branches</th>\n",
       "      <th id=\"T_d5086_level0_col14\" class=\"col_heading level0 col14\" >correctness</th>\n",
       "    </tr>\n",
       "  </thead>\n",
       "  <tbody>\n",
       "    <tr>\n",
       "      <th id=\"T_d5086_level0_row0\" class=\"row_heading level0 row0\" >0</th>\n",
       "      <td id=\"T_d5086_row0_col0\" class=\"data row0 col0\" >1024</td>\n",
       "      <td id=\"T_d5086_row0_col1\" class=\"data row0 col1\" >31</td>\n",
       "      <td id=\"T_d5086_row0_col2\" class=\"data row0 col2\" >4</td>\n",
       "      <td id=\"T_d5086_row0_col3\" class=\"data row0 col3\" >conv2d_reference_c</td>\n",
       "      <td id=\"T_d5086_row0_col4\" class=\"data row0 col4\" >31578290319</td>\n",
       "      <td id=\"T_d5086_row0_col5\" class=\"data row0 col5\" >7011369995</td>\n",
       "      <td id=\"T_d5086_row0_col6\" class=\"data row0 col6\" >0.222031</td>\n",
       "      <td id=\"T_d5086_row0_col7\" class=\"data row0 col7\" >0.233091</td>\n",
       "      <td id=\"T_d5086_row0_col8\" class=\"data row0 col8\" >1.634285</td>\n",
       "      <td id=\"T_d5086_row0_col9\" class=\"data row0 col9\" >0.002200</td>\n",
       "      <td id=\"T_d5086_row0_col10\" class=\"data row0 col10\" >38043597</td>\n",
       "      <td id=\"T_d5086_row0_col11\" class=\"data row0 col11\" >17289101350</td>\n",
       "      <td id=\"T_d5086_row0_col12\" class=\"data row0 col12\" >31556604</td>\n",
       "      <td id=\"T_d5086_row0_col13\" class=\"data row0 col13\" >1991289401</td>\n",
       "      <td id=\"T_d5086_row0_col14\" class=\"data row0 col14\" >0</td>\n",
       "    </tr>\n",
       "    <tr>\n",
       "      <th id=\"T_d5086_level0_row1\" class=\"row_heading level0 row1\" >1</th>\n",
       "      <td id=\"T_d5086_row1_col0\" class=\"data row1 col0\" >1024</td>\n",
       "      <td id=\"T_d5086_row1_col1\" class=\"data row1 col1\" >31</td>\n",
       "      <td id=\"T_d5086_row1_col2\" class=\"data row1 col2\" >4</td>\n",
       "      <td id=\"T_d5086_row1_col3\" class=\"data row1 col3\" >conv2d_solution_c</td>\n",
       "      <td id=\"T_d5086_row1_col4\" class=\"data row1 col4\" >31578340132</td>\n",
       "      <td id=\"T_d5086_row1_col5\" class=\"data row1 col5\" >7025085665</td>\n",
       "      <td id=\"T_d5086_row1_col6\" class=\"data row1 col6\" >0.222465</td>\n",
       "      <td id=\"T_d5086_row1_col7\" class=\"data row1 col7\" >0.233128</td>\n",
       "      <td id=\"T_d5086_row1_col8\" class=\"data row1 col8\" >1.637746</td>\n",
       "      <td id=\"T_d5086_row1_col9\" class=\"data row1 col9\" >0.005293</td>\n",
       "      <td id=\"T_d5086_row1_col10\" class=\"data row1 col10\" >91510580</td>\n",
       "      <td id=\"T_d5086_row1_col11\" class=\"data row1 col11\" >17289123987</td>\n",
       "      <td id=\"T_d5086_row1_col12\" class=\"data row1 col12\" >31554310</td>\n",
       "      <td id=\"T_d5086_row1_col13\" class=\"data row1 col13\" >1991297825</td>\n",
       "      <td id=\"T_d5086_row1_col14\" class=\"data row1 col14\" >1</td>\n",
       "    </tr>\n",
       "    <tr>\n",
       "      <th id=\"T_d5086_level0_row2\" class=\"row_heading level0 row2\" >2</th>\n",
       "      <td id=\"T_d5086_row2_col0\" class=\"data row2 col0\" >1024</td>\n",
       "      <td id=\"T_d5086_row2_col1\" class=\"data row2 col1\" >63</td>\n",
       "      <td id=\"T_d5086_row2_col2\" class=\"data row2 col2\" >4</td>\n",
       "      <td id=\"T_d5086_row2_col3\" class=\"data row2 col3\" >conv2d_reference_c</td>\n",
       "      <td id=\"T_d5086_row2_col4\" class=\"data row2 col4\" >121520296576</td>\n",
       "      <td id=\"T_d5086_row2_col5\" class=\"data row2 col5\" >25003576496</td>\n",
       "      <td id=\"T_d5086_row2_col6\" class=\"data row2 col6\" >0.205756</td>\n",
       "      <td id=\"T_d5086_row2_col7\" class=\"data row2 col7\" >0.233081</td>\n",
       "      <td id=\"T_d5086_row2_col8\" class=\"data row2 col8\" >5.827848</td>\n",
       "      <td id=\"T_d5086_row2_col9\" class=\"data row2 col9\" >0.001759</td>\n",
       "      <td id=\"T_d5086_row2_col10\" class=\"data row2 col10\" >116811777</td>\n",
       "      <td id=\"T_d5086_row2_col11\" class=\"data row2 col11\" >66405653485</td>\n",
       "      <td id=\"T_d5086_row2_col12\" class=\"data row2 col12\" >59110273</td>\n",
       "      <td id=\"T_d5086_row2_col13\" class=\"data row2 col13\" >7510653062</td>\n",
       "      <td id=\"T_d5086_row2_col14\" class=\"data row2 col14\" >0</td>\n",
       "    </tr>\n",
       "    <tr>\n",
       "      <th id=\"T_d5086_level0_row3\" class=\"row_heading level0 row3\" >3</th>\n",
       "      <td id=\"T_d5086_row3_col0\" class=\"data row3 col0\" >1024</td>\n",
       "      <td id=\"T_d5086_row3_col1\" class=\"data row3 col1\" >63</td>\n",
       "      <td id=\"T_d5086_row3_col2\" class=\"data row3 col2\" >4</td>\n",
       "      <td id=\"T_d5086_row3_col3\" class=\"data row3 col3\" >conv2d_solution_c</td>\n",
       "      <td id=\"T_d5086_row3_col4\" class=\"data row3 col4\" >121520355005</td>\n",
       "      <td id=\"T_d5086_row3_col5\" class=\"data row3 col5\" >24796387340</td>\n",
       "      <td id=\"T_d5086_row3_col6\" class=\"data row3 col6\" >0.204051</td>\n",
       "      <td id=\"T_d5086_row3_col7\" class=\"data row3 col7\" >0.233086</td>\n",
       "      <td id=\"T_d5086_row3_col8\" class=\"data row3 col8\" >5.779688</td>\n",
       "      <td id=\"T_d5086_row3_col9\" class=\"data row3 col9\" >0.001402</td>\n",
       "      <td id=\"T_d5086_row3_col10\" class=\"data row3 col10\" >93071290</td>\n",
       "      <td id=\"T_d5086_row3_col11\" class=\"data row3 col11\" >66405670293</td>\n",
       "      <td id=\"T_d5086_row3_col12\" class=\"data row3 col12\" >59110820</td>\n",
       "      <td id=\"T_d5086_row3_col13\" class=\"data row3 col13\" >7510663329</td>\n",
       "      <td id=\"T_d5086_row3_col14\" class=\"data row3 col14\" >1</td>\n",
       "    </tr>\n",
       "    <tr>\n",
       "      <th id=\"T_d5086_level0_row4\" class=\"row_heading level0 row4\" >4</th>\n",
       "      <td id=\"T_d5086_row4_col0\" class=\"data row4 col0\" >2048</td>\n",
       "      <td id=\"T_d5086_row4_col1\" class=\"data row4 col1\" >31</td>\n",
       "      <td id=\"T_d5086_row4_col2\" class=\"data row4 col2\" >4</td>\n",
       "      <td id=\"T_d5086_row4_col3\" class=\"data row4 col3\" >conv2d_reference_c</td>\n",
       "      <td id=\"T_d5086_row4_col4\" class=\"data row4 col4\" >130287611787</td>\n",
       "      <td id=\"T_d5086_row4_col5\" class=\"data row4 col5\" >29348429272</td>\n",
       "      <td id=\"T_d5086_row4_col6\" class=\"data row4 col6\" >0.225259</td>\n",
       "      <td id=\"T_d5086_row4_col7\" class=\"data row4 col7\" >0.233078</td>\n",
       "      <td id=\"T_d5086_row4_col8\" class=\"data row4 col8\" >6.840480</td>\n",
       "      <td id=\"T_d5086_row4_col9\" class=\"data row4 col9\" >0.002498</td>\n",
       "      <td id=\"T_d5086_row4_col10\" class=\"data row4 col10\" >178167227</td>\n",
       "      <td id=\"T_d5086_row4_col11\" class=\"data row4 col11\" >71332325374</td>\n",
       "      <td id=\"T_d5086_row4_col12\" class=\"data row4 col12\" >130185953</td>\n",
       "      <td id=\"T_d5086_row4_col13\" class=\"data row4 col13\" >8215804225</td>\n",
       "      <td id=\"T_d5086_row4_col14\" class=\"data row4 col14\" >0</td>\n",
       "    </tr>\n",
       "    <tr>\n",
       "      <th id=\"T_d5086_level0_row5\" class=\"row_heading level0 row5\" >5</th>\n",
       "      <td id=\"T_d5086_row5_col0\" class=\"data row5 col0\" >2048</td>\n",
       "      <td id=\"T_d5086_row5_col1\" class=\"data row5 col1\" >31</td>\n",
       "      <td id=\"T_d5086_row5_col2\" class=\"data row5 col2\" >4</td>\n",
       "      <td id=\"T_d5086_row5_col3\" class=\"data row5 col3\" >conv2d_solution_c</td>\n",
       "      <td id=\"T_d5086_row5_col4\" class=\"data row5 col4\" >130287548624</td>\n",
       "      <td id=\"T_d5086_row5_col5\" class=\"data row5 col5\" >29092207469</td>\n",
       "      <td id=\"T_d5086_row5_col6\" class=\"data row5 col6\" >0.223292</td>\n",
       "      <td id=\"T_d5086_row5_col7\" class=\"data row5 col7\" >0.233076</td>\n",
       "      <td id=\"T_d5086_row5_col8\" class=\"data row5 col8\" >6.780696</td>\n",
       "      <td id=\"T_d5086_row5_col9\" class=\"data row5 col9\" >0.002373</td>\n",
       "      <td id=\"T_d5086_row5_col10\" class=\"data row5 col10\" >169295384</td>\n",
       "      <td id=\"T_d5086_row5_col11\" class=\"data row5 col11\" >71332295591</td>\n",
       "      <td id=\"T_d5086_row5_col12\" class=\"data row5 col12\" >130183921</td>\n",
       "      <td id=\"T_d5086_row5_col13\" class=\"data row5 col13\" >8215794128</td>\n",
       "      <td id=\"T_d5086_row5_col14\" class=\"data row5 col14\" >1</td>\n",
       "    </tr>\n",
       "    <tr>\n",
       "      <th id=\"T_d5086_level0_row6\" class=\"row_heading level0 row6\" >6</th>\n",
       "      <td id=\"T_d5086_row6_col0\" class=\"data row6 col0\" >2048</td>\n",
       "      <td id=\"T_d5086_row6_col1\" class=\"data row6 col1\" >63</td>\n",
       "      <td id=\"T_d5086_row6_col2\" class=\"data row6 col2\" >4</td>\n",
       "      <td id=\"T_d5086_row6_col3\" class=\"data row6 col3\" >conv2d_reference_c</td>\n",
       "      <td id=\"T_d5086_row6_col4\" class=\"data row6 col4\" >518470271297</td>\n",
       "      <td id=\"T_d5086_row6_col5\" class=\"data row6 col5\" >107935599397</td>\n",
       "      <td id=\"T_d5086_row6_col6\" class=\"data row6 col6\" >0.208181</td>\n",
       "      <td id=\"T_d5086_row6_col7\" class=\"data row6 col7\" >0.233074</td>\n",
       "      <td id=\"T_d5086_row6_col8\" class=\"data row6 col8\" >25.156978</td>\n",
       "      <td id=\"T_d5086_row6_col9\" class=\"data row6 col9\" >0.001529</td>\n",
       "      <td id=\"T_d5086_row6_col10\" class=\"data row6 col10\" >433297308</td>\n",
       "      <td id=\"T_d5086_row6_col11\" class=\"data row6 col11\" >283321681057</td>\n",
       "      <td id=\"T_d5086_row6_col12\" class=\"data row6 col12\" >252187594</td>\n",
       "      <td id=\"T_d5086_row6_col13\" class=\"data row6 col13\" >32044534041</td>\n",
       "      <td id=\"T_d5086_row6_col14\" class=\"data row6 col14\" >0</td>\n",
       "    </tr>\n",
       "    <tr>\n",
       "      <th id=\"T_d5086_level0_row7\" class=\"row_heading level0 row7\" >7</th>\n",
       "      <td id=\"T_d5086_row7_col0\" class=\"data row7 col0\" >2048</td>\n",
       "      <td id=\"T_d5086_row7_col1\" class=\"data row7 col1\" >63</td>\n",
       "      <td id=\"T_d5086_row7_col2\" class=\"data row7 col2\" >4</td>\n",
       "      <td id=\"T_d5086_row7_col3\" class=\"data row7 col3\" >conv2d_solution_c</td>\n",
       "      <td id=\"T_d5086_row7_col4\" class=\"data row7 col4\" >518471705572</td>\n",
       "      <td id=\"T_d5086_row7_col5\" class=\"data row7 col5\" >108035971696</td>\n",
       "      <td id=\"T_d5086_row7_col6\" class=\"data row7 col6\" >0.208374</td>\n",
       "      <td id=\"T_d5086_row7_col7\" class=\"data row7 col7\" >0.233562</td>\n",
       "      <td id=\"T_d5086_row7_col8\" class=\"data row7 col8\" >25.233050</td>\n",
       "      <td id=\"T_d5086_row7_col9\" class=\"data row7 col9\" >0.001472</td>\n",
       "      <td id=\"T_d5086_row7_col10\" class=\"data row7 col10\" >417133258</td>\n",
       "      <td id=\"T_d5086_row7_col11\" class=\"data row7 col11\" >283322176256</td>\n",
       "      <td id=\"T_d5086_row7_col12\" class=\"data row7 col12\" >252190178</td>\n",
       "      <td id=\"T_d5086_row7_col13\" class=\"data row7 col13\" >32044814979</td>\n",
       "      <td id=\"T_d5086_row7_col14\" class=\"data row7 col14\" >1</td>\n",
       "    </tr>\n",
       "  </tbody>\n",
       "</table>\n"
      ],
      "text/plain": [
       "<pandas.io.formats.style.Styler at 0x7fb5d5e1ca60>"
      ]
     },
     "metadata": {},
     "output_type": "display_data"
    },
    {
     "name": "stdout",
     "output_type": "stream",
     "text": [
      "correctness points: 100.0\n"
     ]
    }
   ],
   "source": [
    "!mkdir -p autograde; cp bench.csv autograde; cp correctness.csv autograde\n",
    "!./autograde.py --submission autograde --results autograde.json\n",
    "from autograde import compute_all_scores\n",
    "df = compute_all_scores(dir=\"autograde\")\n",
    "display_mono(df)\n",
    "print(f\"total points (performance): {round(sum(df['capped_score']), 2)}\")\n",
    "display_mono(render_csv(\"correctness.csv\"))\n",
    "corrects = compute_correctness(dir=\"autograde\")\n",
    "print(f\"correctness points: {corrects/4*100}\")"
   ]
  },
  {
   "cell_type": "markdown",
   "metadata": {
    "deletable": false,
    "editable": false,
    "tags": []
   },
   "source": [
    "The \"capped_score\" column contains the number of points you'll receive.\n",
    "\n",
    "And see the autograder's output like this:"
   ]
  },
  {
   "cell_type": "code",
   "execution_count": null,
   "metadata": {
    "deletable": false,
    "editable": false,
    "tags": []
   },
   "outputs": [],
   "source": [
    "render_code(\"autograde.json\")"
   ]
  },
  {
   "cell_type": "markdown",
   "metadata": {
    "deletable": false,
    "editable": false,
    "tags": []
   },
   "source": [
    "Most of it is internal stuff that gradscope needs, but the key parts are the `score`, `max_score`, and `output` fields.\n",
    "\n",
    "All that's left is commit your code:"
   ]
  },
  {
   "cell_type": "code",
   "execution_count": null,
   "metadata": {
    "deletable": false,
    "editable": false,
    "tags": []
   },
   "outputs": [],
   "source": [
    "!git commit -am \"Solution to the assignment.\"\n",
    "!git push"
   ]
  },
  {
   "cell_type": "markdown",
   "metadata": {
    "deletable": false,
    "tags": []
   },
   "source": [
    "If `git push` asks for your username, you'll need to push from the command line.\n",
    "\n",
    "If `git commit` tells you have uncommitted files, that's not a problem. \n",
    "\n",
    "If `git commit` tell you something like:\n",
    "\n",
    "```\n",
    "*** Please tell me who you are.\n",
    "\n",
    "Run\n",
    "\n",
    "git config --global user.email \"you@example.com\"\n",
    "git config --global user.name \"Your Name\"\n",
    "\n",
    "to set your account's default identity.\n",
    "Omit --global to set the identity only in this repository.\n",
    "\n",
    "fatal: unable to auto-detect email address (got 'prcheng@dsmlp-jupyter-prcheng.(none)')\n",
    "Warning: Permanently added the RSA host key for IP address '140.82.112.3' to the list of known hosts.\n",
    "Everything up-to-date\n",
    "```\n",
    "\n",
    "Then you can do (but fill in your @ucr.edu email and your name):"
   ]
  },
  {
   "cell_type": "code",
   "execution_count": null,
   "metadata": {
    "cs203.is_response": true,
    "deletable": false,
    "editable": true
   },
   "outputs": [],
   "source": [
    "!git config --global user.email \"you@example.com\"\n",
    "!git config --global user.name \"Your Name\""
   ]
  },
  {
   "cell_type": "markdown",
   "metadata": {
    "deletable": false,
    "tags": []
   },
   "source": [
    "# Recap"
   ]
  },
  {
   "cell_type": "markdown",
   "metadata": {
    "deletable": false,
    "tags": []
   },
   "source": [
    "This assignment completes our tour of exploiting modern processor (multi-threaded processors) features.  It explored what's required to exploit thread-level parallelism. It shows examples achieving better TLPs is really difficult -- coherency, consistency, locks ..."
   ]
  },
  {
   "cell_type": "markdown",
   "metadata": {
    "deletable": false,
    "editable": false,
    "tags": []
   },
   "source": [
    "# Turning In the Assignment"
   ]
  },
  {
   "cell_type": "markdown",
   "metadata": {
    "deletable": false,
    "editable": false,
    "tags": []
   },
   "source": [
    "For each assignment, there are two different assignments on gradescope:\n",
    "\n",
    "1.  The assignment notebook.\n",
    "2.  The programming assignment.\n",
    "3.  A post-assignment survey which is embedded below.\n",
    "\n",
    "<div class=\"alert alert-block alert-danger\">\n",
    "\n",
    "**NOTE:** Filling out the form above _before_ the deadline is the _only_ mechanism avaiassignmentle to receive credit without turning in the assignment on time.\n",
    "    \n",
    "</div>\n",
    "\n",
    "If it's more than a day before the deadline, you can reach out via Piazza and hopefully we can get it sorted out.\n",
    "## The Note Book\n",
    "\n",
    "You need to turn in your assignment notebook and your programming assignment separately. \n",
    "\n",
    "After you complete the assignment, you will turn it in by creating a version of the notebook that only contains your answers and then printing that to a pdf.\n",
    "\n",
    "**Step 1:**  Save your workbook!!!"
   ]
  },
  {
   "cell_type": "code",
   "execution_count": null,
   "metadata": {
    "deletable": false,
    "editable": false,
    "tags": []
   },
   "outputs": [],
   "source": [
    "!for i in 1 2 3 4 5; do echo Save your notebook!; sleep 1; done"
   ]
  },
  {
   "cell_type": "markdown",
   "metadata": {
    "deletable": false,
    "editable": false,
    "tags": []
   },
   "source": [
    "**Step 2:**  Run this command:"
   ]
  },
  {
   "cell_type": "code",
   "execution_count": null,
   "metadata": {
    "deletable": false,
    "editable": false,
    "tags": []
   },
   "outputs": [],
   "source": [
    "!cs203 turnin Assignment.ipynb\n",
    "!ls -lh Assignment.turnin.ipynb"
   ]
  },
  {
   "cell_type": "markdown",
   "metadata": {
    "deletable": false,
    "editable": false,
    "tags": []
   },
   "source": [
    "The date in the above file listing should show that you just created `Assignment.turnin.ipynb`\n",
    "\n",
    "**Step 3:**  Click on this link to open it: [./Assignment.turnin.ipynb](./Assignment.turnin.ipynb)\n",
    "\n",
    "\n",
    "**Step 4:**  Select \"Save and export notebook as\" from _your jupyterhub's_ \"file\" menu and select \"PDF\".\n",
    "\n",
    "**Step 5:**  Make sure all your answers are visible and not cut off the side of the page.\n",
    "\n",
    "**Step 6:**  Turn in that PDF via gradescope."
   ]
  },
  {
   "cell_type": "markdown",
   "metadata": {
    "deletable": false,
    "editable": false,
    "tags": []
   },
   "source": [
    "## The Programming Assignment\n",
    "\n",
    "You'll turn in your programming assignment by providing gradescope with your github repo.   It'll run the autograder and return the results."
   ]
  },
  {
   "cell_type": "markdown",
   "metadata": {
    "deletable": false,
    "editable": false,
    "tags": []
   },
   "source": [
    "\n",
    "## Post-assignment Survey\n",
    "\n",
    "Please fill out this survey when you've finished the assignment.  You can only submit once.  Be sure to press \"submit\", your answers won't be saved in the notebook.\n",
    "\n",
    "https://forms.gle/xcBXm79Uxt673iC57\n"
   ]
  },
  {
   "cell_type": "code",
   "execution_count": null,
   "metadata": {},
   "outputs": [],
   "source": []
  }
 ],
 "metadata": {
  "celltoolbar": "Initialization Cell",
  "kernelspec": {
   "display_name": "Python 3 (ipykernel)",
   "language": "python",
   "name": "python3"
  },
  "language_info": {
   "codemirror_mode": {
    "name": "ipython",
    "version": 3
   },
   "file_extension": ".py",
   "mimetype": "text/x-python",
   "name": "python",
   "nbconvert_exporter": "python",
   "pygments_lexer": "ipython3",
   "version": "3.8.10"
  },
  "toc": {
   "base_numbering": 1,
   "nav_menu": {},
   "number_sections": true,
   "sideBar": true,
   "skip_h1_title": false,
   "title_cell": "Table of Contents",
   "title_sidebar": "Contents",
   "toc_cell": false,
   "toc_position": {
    "height": "calc(100% - 180px)",
    "left": "10px",
    "top": "150px",
    "width": "335px"
   },
   "toc_section_display": true,
   "toc_window_display": true
  },
  "toc-autonumbering": true,
  "widgets": {
   "application/vnd.jupyter.widget-state+json": {
    "state": {},
    "version_major": 2,
    "version_minor": 0
   }
  }
 },
 "nbformat": 4,
 "nbformat_minor": 4
}
